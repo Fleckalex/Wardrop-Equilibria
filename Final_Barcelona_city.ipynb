{
 "cells": [
  {
   "cell_type": "markdown",
   "metadata": {},
   "source": [
    "# Implementations for Barcelona Network"
   ]
  },
  {
   "cell_type": "markdown",
   "metadata": {},
   "source": [
    "These implementations are part of the Bachelor Thesis Computing Traffic Equilibria using Nearest Extreme Point Oracle. All of the implementations below besides the functions used to import and process the data, have been done by Alexander Fleck, and are to be understood as supporting material for the aforementioned thesis."
   ]
  },
  {
   "cell_type": "code",
   "execution_count": 1,
   "metadata": {},
   "outputs": [
    {
     "ename": "ModuleNotFoundError",
     "evalue": "No module named 'openmatrix'",
     "output_type": "error",
     "traceback": [
      "\u001b[1;31m---------------------------------------------------------------------------\u001b[0m",
      "\u001b[1;31mModuleNotFoundError\u001b[0m                       Traceback (most recent call last)",
      "\u001b[1;32m<ipython-input-1-4f178d4deedd>\u001b[0m in \u001b[0;36m<module>\u001b[1;34m\u001b[0m\n\u001b[0;32m      3\u001b[0m \u001b[1;32mimport\u001b[0m \u001b[0mnumpy\u001b[0m \u001b[1;32mas\u001b[0m \u001b[0mnp\u001b[0m\u001b[1;33m\u001b[0m\u001b[1;33m\u001b[0m\u001b[0m\n\u001b[0;32m      4\u001b[0m \u001b[1;32mimport\u001b[0m \u001b[0mpandas\u001b[0m \u001b[1;32mas\u001b[0m \u001b[0mpd\u001b[0m\u001b[1;33m\u001b[0m\u001b[1;33m\u001b[0m\u001b[0m\n\u001b[1;32m----> 5\u001b[1;33m \u001b[1;32mimport\u001b[0m \u001b[0mopenmatrix\u001b[0m \u001b[1;32mas\u001b[0m \u001b[0momx\u001b[0m\u001b[1;33m\u001b[0m\u001b[1;33m\u001b[0m\u001b[0m\n\u001b[0m\u001b[0;32m      6\u001b[0m \u001b[1;32mimport\u001b[0m \u001b[0mmatplotlib\u001b[0m\u001b[1;33m.\u001b[0m\u001b[0mpyplot\u001b[0m \u001b[1;32mas\u001b[0m \u001b[0mplt\u001b[0m\u001b[1;33m\u001b[0m\u001b[1;33m\u001b[0m\u001b[0m\n",
      "\u001b[1;31mModuleNotFoundError\u001b[0m: No module named 'openmatrix'"
     ]
    }
   ],
   "source": [
    "import os\n",
    "import sys\n",
    "import numpy as np\n",
    "import pandas as pd\n",
    "import openmatrix as omx\n",
    "import matplotlib.pyplot as plt "
   ]
  },
  {
   "cell_type": "code",
   "execution_count": null,
   "metadata": {},
   "outputs": [],
   "source": [
    "# Assume you have not changed the relative paths after cloning the repository\n",
    "root = os.path.dirname(os.path.abspath('.'))\n",
    "root"
   ]
  },
  {
   "cell_type": "code",
   "execution_count": null,
   "metadata": {},
   "outputs": [],
   "source": [
    "# We list all folders available, most of which are TNTP instances\n",
    "folders = [x for x in os.listdir(root)[1:] if os.path.isdir(os.path.join(root, x))]"
   ]
  },
  {
   "cell_type": "code",
   "execution_count": null,
   "metadata": {},
   "outputs": [],
   "source": [
    "# Function to import OMX matrices\n",
    "def import_matrix(matfile):\n",
    "    f = open(matfile, 'r')\n",
    "    all_rows = f.read()\n",
    "    blocks = all_rows.split('Origin')[1:]\n",
    "    matrix = {}\n",
    "    for k in range(len(blocks)):\n",
    "        orig = blocks[k].split('\\n')\n",
    "        dests = orig[1:]\n",
    "        orig=int(orig[0])\n",
    "\n",
    "        d = [eval('{'+a.replace(';',',').replace(' ','') +'}') for a in dests]\n",
    "        destinations = {}\n",
    "        for i in d:\n",
    "            destinations = {**destinations, **i}\n",
    "        matrix[orig] = destinations\n",
    "    zones = max(matrix.keys())\n",
    "    mat = np.zeros((zones, zones))\n",
    "    for i in range(zones):\n",
    "        for j in range(zones):\n",
    "            # We map values to a index i-1, as Numpy is base 0\n",
    "            mat[i, j] = matrix.get(i+1,{}).get(j+1,0)\n",
    "\n",
    "    index = np.arange(zones) + 1\n",
    "    return mat\n",
    "   "
   ]
  },
  {
   "cell_type": "code",
   "execution_count": null,
   "metadata": {},
   "outputs": [],
   "source": [
    "# If we want to import all matrices in place\n",
    "for f in folders:\n",
    "    mod = os.path.join(root, f)\n",
    "    mod_files = os.listdir(mod)\n",
    "\n",
    "    for i in mod_files:\n",
    "        #print(f.upper())\n",
    "        if 'TRIPS' in i.upper() and i.lower()[-5:]=='.tntp':\n",
    "            print('    trips')\n",
    "            source_file = os.path.join(mod, i)\n",
    "            import_matrix(source_file)"
   ]
  },
  {
   "cell_type": "code",
   "execution_count": 4,
   "metadata": {},
   "outputs": [
    {
     "ename": "NameError",
     "evalue": "name 'root' is not defined",
     "output_type": "error",
     "traceback": [
      "\u001b[1;31m---------------------------------------------------------------------------\u001b[0m",
      "\u001b[1;31mNameError\u001b[0m                                 Traceback (most recent call last)",
      "\u001b[1;32m<ipython-input-4-dc16c9167cea>\u001b[0m in \u001b[0;36m<module>\u001b[1;34m\u001b[0m\n\u001b[0;32m      2\u001b[0m \u001b[1;31m# but we can also make sure all headers are lower case and without trailing spaces\u001b[0m\u001b[1;33m\u001b[0m\u001b[1;33m\u001b[0m\u001b[1;33m\u001b[0m\u001b[0m\n\u001b[0;32m      3\u001b[0m \u001b[1;33m\u001b[0m\u001b[0m\n\u001b[1;32m----> 4\u001b[1;33m \u001b[0mnetfile\u001b[0m \u001b[1;33m=\u001b[0m \u001b[0mos\u001b[0m\u001b[1;33m.\u001b[0m\u001b[0mpath\u001b[0m\u001b[1;33m.\u001b[0m\u001b[0mjoin\u001b[0m\u001b[1;33m(\u001b[0m\u001b[0mroot\u001b[0m\u001b[1;33m,\u001b[0m\u001b[1;34m'Barcelona'\u001b[0m\u001b[1;33m,\u001b[0m\u001b[1;34m'Barcelona_net.tntp.txt'\u001b[0m\u001b[1;33m)\u001b[0m\u001b[1;33m\u001b[0m\u001b[1;33m\u001b[0m\u001b[0m\n\u001b[0m\u001b[0;32m      5\u001b[0m \u001b[0mnet\u001b[0m \u001b[1;33m=\u001b[0m \u001b[0mpd\u001b[0m\u001b[1;33m.\u001b[0m\u001b[0mread_csv\u001b[0m\u001b[1;33m(\u001b[0m\u001b[0mnetfile\u001b[0m\u001b[1;33m,\u001b[0m \u001b[0mskiprows\u001b[0m\u001b[1;33m=\u001b[0m\u001b[1;36m8\u001b[0m\u001b[1;33m,\u001b[0m \u001b[0msep\u001b[0m\u001b[1;33m=\u001b[0m\u001b[1;34m'\\t'\u001b[0m\u001b[1;33m)\u001b[0m\u001b[1;33m\u001b[0m\u001b[1;33m\u001b[0m\u001b[0m\n\u001b[0;32m      6\u001b[0m \u001b[1;33m\u001b[0m\u001b[0m\n",
      "\u001b[1;31mNameError\u001b[0m: name 'root' is not defined"
     ]
    }
   ],
   "source": [
    "# Importing the networks into a Pandas dataframe consists of a single line of code\n",
    "# but we can also make sure all headers are lower case and without trailing spaces\n",
    "\n",
    "netfile = os.path.join(root,'Barcelona','Barcelona_net.tntp.txt')\n",
    "net = pd.read_csv(netfile, skiprows=8, sep='\\t')\n",
    "\n",
    "trimmed= [s.strip().lower() for s in net.columns]\n",
    "net.columns = trimmed\n",
    "\n",
    "# And drop the silly first andlast columns\n",
    "net.drop(['~', ';'], axis=1, inplace=True)"
   ]
  },
  {
   "cell_type": "code",
   "execution_count": null,
   "metadata": {},
   "outputs": [],
   "source": [
    "net['term_node']\n",
    "2521/(1020-(201-110))\n",
    "b=(1020-(201-110))"
   ]
  },
  {
   "cell_type": "code",
   "execution_count": 3,
   "metadata": {},
   "outputs": [
    {
     "ename": "NameError",
     "evalue": "name 'net' is not defined",
     "output_type": "error",
     "traceback": [
      "\u001b[1;31m---------------------------------------------------------------------------\u001b[0m",
      "\u001b[1;31mNameError\u001b[0m                                 Traceback (most recent call last)",
      "\u001b[1;32m<ipython-input-3-946e58e4d33d>\u001b[0m in \u001b[0;36m<module>\u001b[1;34m\u001b[0m\n\u001b[1;32m----> 1\u001b[1;33m \u001b[0mProcessed_Network\u001b[0m\u001b[1;33m=\u001b[0m\u001b[0mnet\u001b[0m\u001b[1;33m\u001b[0m\u001b[1;33m\u001b[0m\u001b[0m\n\u001b[0m",
      "\u001b[1;31mNameError\u001b[0m: name 'net' is not defined"
     ]
    }
   ],
   "source": [
    "Processed_Network=net"
   ]
  },
  {
   "cell_type": "code",
   "execution_count": null,
   "metadata": {},
   "outputs": [],
   "source": [
    "matfile='Barcelona_trips.tntp.txt'\n",
    "\n",
    "f = open(matfile, 'r')\n",
    "all_rows = f.read()\n",
    "blocks = all_rows.split('Origin')[1:]\n",
    "matrix = {}\n",
    "for k in range(len(blocks)):\n",
    "    orig = blocks[k].split('\\n')\n",
    "    dests = orig[1:]\n",
    "    orig=int(orig[0])\n",
    "\n",
    "    d = [eval('{'+a.replace(';',',').replace(' ','') +'}') for a in dests]\n",
    "    destinations = {}\n",
    "    for i in d:\n",
    "        destinations = {**destinations, **i}\n",
    "    matrix[orig] = destinations\n",
    "zones = max(matrix.keys())\n",
    "mat = np.zeros((zones, zones))\n",
    "for i in range(zones):\n",
    "    for j in range(zones):\n",
    "        # We map values to a index i-1, as Numpy is base 0\n",
    "        mat[i, j] = matrix.get(i+1,{}).get(j+1,0)\n",
    "\n",
    "index = np.arange(zones) + 1\n",
    "print(type(matrix))"
   ]
  },
  {
   "cell_type": "code",
   "execution_count": null,
   "metadata": {},
   "outputs": [],
   "source": [
    "D=import_matrix('Barcelona_trips.tntp.txt')"
   ]
  },
  {
   "cell_type": "code",
   "execution_count": null,
   "metadata": {},
   "outputs": [],
   "source": [
    "np.shape(D)"
   ]
  },
  {
   "cell_type": "code",
   "execution_count": null,
   "metadata": {},
   "outputs": [],
   "source": [
    "n=1020-201+110\n",
    "print(n)"
   ]
  },
  {
   "cell_type": "markdown",
   "metadata": {},
   "source": [
    "only the first 110 nodes are origins, destinations !!!"
   ]
  },
  {
   "cell_type": "markdown",
   "metadata": {},
   "source": [
    "The other nodes are transit nodes, that means D[i]=0,0,...,0 and\n",
    "for any other node j D[j][i]=0,...,0"
   ]
  },
  {
   "cell_type": "code",
   "execution_count": null,
   "metadata": {},
   "outputs": [],
   "source": [
    "\n",
    "D1=np.zeros((110,1020-200))\n",
    "D=np.hstack((D,D1))\n",
    "\n",
    "D2=np.zeros((1020-200,930))\n",
    "D=np.vstack((D,D2))"
   ]
  },
  {
   "cell_type": "code",
   "execution_count": null,
   "metadata": {},
   "outputs": [],
   "source": [
    "print(np.shape(D))\n"
   ]
  },
  {
   "cell_type": "markdown",
   "metadata": {},
   "source": [
    "We also process the optimal Solution to help validate our results"
   ]
  },
  {
   "cell_type": "code",
   "execution_count": null,
   "metadata": {},
   "outputs": [],
   "source": [
    "#print(D)\n",
    "#n=1020-(201-110)\n",
    "#Optimal=open('berlin-tiergarten_flow.tntp.txt').readlines()\n",
    "#Optimal_flow=np.zeros((n,n))\n",
    "#Optimal_cost=np.zeros((n,n))\n",
    "#Pandasframe=[]\n",
    "#for i in Optimal:\n",
    " #   line=i[:-1].split('\\t')\n",
    "  #  Pandasframe.append(line)\n",
    "#COLUMNS=Pandasframe[0]\n",
    "#Pandasframe=pd.DataFrame(Pandasframe[1:],columns=Pandasframe[0])\n",
    "    "
   ]
  },
  {
   "cell_type": "code",
   "execution_count": 2,
   "metadata": {},
   "outputs": [
    {
     "ename": "NameError",
     "evalue": "name 'Processed_Network' is not defined",
     "output_type": "error",
     "traceback": [
      "\u001b[1;31m---------------------------------------------------------------------------\u001b[0m",
      "\u001b[1;31mNameError\u001b[0m                                 Traceback (most recent call last)",
      "\u001b[1;32m<ipython-input-2-804ca8431ab9>\u001b[0m in \u001b[0;36m<module>\u001b[1;34m\u001b[0m\n\u001b[0;32m     19\u001b[0m \u001b[1;31m#Of1=Pandasframe[COLUMNS[2]]\u001b[0m\u001b[1;33m\u001b[0m\u001b[1;33m\u001b[0m\u001b[1;33m\u001b[0m\u001b[0m\n\u001b[0;32m     20\u001b[0m \u001b[1;31m#Oc1=Pandasframe[COLUMNS[3]]\u001b[0m\u001b[1;33m\u001b[0m\u001b[1;33m\u001b[0m\u001b[1;33m\u001b[0m\u001b[0m\n\u001b[1;32m---> 21\u001b[1;33m \u001b[0mB1\u001b[0m\u001b[1;33m=\u001b[0m\u001b[0mnp\u001b[0m\u001b[1;33m.\u001b[0m\u001b[0mwhere\u001b[0m\u001b[1;33m(\u001b[0m\u001b[0mProcessed_Network\u001b[0m\u001b[1;33m[\u001b[0m\u001b[1;34m'init_node'\u001b[0m\u001b[1;33m]\u001b[0m\u001b[1;33m.\u001b[0m\u001b[0mto_numpy\u001b[0m\u001b[1;33m(\u001b[0m\u001b[1;33m)\u001b[0m\u001b[1;33m<=\u001b[0m\u001b[1;36m110\u001b[0m\u001b[1;33m,\u001b[0m\u001b[0mProcessed_Network\u001b[0m\u001b[1;33m[\u001b[0m\u001b[1;34m'init_node'\u001b[0m\u001b[1;33m]\u001b[0m\u001b[1;33m.\u001b[0m\u001b[0mto_numpy\u001b[0m\u001b[1;33m(\u001b[0m\u001b[1;33m)\u001b[0m\u001b[1;33m-\u001b[0m\u001b[1;36m1\u001b[0m\u001b[1;33m,\u001b[0m\u001b[0mProcessed_Network\u001b[0m\u001b[1;33m[\u001b[0m\u001b[1;34m'init_node'\u001b[0m\u001b[1;33m]\u001b[0m\u001b[1;33m.\u001b[0m\u001b[0mto_numpy\u001b[0m\u001b[1;33m(\u001b[0m\u001b[1;33m)\u001b[0m\u001b[1;33m)\u001b[0m\u001b[1;33m\u001b[0m\u001b[1;33m\u001b[0m\u001b[0m\n\u001b[0m\u001b[0;32m     22\u001b[0m \u001b[0mB2\u001b[0m\u001b[1;33m=\u001b[0m\u001b[0mnp\u001b[0m\u001b[1;33m.\u001b[0m\u001b[0mwhere\u001b[0m\u001b[1;33m(\u001b[0m\u001b[0mProcessed_Network\u001b[0m\u001b[1;33m[\u001b[0m\u001b[1;34m'term_node'\u001b[0m\u001b[1;33m]\u001b[0m\u001b[1;33m.\u001b[0m\u001b[0mto_numpy\u001b[0m\u001b[1;33m(\u001b[0m\u001b[1;33m)\u001b[0m\u001b[1;33m<=\u001b[0m\u001b[1;36m110\u001b[0m\u001b[1;33m,\u001b[0m\u001b[0mProcessed_Network\u001b[0m\u001b[1;33m[\u001b[0m\u001b[1;34m'term_node'\u001b[0m\u001b[1;33m]\u001b[0m\u001b[1;33m.\u001b[0m\u001b[0mto_numpy\u001b[0m\u001b[1;33m(\u001b[0m\u001b[1;33m)\u001b[0m\u001b[1;33m-\u001b[0m\u001b[1;36m1\u001b[0m\u001b[1;33m,\u001b[0m\u001b[0mProcessed_Network\u001b[0m\u001b[1;33m[\u001b[0m\u001b[1;34m'term_node'\u001b[0m\u001b[1;33m]\u001b[0m\u001b[1;33m.\u001b[0m\u001b[0mto_numpy\u001b[0m\u001b[1;33m(\u001b[0m\u001b[1;33m)\u001b[0m\u001b[1;33m)\u001b[0m\u001b[1;33m\u001b[0m\u001b[1;33m\u001b[0m\u001b[0m\n\u001b[0;32m     23\u001b[0m \u001b[0mB1\u001b[0m\u001b[1;33m=\u001b[0m\u001b[0mnp\u001b[0m\u001b[1;33m.\u001b[0m\u001b[0mwhere\u001b[0m\u001b[1;33m(\u001b[0m\u001b[0mB1\u001b[0m\u001b[1;33m>\u001b[0m\u001b[1;36m110\u001b[0m\u001b[1;33m,\u001b[0m\u001b[0mB1\u001b[0m\u001b[1;33m-\u001b[0m\u001b[1;33m(\u001b[0m\u001b[1;36m201\u001b[0m\u001b[1;33m-\u001b[0m\u001b[1;36m110\u001b[0m\u001b[1;33m)\u001b[0m\u001b[1;33m,\u001b[0m\u001b[0mB1\u001b[0m\u001b[1;33m)\u001b[0m\u001b[1;33m\u001b[0m\u001b[1;33m\u001b[0m\u001b[0m\n",
      "\u001b[1;31mNameError\u001b[0m: name 'Processed_Network' is not defined"
     ]
    }
   ],
   "source": [
    "n=930\n",
    "B=np.zeros((n,n))\n",
    "free_flow=np.zeros((n,n))\n",
    "C=np.zeros((n,n))\n",
    "P=np.zeros((n,n))\n",
    "b=np.zeros((n,n))\n",
    "toll=np.zeros((n,n))\n",
    "length=np.zeros((n,n))\n",
    "Edges1=[]\n",
    "Link_travel_Time=np.zeros((n,n))\n",
    "Optimal_flow=np.zeros((n,n))\n",
    "Optimal_cost=np.zeros((n,n))\n",
    "speed=np.zeros((n,n))\n",
    "toll=np.zeros((n,n))\n",
    "link_type=np.zeros((n,n))\n",
    "power=np.zeros((n,n))\n",
    "\n",
    "\n",
    "#Of1=Pandasframe[COLUMNS[2]]\n",
    "#Oc1=Pandasframe[COLUMNS[3]]\n",
    "B1=np.where(Processed_Network['init_node'].to_numpy()<=110,Processed_Network['init_node'].to_numpy()-1,Processed_Network['init_node'].to_numpy())\n",
    "B2=np.where(Processed_Network['term_node'].to_numpy()<=110,Processed_Network['term_node'].to_numpy()-1,Processed_Network['term_node'].to_numpy())\n",
    "B1=np.where(B1>110,B1-(201-110),B1)\n",
    "B2=np.where(B2>110,B2-(201-110),B2)\n",
    "#B2=Processed_Network['term_node']\n",
    "c1=Processed_Network['capacity']\n",
    "a1=Processed_Network['free_flow_time']\n",
    "p1=Processed_Network['power']\n",
    "s1=Processed_Network['speed']\n",
    "t1=Processed_Network['toll']\n",
    "link_type1=Processed_Network['link_type']\n",
    "b1=net['b']\n",
    "l=0\n",
    "j=0\n",
    "while j< len(B1):\n",
    "   \n",
    "    if int(B1[j])==l:\n",
    "        \n",
    "        init=int(B1[j])\n",
    "        term=int(B2[j])\n",
    "            \n",
    "        B[init][term]=0.15\n",
    "        free_flow[init][term]=float(a1[j])\n",
    "        C[init][term]=float(c1[j])\n",
    "        P[init][term]=float(p1[j])\n",
    "        speed[init][term]=float(s1[j])\n",
    "        toll[init][term]=float(t1[j])\n",
    "       \n",
    "        power[init][term]=float(p1[j])\n",
    "        b[init][term]=float(b1[j])\n",
    "\n",
    "        #free_flow[init][term]*0.15/(C[init][term]**4) \n",
    "        #Optimal_flow[int(B1[j])-1][int(B2[j])-1]=float(Of1[j])\n",
    "        #Optimal_cost[int(B1[j])-1][int(B2[j])-1]=float(Oc1[j])\n",
    "        Edges1.append([init,term])\n",
    "       \n",
    "        j=j+1\n",
    "    else:\n",
    "       \n",
    "        l=l+1    \n"
   ]
  },
  {
   "cell_type": "code",
   "execution_count": null,
   "metadata": {},
   "outputs": [],
   "source": [
    "b1"
   ]
  },
  {
   "cell_type": "markdown",
   "metadata": {},
   "source": [
    "# Solving the call for the Oracle "
   ]
  },
  {
   "cell_type": "markdown",
   "metadata": {},
   "source": [
    "Having presented both the formulation of the problem and the algorithm we will first use to solve it, we now get to discuss how to implement the algorithm efficiently. Since the main difficulty for the implementation of the Frank-Wolfe Method in this case, relies on how to solve the call for the oracle we will discuss this first.\n",
    "As seen in section 1.3 the Frank-Wolfe Algorithm solves in every iteration the subproblem \n",
    "\\begin{equation}\n",
    "\\begin{aligned}\n",
    "& \\underset{v\\in \\mathcal{V}}{\\text{min}}\n",
    "& & v^\\top\\nabla f(x)  \n",
    "\\end{aligned}\n",
    "\\end{equation}\n",
    "which for our case is given by \n",
    "\\begin{equation}\n",
    "\\begin{aligned}\n",
    "& \\underset{g(y)=0}{\\underset{y\\geq 0}{\\text{min}}}\n",
    "& & \\sum_{(i,j)\\in A}\\sum_{s=1}^p c_{ij}y_{ij}^s\\geq\\sum_{s=1}^p & \\underset{g(y)=0}{\\underset{y\\geq 0}{\\text{min}}}\n",
    "& & \\sum_{(i,j)\\in A}c_{ij}y_{ij}^s\n",
    "\\end{aligned}\n",
    "\\end{equation}\n",
    "Where $g$ ensures that the flow circulation constraints are satisfied REFER TO THE CONSTRAINTS.\n",
    "This allows us to solve the call for the oracle by solving the subproblem one block at a time, which means minimizing the cost of sending $D_{js}$ units of flow for all nodes $j$ to node $s$. This can be done using the Dijkstra algorithm using the costs  $c_{ij}$ as distances between nodes. This strategy does not violate the constraints imposed by $g$ . Finally we only need to sum up the solutions of the individual blocks to obtain the direction we will then minimize along."
   ]
  },
  {
   "cell_type": "code",
   "execution_count": null,
   "metadata": {},
   "outputs": [],
   "source": [
    "def smallest_distance(unvisited_Network):\n",
    "    '''\n",
    "    \n",
    "\n",
    "    Parameters\n",
    "    ----------\n",
    "    unvisited_Network : List\n",
    "        Contains all unvisited Nodes .\n",
    "\n",
    "    Returns\n",
    "    -------\n",
    "    a : Node\n",
    "        looks among all unvisited Nodes for the one with smallest Distance to the initial .\n",
    ".\n",
    "\n",
    "    '''\n",
    "    a=unvisited_Network[0]\n",
    "    for i in unvisited_Network:\n",
    "        if not i.Visited:\n",
    "            if i.Distance<a.Distance:\n",
    "                a=i\n",
    "    return a\n",
    "def Notallvisited(Network):\n",
    "    if Network.unvisited_Network!=[]:\n",
    "        return True \n",
    "\n",
    "def Dijkstra(Network,x0):\n",
    "    '''\n",
    "    dijkstra Algorithm with a modification\n",
    "    '''\n",
    "    for i in Network.Nodes[:110]:\n",
    "        if i.key!=x0.key:\n",
    "            for j in i.Edges:\n",
    "                j.blocked_cost=j.Cost\n",
    "                j.Cost=np.inf\n",
    "\n",
    "    Network.unvisited_Network=list(Network.Nodes)\n",
    "    \n",
    "    \n",
    "    for i in Network.Nodes:\n",
    "        if not i==x0:\n",
    "            i.Distance=np.inf\n",
    "            i.Predecessor=None\n",
    "        else:\n",
    "            i.Distance=0\n",
    "            i.Predecessor=None \n",
    "            \n",
    "    while Notallvisited(Network):\n",
    "        #print(len(Network.Nodes))\n",
    "        \n",
    "        a=smallest_distance(Network.unvisited_Network)\n",
    "        Network.unvisited_Network.remove(a)\n",
    "        #Network.unvisited_Network.remove(a)\n",
    "        for j in a.Edges:\n",
    "            #j is an Edge a=(0,1) and has the attribute cost\n",
    "            #print(j.Tuple[1],'Index')\n",
    "            #print(len(Network.Nodes))\n",
    "            if Network.Nodes[j.Tuple[1]].Visited==False:\n",
    "                if Network.Nodes[j.Tuple[1]].Distance>j.Cost+a.Distance:\n",
    "                   Network.Nodes[j.Tuple[1]].Distance=j.Cost+a.Distance\n",
    "                   Network.Nodes[j.Tuple[1]].Predecessor=a\n",
    "    \n",
    "    for i in Network.Nodes[:110]:\n",
    "        if i.key!=x0.key:\n",
    "            for j in i.Edges:\n",
    "                j.Cost=j.blocked_cost\n",
    "                j.blocked_cost=0\n",
    "\n",
    "    Network.unvisited_Network=list(Network.Nodes)\n",
    "    \n",
    "            \n",
    "        "
   ]
  },
  {
   "cell_type": "code",
   "execution_count": null,
   "metadata": {},
   "outputs": [],
   "source": [
    "class Edge:\n",
    "    def __init__(self,Tuple,Cost ):\n",
    "        self.Tuple=Tuple\n",
    "        self.Cost=Cost\n",
    "        self.blocked_Cost=0\n",
    "    \n",
    "class Node:\n",
    "    def __init__(self,Edges,Distance,key):\n",
    "        self.Edges=Edges\n",
    "        self.Distance=0\n",
    "        self.key=key\n",
    "        self.Predecessor=None\n",
    "        self.Visited=False\n",
    "    def print_edges(self):\n",
    "        print('Edges outgoing from Node ',self.key+1)\n",
    "        for i in self.Edges:\n",
    "            print(i.Tuple+np.ones(2))\n",
    "\n",
    "class Class_Network:\n",
    "    def __init__(self,Nodes,Edges ):\n",
    "        '''\n",
    "        Nodes is a list of objects_nodes\n",
    "        \n",
    "        \n",
    "        '''\n",
    "        self.Nodes=Nodes\n",
    "        self.unvisited_Network=list(Nodes)\n",
    "        self.Edges=list(Edges)\n",
    "#class Residual_Network:\n",
    "    \n",
    "        "
   ]
  },
  {
   "cell_type": "code",
   "execution_count": null,
   "metadata": {},
   "outputs": [],
   "source": [
    "\n",
    "\n",
    "def Initialize_Network(xk):\n",
    "    '''\n",
    "    The Link Travel Time is the Gradient in xk\n",
    "    Iterate over all of the nodes \n",
    "    for node_i:\n",
    "        set a list of Edges going from (i,other)\n",
    "        \n",
    "        \n",
    "        \n",
    "    '''\n",
    "    n=930\n",
    "    #print('Initialize Network')\n",
    "    Y=np.zeros((n,n))\n",
    "    \n",
    "    Link_travel_Time=free_flow+b*xk**power\n",
    "   \n",
    "    Nodes=[ ]\n",
    "\n",
    "    \n",
    "    \n",
    "    for j in range(110):\n",
    "        Edges=[] \n",
    "    \n",
    "        current=Processed_Network. loc[Processed_Network['init_node'] == j+1]\n",
    "        \n",
    "\n",
    "        for i in current['term_node']:\n",
    "                    if int(i)>111:\n",
    "                        Edges.append(Edge(np.array([j,int(i)-91]),Link_travel_Time[j,int(i)-91]))\n",
    "                    else:\n",
    "                        Edges.append(Edge(np.array([j,int(i)-1]),Link_travel_Time[j,int(i)-1]))\n",
    "        Nodes.append(Node(Edges,0,j))\n",
    "\n",
    "   \n",
    "    fixer=False\n",
    "    for j in range(110,n):\n",
    "        Edges=[] \n",
    "      \n",
    "            \n",
    "        current=Processed_Network. loc[Processed_Network['init_node'] == j+91]\n",
    "        \n",
    "\n",
    "        for i in current['term_node']:\n",
    "\n",
    "                    \n",
    "                    if int(i)>111:\n",
    "                    \n",
    "                        Edges.append(Edge(np.array([j,int(i)-91]),Link_travel_Time[j,int(i)-91]))\n",
    "                    else:\n",
    "                        \n",
    "                        Edges.append(Edge(np.array([j,int(i)-1]),Link_travel_Time[j,int(i)-1]))\n",
    "        Nodes.append(Node(Edges,0,j))\n",
    "\n",
    "    Network=Class_Network(Nodes,Edges1)\n",
    "    \n",
    "    return Network"
   ]
  },
  {
   "cell_type": "code",
   "execution_count": null,
   "metadata": {},
   "outputs": [],
   "source": [
    "x0=np.zeros((n,n))\n",
    "T=20\n",
    "Network=Initialize_Network(x0)"
   ]
  },
  {
   "cell_type": "code",
   "execution_count": null,
   "metadata": {},
   "outputs": [],
   "source": [
    "for i in Network.Nodes[110].Edges:\n",
    "    print(i.Tuple)"
   ]
  },
  {
   "cell_type": "code",
   "execution_count": null,
   "metadata": {},
   "outputs": [],
   "source": [
    "K=0\n",
    "for i in Network.Nodes:\n",
    "    \n",
    "    assert i.key==K\n",
    "    K+=1"
   ]
  },
  {
   "cell_type": "code",
   "execution_count": null,
   "metadata": {},
   "outputs": [],
   "source": [
    "np.max(b)"
   ]
  },
  {
   "cell_type": "markdown",
   "metadata": {},
   "source": [
    "# Testing the Dijkstra and the Network "
   ]
  },
  {
   "cell_type": "code",
   "execution_count": null,
   "metadata": {},
   "outputs": [],
   "source": [
    "def Fortran_Op(y,Network,Start):\n",
    "    #print('Fortran')\n",
    "    #for i in Network.Nodes:\n",
    "        #print(i.Predecessor)\n",
    "    \n",
    "    #print('Start',Start)\n",
    "\n",
    "    for j in Network.Nodes[:111]:\n",
    "        \n",
    "\n",
    "\n",
    "            Current_Node=j\n",
    "\n",
    "            while Current_Node!=Start:\n",
    "\n",
    "                y[Current_Node.Predecessor.key][Current_Node.key]+=D[j.key][Start.key]\n",
    "                #print(D[j.key][Start.key],'D')\n",
    "                Current_Node=Current_Node.Predecessor\n",
    "\n",
    "        "
   ]
  },
  {
   "cell_type": "code",
   "execution_count": null,
   "metadata": {},
   "outputs": [],
   "source": [
    "def Oracle(xk):\n",
    "    Y=np.zeros((n,n))\n",
    "    Network=Initialize_Network(xk)\n",
    "    \n",
    "    s=0\n",
    "    Start=Network.Nodes[s]\n",
    "    while s<110:\n",
    "    \n",
    "        #print(s,len(Network.Nodes),s<24)\n",
    "        Start=Network.Nodes[s]\n",
    "        Dijkstra(Network,Start)\n",
    "        Fortran_Op(Y,Network,Start)\n",
    "        s=s+1\n",
    "        \n",
    "        \n",
    "    return Y\n",
    "\n",
    "    \n",
    "    \n",
    "    \n",
    "    \n",
    "    \n",
    "    \n",
    "    "
   ]
  },
  {
   "cell_type": "markdown",
   "metadata": {},
   "source": [
    "# Actual Frank-Wolfe Algorithm "
   ]
  },
  {
   "cell_type": "code",
   "execution_count": null,
   "metadata": {},
   "outputs": [],
   "source": [
    "def Initial():\n",
    "        '''\n",
    "        gives us an Initial feasible starting Point, by \n",
    "        sending all of the flow between every Od-pair through the \n",
    "        cheapest route in terms of free flow travel time \n",
    "        '''\n",
    "     \n",
    "        xk=np.zeros((n,n))\n",
    "        Network=Initialize_Network(xk)\n",
    "    \n",
    "\n",
    "        s=0\n",
    "        Start=Network.Nodes[s]\n",
    "        while Start.key<110:\n",
    "            \n",
    "            Dijkstra(Network,Start)\n",
    "            Fortran_Op(xk,Network,Start)\n",
    "            s=s+1\n",
    "            Start=Network.Nodes[s+1]\n",
    "        return xk\n"
   ]
  },
  {
   "cell_type": "code",
   "execution_count": null,
   "metadata": {},
   "outputs": [],
   "source": [
    "def Objective(x):\n",
    "    Link_cost=free_flow*x+x**(power+1)*(np.where(power>0,b/(power+1),0))\n",
    "    Link_cost1=free_flow+b*x**4\n",
    "    \n",
    "    return np.sum(Link_cost)\n"
   ]
  },
  {
   "cell_type": "code",
   "execution_count": null,
   "metadata": {},
   "outputs": [],
   "source": [
    "def stepsize(w,xk):\n",
    "    I=[0,1]\n",
    "    for i in range(1000):\n",
    "        x1=(I[0]+I[1])/4\n",
    "        x2=(I[0]+I[1])/4*3\n",
    "        xk1=x0+x1*(w-xk)\n",
    "        xk2=x0+x2*(w-xk)\n",
    "        if Objective(xk1)<Objective(xk2):\n",
    "            I[1]=x2\n",
    "        elif Objective(xk1)==Objective(xk2):\n",
    "            I[0]=x1\n",
    "            I[1]=x2\n",
    "        else:\n",
    "            I[0]=x1\n",
    "    return (I[1]+I[0])/2\n",
    "\n",
    "def stepsize1(i)  :     \n",
    "    return 1/(i+1)\n",
    "def stepsize2(w,xk):\n",
    "    i=0\n",
    "    alpha_i=1/(i+1)\n",
    "    current=xk\n",
    "    while Objective(current+alpha_i*(w-current))<Objective(current):\n",
    "        i+=1\n",
    "        print(i)\n",
    "        alpha_i=1/(i+1)\n",
    "        current=current+alpha_i*(w-current)\n",
    "    return alpha_i    \n",
    "        \n",
    "def stepsize3(w,xk):\n",
    "    alpha_i=np.arange(1000)/1000\n",
    "    List=[]\n",
    "    for i in alpha_i:\n",
    "        \n",
    "                     \n",
    "        List.append(Objective(xk+i*(w-xk)))\n",
    "        \n",
    "    return alpha_i[np.argmin(List)]\n",
    "def stepsize_NEP(Stepi,current,new):\n",
    "    \n",
    "    '''\n",
    "    Stepsize proposed in NEP\n",
    "    '''\n",
    "    if Objective(current)>Objective(new):\n",
    "        return Stepi\n",
    "    else: \n",
    "        return 0\n",
    "    "
   ]
  },
  {
   "cell_type": "code",
   "execution_count": null,
   "metadata": {},
   "outputs": [],
   "source": [
    "\n",
    "def Frank_Wolfe(xk,T):\n",
    "    i=0\n",
    "    A=np.zeros(T)\n",
    "    while i<T:\n",
    "        \n",
    "        w=Oracle(xk)\n",
    "        #print(np.argwhere(w-xk!=0),'atetntion')\n",
    "        #print('ready0')\n",
    "        alpha_i=stepsize1(i)\n",
    "      \n",
    "        print(i)\n",
    "        A[i]=Objective(xk)\n",
    " \n",
    "        #last=xk\n",
    "        #print(w)\n",
    "        xk=xk+alpha_i*(w-xk)\n",
    "        \n",
    "        i=i+1\n",
    "        print(i,Objective(xk))\n",
    "        #if np.linalg.norm(last-xk)<20:\n",
    "        #   return xk\n",
    "    return xk,A"
   ]
  },
  {
   "cell_type": "code",
   "execution_count": null,
   "metadata": {},
   "outputs": [],
   "source": [
    "x0=Initial()\n",
    "print('Initialready')"
   ]
  },
  {
   "cell_type": "code",
   "execution_count": null,
   "metadata": {},
   "outputs": [],
   "source": [
    "\n",
    "print('Initialready')\n",
    "#x0=np.zeros((n,n))\n",
    "T=20\n",
    "Network=Initialize_Network(x0)\n",
    "Result=Frank_Wolfe(x0,T)\n"
   ]
  },
  {
   "cell_type": "code",
   "execution_count": null,
   "metadata": {},
   "outputs": [],
   "source": [
    "plt.plot(np.arange(T),Result[1])"
   ]
  },
  {
   "cell_type": "code",
   "execution_count": null,
   "metadata": {
    "scrolled": true
   },
   "outputs": [],
   "source": [
    "#print(Optimal_flow)\n",
    "\n",
    "print(Objective(Result[0])/1265654.92203176)\n",
    "print(Objective(Result[0]))\n",
    "\n",
    "#free_flow+b*Optimal_flow**4-Optimal_cost"
   ]
  },
  {
   "cell_type": "markdown",
   "metadata": {},
   "source": [
    "# NEP Oracle "
   ]
  },
  {
   "cell_type": "code",
   "execution_count": null,
   "metadata": {},
   "outputs": [],
   "source": [
    "def Initialize_NEP_Network(xk,lamba):\n",
    "    '''\n",
    "    This function \n",
    "    '''\n",
    "    Y=np.zeros((n,n))\n",
    "    Nodes=[ ]\n",
    "    Link_travel_Time=free_flow+b*xk**power\n",
    "    Link_travel_Time=np.ones((n,n))*10**6-2*(xk-(1/(2*lamba))*Link_travel_Time)\n",
    "   \n",
    "    \n",
    "    \n",
    "    for j in range(110):\n",
    "        Edges=[] \n",
    "    \n",
    "        current=Processed_Network. loc[Processed_Network['init_node'] == j+1]\n",
    "        \n",
    "\n",
    "        for i in current['term_node']:\n",
    "                    if int(i)>111:\n",
    "                        Edges.append(Edge(np.array([j,int(i)-91]),Link_travel_Time[j,int(i)-91]))\n",
    "                    else:\n",
    "                        Edges.append(Edge(np.array([j,int(i)-1]),Link_travel_Time[j,int(i)-1]))\n",
    "        Nodes.append(Node(Edges,0,j))\n",
    "\n",
    "   \n",
    "    \n",
    "    for j in range(110,n):\n",
    "        Edges=[] \n",
    "      \n",
    "            \n",
    "        current=Processed_Network. loc[Processed_Network['init_node'] == j+91]\n",
    "        \n",
    "\n",
    "        for i in current['term_node']:\n",
    "\n",
    "                    \n",
    "                    if int(i)>111:\n",
    "                    \n",
    "                        Edges.append(Edge(np.array([j,int(i)-91]),Link_travel_Time[j,int(i)-91]))\n",
    "                    else:\n",
    "                        \n",
    "                        Edges.append(Edge(np.array([j,int(i)-1]),Link_travel_Time[j,int(i)-1]))\n",
    "        Nodes.append(Node(Edges,0,j))\n",
    "\n",
    "    Network=Class_Network(Nodes,Edges1)\n",
    "    \n",
    "    return Network\n",
    "    "
   ]
  },
  {
   "cell_type": "code",
   "execution_count": null,
   "metadata": {},
   "outputs": [],
   "source": [
    "def NEP_Oracle(xk,lamba):\n",
    "    '''\n",
    "    This function will solve the call for the NEP Oracle \n",
    "    '''\n",
    "    Y=np.zeros((n,n))\n",
    "    Network=Initialize_NEP_Network(xk,lamba)\n",
    "    \n",
    "    s=0\n",
    "    Start=Network.Nodes[s]\n",
    "    while s<110:\n",
    "        #print(s,'Inner_Oracle' )\n",
    "        #print(s,len(Network.Nodes),s<24)\n",
    "        Start=Network.Nodes[s]\n",
    "        Dijkstra(Network,Start)\n",
    "        #print_Network(Network)\n",
    "        Fortran_Op(Y,Network,Start)\n",
    "        s=s+1\n",
    "        \n",
    "        \n",
    "    return Y\n"
   ]
  },
  {
   "cell_type": "code",
   "execution_count": null,
   "metadata": {},
   "outputs": [],
   "source": [
    "\n",
    "def Frank_Wolfe_NEP(xk,T,beta):\n",
    "    '''\n",
    "    This will be a modified version of the Standard Frank_Wolfe to test mainly the call for the Oracle \n",
    "    '''\n",
    "    i=0\n",
    "    lamba=beta/2\n",
    "    A=np.zeros(T)\n",
    "    while i<T:\n",
    "        stepi=stepsize1(i)\n",
    "        lamba=beta*stepi/2\n",
    "    \n",
    "    \n",
    "        w=NEP_Oracle(xk,lamba)\n",
    "        \n",
    "        new=xk+stepi*(w-xk)\n",
    "        alpha_i=stepsize_NEP(stepi,xk,new)\n",
    "        \n",
    "        \n",
    "        A[i]=Objective(xk)\n",
    "\n",
    "        xk=xk+alpha_i*(w-xk)\n",
    "        \n",
    "        i=i+1\n",
    "        print(i,Objective(xk))\n",
    "\n",
    "    return xk,A"
   ]
  },
  {
   "cell_type": "code",
   "execution_count": null,
   "metadata": {},
   "outputs": [],
   "source": [
    "x0=Initial()"
   ]
  },
  {
   "cell_type": "markdown",
   "metadata": {},
   "source": [
    "We set $ p=6$, since"
   ]
  },
  {
   "cell_type": "code",
   "execution_count": null,
   "metadata": {},
   "outputs": [],
   "source": [
    "np.sum(D)"
   ]
  },
  {
   "cell_type": "code",
   "execution_count": null,
   "metadata": {},
   "outputs": [],
   "source": [
    "'''\n",
    "For replicating the results presented in the thesis tune beta\n",
    "'''\n",
    "T=20\n",
    "beta1=0.0012\n",
    "beta=0.000003\n",
    "betas=[0.000001*i for i in range(1,10)]\n",
    "Result1=Frank_Wolfe_NEP(x0,T,beta)\n",
    "#Result2=Frank_Wolfe_NEP(x0,T,beta1)"
   ]
  },
  {
   "cell_type": "code",
   "execution_count": null,
   "metadata": {},
   "outputs": [],
   "source": [
    "plt.plot(np.arange(T)[2:],Result[1][2:],label='Standard')\n",
    "plt.plot(np.arange(T)[2:],Result1[1][2:],label='NEP')\n",
    "plt.title('Barcelona, $p=6,\\\\beta =3\\cdot 10^{-6}$')\n",
    "plt.ylabel('Objective')\n",
    "plt.xlabel('iterations')\n",
    "plt.legend()\n",
    "plt.savefig(\"Plot_Objectivetest2best_Barcelona.jpg\", dpi=1000)"
   ]
  },
  {
   "cell_type": "code",
   "execution_count": null,
   "metadata": {},
   "outputs": [],
   "source": [
    "3*10**(-7)-0.0000003"
   ]
  },
  {
   "cell_type": "code",
   "execution_count": null,
   "metadata": {},
   "outputs": [],
   "source": [
    "T=20\n",
    "beta1=0.0012\n",
    "beta=0.0000003\n",
    "betas=[0.000001*i for i in range(1,10)]\n",
    "Result1=Frank_Wolfe_NEP(x0,T,beta)"
   ]
  },
  {
   "cell_type": "code",
   "execution_count": null,
   "metadata": {},
   "outputs": [],
   "source": [
    "plt.plot(np.arange(T)[2:],Result[1][2:],label='Standard')\n",
    "plt.plot(np.arange(T)[2:],Result1[1][2:],label='NEP')\n",
    "plt.title('Barcelona, $p=6,\\\\beta =3\\cdot 10^{-7}$')\n",
    "plt.ylabel('Objective')\n",
    "plt.xlabel('iterations')\n",
    "plt.legend()\n",
    "plt.savefig(\"Plot_Objectivebest_Barcelona.jpg\", dpi=1000)"
   ]
  },
  {
   "cell_type": "code",
   "execution_count": null,
   "metadata": {},
   "outputs": [],
   "source": []
  },
  {
   "cell_type": "markdown",
   "metadata": {},
   "source": [
    "# Testing for max-percentage change in iteration "
   ]
  },
  {
   "cell_type": "markdown",
   "metadata": {},
   "source": [
    "First we define the max percentage change function "
   ]
  },
  {
   "cell_type": "code",
   "execution_count": null,
   "metadata": {},
   "outputs": [],
   "source": [
    "def max_percentage_change(X_new,X_old):\n",
    "    Diff=np.abs(X_old-X_new)\n",
    "    Change=np.where(X_old>0,Diff/(X_old/100),0)\n",
    "    \n",
    "    return np.max(Change)"
   ]
  },
  {
   "cell_type": "code",
   "execution_count": null,
   "metadata": {},
   "outputs": [],
   "source": [
    "\n",
    "def Frank_Wolfe_percentage(xk,T,percentage):\n",
    "    i=0\n",
    "    A=[]\n",
    "    while i<T:\n",
    "        \n",
    "        w=Oracle(xk)\n",
    "\n",
    "        alpha_i=stepsize1(i)\n",
    "      \n",
    "      \n",
    "    \n",
    "        X_old=xk\n",
    "        xk=xk+alpha_i*(w-xk)\n",
    "        X_new=xk\n",
    "\n",
    "        i=i+1\n",
    "        A.append(max_percentage_change(X_new,X_old))\n",
    "        print(i,Objective(xk))\n",
    "\n",
    "    return xk,A"
   ]
  },
  {
   "cell_type": "code",
   "execution_count": null,
   "metadata": {},
   "outputs": [],
   "source": [
    "def Frank_Wolfe_NEP_percentage(xk,T,beta,percentage):\n",
    "    '''\n",
    "    This will be a modified version of the Standard Frank_Wolfe to test mainly the call for the Oracle \n",
    "    '''\n",
    "    i=0\n",
    "    lamba=beta/2\n",
    "    A=[]\n",
    "    while i<T:\n",
    "        print(i,'Iteration')\n",
    "        w=NEP_Oracle(xk,lamba)\n",
    "        print('Oracle',np.sum(w))\n",
    "        stepi=stepsize1(i)\n",
    "        \n",
    "        new=xk+stepi*(w-xk)\n",
    "        alpha_i=stepsize_NEP(stepi,xk,new)\n",
    "        print('stepi',alpha_i)\n",
    "        lamba=beta*stepi/2\n",
    "        X_old=xk\n",
    "        xk=xk+alpha_i*(w-xk)\n",
    "        X_new=xk\n",
    "        A.append(max_percentage_change(X_new,X_old))\n",
    "       \n",
    "        i=i+1\n",
    "        print(i,Objective(xk))\n",
    "\n",
    "    return xk,A"
   ]
  },
  {
   "cell_type": "code",
   "execution_count": null,
   "metadata": {},
   "outputs": [],
   "source": [
    "percentage=0.5\n",
    "x0=Initial()\n",
    "Result=Frank_Wolfe_percentage(x0,100,percentage)\n",
    "Result1=Frank_Wolfe_NEP_percentage(x0,100,beta,percentage)"
   ]
  },
  {
   "cell_type": "code",
   "execution_count": null,
   "metadata": {},
   "outputs": [],
   "source": [
    "T=np.arange(100)\n",
    "#plt.ylim(0,10)\n",
    "plt.plot(T[1:],Result[1][1:],label='Standard')\n",
    "plt.plot(T[1:],Result1[1][1:],label='NEP')\n",
    "plt.legend()\n",
    "plt.ylim(0,500)\n",
    "plt.title('Barcelona max percentage change')\n",
    "plt.ylabel('max-percentage change')\n",
    "plt.xlabel('iterations')\n",
    "plt.savefig(\"Plot_percentage_Barcelona.jpg\", dpi=1000)"
   ]
  },
  {
   "cell_type": "code",
   "execution_count": null,
   "metadata": {},
   "outputs": [],
   "source": []
  }
 ],
 "metadata": {
  "kernelspec": {
   "display_name": "Python 3",
   "language": "python",
   "name": "python3"
  },
  "language_info": {
   "codemirror_mode": {
    "name": "ipython",
    "version": 3
   },
   "file_extension": ".py",
   "mimetype": "text/x-python",
   "name": "python",
   "nbconvert_exporter": "python",
   "pygments_lexer": "ipython3",
   "version": "3.7.1"
  }
 },
 "nbformat": 4,
 "nbformat_minor": 4
}
