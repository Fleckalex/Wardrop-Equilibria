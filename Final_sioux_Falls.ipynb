{
 "cells": [
  {
   "cell_type": "markdown",
   "metadata": {},
   "source": [
    "# Implementations for Sioux Falls Network"
   ]
  },
  {
   "cell_type": "markdown",
   "metadata": {},
   "source": [
    "These implementations are part of the Bachelor Thesis Computing Traffic Equilibria using Nearest Extreme Point Oracle.\n",
    "All of the implementations below besides the functions used to import and process the data, have been done by Alexander Fleck, and are to be understood as supporting material for the aforementioned thesis."
   ]
  },
  {
   "cell_type": "markdown",
   "metadata": {},
   "source": [
    "# Processing the Data  "
   ]
  },
  {
   "cell_type": "markdown",
   "metadata": {},
   "source": [
    "First we process the Network, and Store the Data as a pandas Dataframe "
   ]
  },
  {
   "cell_type": "code",
   "execution_count": 1,
   "metadata": {},
   "outputs": [],
   "source": [
    "import os\n",
    "import sys\n",
    "import numpy as np\n",
    "import pandas as pd \n",
    "import openmatrix as omx\n",
    "import scipy as scp\n",
    "import matplotlib.pyplot as plt "
   ]
  },
  {
   "cell_type": "code",
   "execution_count": 2,
   "metadata": {},
   "outputs": [],
   "source": [
    "Data=open('SiouxFallsData.txt').readlines()\n",
    "length=len(Data)\n",
    "k=0\n",
    "Datap=[]\n",
    "Bool=False\n",
    "for i in Data:\n",
    "    if i[0]== '~':\n",
    "        \n",
    "        Bool=True \n",
    "    if Bool==True:\n",
    "        if k==length-1:\n",
    "            \n",
    "            line=i.split('\\t')[1:]\n",
    "        else:\n",
    "            line=i.split('\\t')[1:-1]\n",
    "        Datap.append(line)\n",
    "Processed_Network=pd.DataFrame(Datap[1:],columns=Datap[0])"
   ]
  },
  {
   "cell_type": "code",
   "execution_count": 3,
   "metadata": {
    "scrolled": true
   },
   "outputs": [],
   "source": [
    "#print(Processed_Network)"
   ]
  },
  {
   "cell_type": "code",
   "execution_count": 4,
   "metadata": {},
   "outputs": [],
   "source": [
    "#len(Processed_Network)\n"
   ]
  },
  {
   "cell_type": "markdown",
   "metadata": {},
   "source": [
    "We also process the optimal Solution to help validate our results "
   ]
  },
  {
   "cell_type": "code",
   "execution_count": 5,
   "metadata": {},
   "outputs": [],
   "source": [
    "Optimal=open('Sioux_Optimal.txt').readlines()\n",
    "Optimal_flow=np.zeros((24,24))\n",
    "Optimal_cost=np.zeros((24,24))\n",
    "Pandasframe=[]\n",
    "for i in Optimal:\n",
    "    line=i[:-1].split('\\t')\n",
    "    Pandasframe.append(line)\n",
    "COLUMNS=Pandasframe[0]\n",
    "Pandasframe=pd.DataFrame(Pandasframe[1:],columns=Pandasframe[0])\n",
    "    "
   ]
  },
  {
   "cell_type": "markdown",
   "metadata": {},
   "source": [
    "Now we process the Demands as suggested in the github page, and store in a Matrix $D\\in\\mathbb{R}^{n\\times n}$"
   ]
  },
  {
   "cell_type": "code",
   "execution_count": 6,
   "metadata": {},
   "outputs": [],
   "source": [
    "def import_matrix(matfile):\n",
    "    f = open(matfile, 'r')\n",
    "    all_rows = f.read()\n",
    "    blocks = all_rows.split('Origin')[1:]\n",
    "    matrix = {}\n",
    "    for k in range(len(blocks)):\n",
    "        orig = blocks[k].split('\\n')\n",
    "        dests = orig[1:]\n",
    "        orig=int(orig[0])\n",
    "\n",
    "        d = [eval('{'+a.replace(';',',').replace(' ','') +'}') for a in dests]\n",
    "        destinations = {}\n",
    "        for i in d:\n",
    "            destinations = {**destinations, **i}\n",
    "        matrix[orig] = destinations\n",
    "    zones = max(matrix.keys())\n",
    "    mat = np.zeros((zones, zones))\n",
    "    for i in range(zones):\n",
    "        for j in range(zones):\n",
    "            # We map values to a index i-1, as Numpy is base 0\n",
    "            mat[i, j] = matrix.get(i+1,{}).get(j+1,0)\n",
    "\n",
    "    index = np.arange(zones) + 1\n",
    "    return mat\n",
    "\n"
   ]
  },
  {
   "cell_type": "code",
   "execution_count": 7,
   "metadata": {
    "scrolled": true
   },
   "outputs": [
    {
     "name": "stdout",
     "output_type": "stream",
     "text": [
      "[[   0.  100.  100.  500.  200.  300.  500.  800.  500. 1300.  500.  200.\n",
      "   500.  300.  500.  500.  400.  100.  300.  300.  100.  400.  300.  100.]\n",
      " [ 100.    0.  100.  200.  100.  400.  200.  400.  200.  600.  200.  100.\n",
      "   300.  100.  100.  400.  200.    0.  100.  100.    0.  100.    0.    0.]\n",
      " [ 100.  100.    0.  200.  100.  300.  100.  200.  100.  300.  300.  200.\n",
      "   100.  100.  100.  200.  100.    0.    0.    0.    0.  100.  100.    0.]\n",
      " [ 500.  200.  200.    0.  500.  400.  400.  700.  700. 1200. 1400.  600.\n",
      "   600.  500.  500.  800.  500.  100.  200.  300.  200.  400.  500.  200.]\n",
      " [ 200.  100.  100.  500.    0.  200.  200.  500.  800. 1000.  500.  200.\n",
      "   200.  100.  200.  500.  200.    0.  100.  100.  100.  200.  100.    0.]\n",
      " [ 300.  400.  300.  400.  200.    0.  400.  800.  400.  800.  400.  200.\n",
      "   200.  100.  200.  900.  500.  100.  200.  300.  100.  200.  100.  100.]\n",
      " [ 500.  200.  100.  400.  200.  400.    0. 1000.  600. 1900.  500.  700.\n",
      "   400.  200.  500. 1400. 1000.  200.  400.  500.  200.  500.  200.  100.]\n",
      " [ 800.  400.  200.  700.  500.  800. 1000.    0.  800. 1600.  800.  600.\n",
      "   600.  400.  600. 2200. 1400.  300.  700.  900.  400.  500.  300.  200.]\n",
      " [ 500.  200.  100.  700.  800.  400.  600.  800.    0. 2800. 1400.  600.\n",
      "   600.  600.  900. 1400.  900.  200.  400.  600.  300.  700.  500.  200.]\n",
      " [1300.  600.  300. 1200. 1000.  800. 1900. 1600. 2800.    0. 4000. 2000.\n",
      "  1900. 2100. 4000. 4400. 3900.  700. 1800. 2500. 1200. 2600. 1800.  800.]\n",
      " [ 500.  200.  300. 1500.  500.  400.  500.  800. 1400. 3900.    0. 1400.\n",
      "  1000. 1600. 1400. 1400. 1000.  100.  400.  600.  400. 1100. 1300.  600.]\n",
      " [ 200.  100.  200.  600.  200.  200.  700.  600.  600. 2000. 1400.    0.\n",
      "  1300.  700.  700.  700.  600.  200.  300.  400.  300.  700.  700.  500.]\n",
      " [ 500.  300.  100.  600.  200.  200.  400.  600.  600. 1900. 1000. 1300.\n",
      "     0.  600.  700.  600.  500.  100.  300.  600.  600. 1300.  800.  800.]\n",
      " [ 300.  100.  100.  500.  100.  100.  200.  400.  600. 2100. 1600.  700.\n",
      "   600.    0. 1300.  700.  700.  100.  300.  500.  400. 1200. 1100.  400.]\n",
      " [ 500.  100.  100.  500.  200.  200.  500.  600. 1000. 4000. 1400.  700.\n",
      "   700. 1300.    0. 1200. 1500.  200.  800. 1100.  800. 2600. 1000.  400.]\n",
      " [ 500.  400.  200.  800.  500.  900. 1400. 2200. 1400. 4400. 1400.  700.\n",
      "   600.  700. 1200.    0. 2800.  500. 1300. 1600.  600. 1200.  500.  300.]\n",
      " [ 400.  200.  100.  500.  200.  500. 1000. 1400.  900. 3900. 1000.  600.\n",
      "   500.  700. 1500. 2800.    0.  600. 1700. 1700.  600. 1700.  600.  300.]\n",
      " [ 100.    0.    0.  100.    0.  100.  200.  300.  200.  700.  200.  200.\n",
      "   100.  100.  200.  500.  600.    0.  300.  400.  100.  300.  100.    0.]\n",
      " [ 300.  100.    0.  200.  100.  200.  400.  700.  400. 1800.  400.  300.\n",
      "   300.  300.  800. 1300. 1700.  300.    0. 1200.  400. 1200.  300.  100.]\n",
      " [ 300.  100.    0.  300.  100.  300.  500.  900.  600. 2500.  600.  500.\n",
      "   600.  500. 1100. 1600. 1700.  400. 1200.    0. 1200. 2400.  700.  400.]\n",
      " [ 100.    0.    0.  200.  100.  100.  200.  400.  300. 1200.  400.  300.\n",
      "   600.  400.  800.  600.  600.  100.  400. 1200.    0. 1800.  700.  500.]\n",
      " [ 400.  100.  100.  400.  200.  200.  500.  500.  700. 2600. 1100.  700.\n",
      "  1300. 1200. 2600. 1200. 1700.  300. 1200. 2400. 1800.    0. 2100. 1100.]\n",
      " [ 300.    0.  100.  500.  100.  100.  200.  300.  500. 1800. 1300.  700.\n",
      "   800. 1100. 1000.  500.  600.  100.  300.  700.  700. 2100.    0.  700.]\n",
      " [ 100.    0.    0.  200.    0.  100.  100.  200.  200.  800.  600.  500.\n",
      "   700.  400.  400.  300.  300.    0.  100.  400.  500. 1100.  700.    0.]]\n"
     ]
    }
   ],
   "source": [
    "D=import_matrix('Sioux_Demands.txt')\n",
    "print(D)"
   ]
  },
  {
   "cell_type": "markdown",
   "metadata": {},
   "source": [
    "Now we define the Components required to mathematically express the Problem, therefore let for $(i,j)\\in  A$ the Set of arcs and flow $x_{ij}$.\n",
    "\\begin{align*}\n",
    "&l_{ij}\\text{ be the length of a in this case equal to the free flow travel time }\\\\\n",
    "&C_{ij} \\text{ be the so called capacity,}\\\\\n",
    "&B:=0.15 \\text{ the BPR-Value, }\\\\\n",
    "&a_{ij} \\text{ be the free flow travel time between Nodes} \\\\\n",
    "&P_{ij} \\text{ be the Power in this case set as }4\\\\\n",
    "&b_{ij}=a_{ij}\\cdot\\frac{B}{C_{ij}^{P_{ij}}}\\\\\n",
    "&f_{ij}(x)=a_{ij}x_{ij}+\\frac{b_{ij}}{5}x_{ij}^5, \\text{ be the Integral of the Link travel time.}\\\\\n",
    "&\\frac{\\partial f}{\\partial x_{ij}^s}(x)=a_{ij}+x_{ij}^{P_{ij}}\\cdot b_{ij}=\\frac{\\partial f_{ij}(x)}{\\partial x_{ij}} \\text{ , be  the Link travel time}.\n",
    "\\end{align*}\n",
    "We will assume for now that the cost is only determined by the link travel time."
   ]
  },
  {
   "cell_type": "code",
   "execution_count": 8,
   "metadata": {},
   "outputs": [],
   "source": [
    "B=np.zeros((24,24))\n",
    "free_flow=np.zeros((24,24))\n",
    "C=np.zeros((24,24))\n",
    "P=np.zeros((24,24))\n",
    "b=np.zeros((24,24))\n",
    "toll=np.zeros((24,24))\n",
    "length=np.zeros((24,24))\n",
    "Edges1=[]\n",
    "Link_travel_Time=np.zeros((24,24))\n",
    "Optimal_flow=np.zeros((24,24))\n",
    "Optimal_cost=np.zeros((24,24))\n",
    "Of1=Pandasframe[COLUMNS[2]]\n",
    "Oc1=Pandasframe[COLUMNS[3]]\n",
    "B1=Processed_Network['init_node']\n",
    "B2=Processed_Network['term_node']\n",
    "c1=Processed_Network['capacity']\n",
    "a1=Processed_Network['free_flow_time']\n",
    "p1=Processed_Network['power']\n",
    "\n",
    "l=0\n",
    "j=0\n",
    "while j< len(B1):\n",
    "   \n",
    "    if int(B1[j])-1==l:\n",
    "        B[int(B1[j])-1][int(B2[j])-1]=0.15\n",
    "        free_flow[int(B1[j])-1][int(B2[j])-1]=float(a1[j])\n",
    "        C[int(B1[j])-1][int(B2[j])-1]=float(c1[j])\n",
    "        P[int(B1[j])-1][int(B2[j])-1]=float(p1[j])\n",
    "        b[int(B1[j])-1][int(B2[j])-1]=free_flow[int(B1[j])-1][int(B2[j])-1]*0.15/(C[int(B1[j])-1][int(B2[j])-1]**4) \n",
    "        Optimal_flow[int(B1[j])-1][int(B2[j])-1]=float(Of1[j])\n",
    "        Optimal_cost[int(B1[j])-1][int(B2[j])-1]=float(Oc1[j])\n",
    "        Edges1.append([int(B1[j])-1,int(B2[j])-1])\n",
    "        j=j+1\n",
    "    else:\n",
    "       \n",
    "        l=l+1    \n"
   ]
  },
  {
   "cell_type": "code",
   "execution_count": 9,
   "metadata": {},
   "outputs": [],
   "source": [
    "#print(Optimal_cost)"
   ]
  },
  {
   "cell_type": "markdown",
   "metadata": {},
   "source": [
    "# Next we will set the mathematical Problem"
   ]
  },
  {
   "cell_type": "markdown",
   "metadata": {},
   "source": [
    "First the objective function defined for a flow $x:A\\to \\mathbb{R}$ as \n",
    "\\begin{align*}\n",
    "f(x)=\\sum_{a\\in A} f_{a}( x)=\\sum_{(i,j)\\in A}a_{ij}x_{ij}+\\frac{b_{ij}}{5}x_{ij}^5\n",
    "\\end{align*}\n",
    "with gradient \n",
    "\\begin{align*}\n",
    "\\nabla f(x)=\\sum_{(i,j)\\in A} \\frac{\\partial f_{ij}(x)}{\\partial x_{ij}}=\n",
    "\\begin{bmatrix}a_{11}+x_{11}^{P_{11}}\\cdot b_{11}&\\dots&a_{1n}+x_{1n}^{P_{1n}}\\cdot b_{1n}\\\\\n",
    "\\vdots&a_{ij}+x_{ij}^{P_{ij}}\\cdot b_{ij}&\\vdots\n",
    "\\\\ \n",
    "a_{n1}+x_{n1}^{P_{n1}}\\cdot b_{n1}&\\dots&a_{nn}+x_{nn}^{P_{nn}}\\cdot b_{nn} \n",
    "\\end{bmatrix}\n",
    "\\end{align*}\n",
    "\n"
   ]
  },
  {
   "cell_type": "markdown",
   "metadata": {},
   "source": [
    "Our Goal is to minimize\n",
    "\\begin{align*}\n",
    "&\\min f(x)\\\\\n",
    "&s.t: D_{js}+ \\sum_{i} x_{ij}^s=\\sum_{k} x_{jk}^s \\text{ for all }j\\\\\n",
    "&x_{ij}^s\\geq 0\n",
    "\\end{align*}\n",
    "using the Frank-Wolfe Method which means we need an efficient way of solving \n",
    "\\begin{align*}\n",
    "\\min s^\\top \\nabla f(x)\n",
    "\\end{align*}\n",
    "with $s\\in\\tilde{D}$, the Polyhedron given by the constraints from the original problem.\n"
   ]
  },
  {
   "cell_type": "markdown",
   "metadata": {},
   "source": [
    "# Solving the call for the Oracle "
   ]
  },
  {
   "cell_type": "markdown",
   "metadata": {},
   "source": [
    "Having presented both the formulation of the problem and the algorithm we will first use to solve it, we now get to discuss how to implement the algorithm efficiently. Since the main difficulty for the implementation of the Frank-Wolfe Method in this case, relies on how to solve the call for the oracle we will discuss this first.\n",
    "As seen in section 1.3 the Frank-Wolfe Algorithm solves in every iteration the subproblem \n",
    "\\begin{equation}\n",
    "\\begin{aligned}\n",
    "& \\underset{v\\in \\mathcal{V}}{\\text{min}}\n",
    "& & v^\\top\\nabla f(x)  \n",
    "\\end{aligned}\n",
    "\\end{equation}\n",
    "which for our case is given by \n",
    "\\begin{equation}\n",
    "\\begin{aligned}\n",
    "& \\underset{g(y)=0}{\\underset{y\\geq 0}{\\text{min}}}\n",
    "& & \\sum_{(i,j)\\in A}\\sum_{s=1}^p c_{ij}y_{ij}^s\\geq\\sum_{s=1}^p & \\underset{g(y)=0}{\\underset{y\\geq 0}{\\text{min}}}\n",
    "& & \\sum_{(i,j)\\in A}c_{ij}y_{ij}^s\n",
    "\\end{aligned}\n",
    "\\end{equation}\n",
    "Where $g$ ensures that the flow circulation constraints are satisfied REFER TO THE CONSTRAINTS.\n",
    "This allows us to solve the call for the oracle by solving the subproblem one block at a time, which means minimizing the cost of sending $D_{js}$ units of flow for all nodes $j$ to node $s$. This can be done using the Dijkstra algorithm using the costs  $c_{ij}$ as distances between nodes. This strategy does not violate the constraints imposed by $g$ . Finally we only need to sum up the solutions of the individual blocks to obtain the direction we will then minimize along."
   ]
  },
  {
   "cell_type": "code",
   "execution_count": 10,
   "metadata": {},
   "outputs": [],
   "source": [
    "def smallest_distance(unvisited_Network):\n",
    "    '''\n",
    "    \n",
    "\n",
    "    Parameters\n",
    "    ----------\n",
    "    unvisited_Network : List\n",
    "        Contains all unvisited Nodes .\n",
    "\n",
    "    Returns\n",
    "    -------\n",
    "    a : Node\n",
    "        looks among all unvisited Nodes for the one with smallest Distance to the initial .\n",
    ".\n",
    "\n",
    "    '''\n",
    "    a=unvisited_Network[0]\n",
    "    for i in unvisited_Network:\n",
    "        if not i.Visited:\n",
    "            if i.Distance<a.Distance:\n",
    "                a=i\n",
    "    return a\n",
    "def Notallvisited(Network):\n",
    "    if Network.unvisited_Network!=[]:\n",
    "        return True \n",
    "\n",
    "def Dijkstra(Network,x0):\n",
    "    #print('Dijkstra')\n",
    "    Network.unvisited_Network=list(Network.Nodes)\n",
    "    for i in Network.Nodes:\n",
    "        if not i==x0:\n",
    "            i.Distance=np.inf\n",
    "            i.Predecessor=None\n",
    "        else:\n",
    "            i.Distance=0\n",
    "            i.Predecessor=None \n",
    "            \n",
    "    while Notallvisited(Network):\n",
    "        #print(len(Network.Nodes))\n",
    "        \n",
    "        a=smallest_distance(Network.unvisited_Network)\n",
    "        Network.unvisited_Network.remove(a)\n",
    "        #Network.unvisited_Network.remove(a)\n",
    "        for j in a.Edges:\n",
    "            #j is an Edge a=(0,1) and has the attribute cost\n",
    "            #print(j.Tuple[1],'Index')\n",
    "            #print(len(Network.Nodes))\n",
    "            if Network.Nodes[j.Tuple[1]].Visited==False:\n",
    "                if Network.Nodes[j.Tuple[1]].Distance>j.Cost+a.Distance:\n",
    "                   Network.Nodes[j.Tuple[1]].Distance=j.Cost+a.Distance\n",
    "                   Network.Nodes[j.Tuple[1]].Predecessor=a\n",
    "\n",
    "            \n",
    "        "
   ]
  },
  {
   "cell_type": "code",
   "execution_count": 11,
   "metadata": {},
   "outputs": [],
   "source": [
    "class Edge:\n",
    "    def __init__(self,Tuple,Cost ):\n",
    "        self.Tuple=Tuple\n",
    "        self.Cost=Cost\n",
    "    \n",
    "class Node:\n",
    "    def __init__(self,Edges,Distance,key):\n",
    "        self.Edges=Edges\n",
    "        self.Distance=0\n",
    "        self.key=key\n",
    "        self.Predecessor=None\n",
    "        self.Visited=False\n",
    "    def print_edges(self):\n",
    "        print('Edges outgoing from Node ',self.key+1)\n",
    "        for i in self.Edges:\n",
    "            print(i.Tuple+np.ones(2))\n",
    "\n",
    "class Class_Network:\n",
    "    def __init__(self,Nodes,Edges ):\n",
    "        self.Nodes=Nodes\n",
    "        self.unvisited_Network=list(Nodes)\n",
    "        self.Edges=list(Edges)\n",
    "#class Residual_Network:\n",
    "    \n",
    "        "
   ]
  },
  {
   "cell_type": "code",
   "execution_count": 12,
   "metadata": {},
   "outputs": [],
   "source": [
    "\n",
    "def Initialize_Network(xk):\n",
    "    '''\n",
    "    The Link Travel Time is the Gradient in xk\n",
    "    Iterate over all of the nodes \n",
    "    for node_i:\n",
    "        set a list of Edges going from (i,other)\n",
    "        \n",
    "        \n",
    "        \n",
    "    '''\n",
    "    n=24\n",
    "    #print('Initialize Network')\n",
    "    Y=np.zeros((n,n))\n",
    "    \n",
    "    Link_travel_Time=free_flow+b*xk**4\n",
    "    #print(Link_travel_Time)\n",
    "    Nodes=[ ]\n",
    "    \n",
    "   \n",
    "    for j in range(n):\n",
    "        Edges=[] \n",
    "        \n",
    "        current=Processed_Network. loc[Processed_Network['init_node'] == str(j+1)]\n",
    "        \n",
    "        \n",
    "        for i in current['term_node']:\n",
    "                Edges.append(Edge(np.array([j,int(i)-1]),Link_travel_Time[j,int(i)-1]))\n",
    "\n",
    "        Nodes.append(Node(Edges,0,j))\n",
    "    \n",
    "    Network=Class_Network(Nodes,Edges1)\n",
    "    \n",
    "    return Network\n",
    "\n"
   ]
  },
  {
   "cell_type": "code",
   "execution_count": null,
   "metadata": {},
   "outputs": [],
   "source": []
  },
  {
   "cell_type": "markdown",
   "metadata": {},
   "source": [
    "# Solving the Oracle "
   ]
  },
  {
   "cell_type": "code",
   "execution_count": 13,
   "metadata": {},
   "outputs": [],
   "source": [
    "def Fortran_Op(y,Network,Start):\n",
    "    #print('Fortran')\n",
    "    #for i in Network.Nodes:\n",
    "        #print(i.Predecessor)\n",
    "    \n",
    "    #print('Start',Start)\n",
    "    for j in Network.Nodes:\n",
    "    \n",
    "        Current_Node=j\n",
    "        while Current_Node!=Start:\n",
    "            \n",
    "            #print\n",
    "            #print(Current_Node.key)\n",
    "            #print(Start.key)\n",
    "            \n",
    "            y[Current_Node.Predecessor.key][Current_Node.key]+=D[j.key][Start.key]\n",
    "            #print(D[j.key][Start.key],'D')\n",
    "            Current_Node=Current_Node.Predecessor\n",
    "        \n",
    "        "
   ]
  },
  {
   "cell_type": "code",
   "execution_count": 14,
   "metadata": {},
   "outputs": [],
   "source": [
    "def Oracle(xk):\n",
    "    Y=np.zeros((24,24))\n",
    "    Network=Initialize_Network(xk)\n",
    "    \n",
    "    s=0\n",
    "    Start=Network.Nodes[s]\n",
    "    while s<len(Network.Nodes):\n",
    "        \n",
    "        #print(s,len(Network.Nodes),s<24)\n",
    "        Start=Network.Nodes[s]\n",
    "        Dijkstra(Network,Start)\n",
    "        Fortran_Op(Y,Network,Start)\n",
    "        s=s+1\n",
    "        \n",
    "        \n",
    "    return Y\n",
    "\n",
    "    \n",
    "    \n",
    "    \n",
    "    \n",
    "    \n",
    "    \n",
    "    "
   ]
  },
  {
   "cell_type": "markdown",
   "metadata": {},
   "source": [
    "# Actual Frank-Wolfe Algorithm "
   ]
  },
  {
   "cell_type": "markdown",
   "metadata": {},
   "source": [
    "We will now implement a standard Version of the Frank-Wolfe Algorithm "
   ]
  },
  {
   "cell_type": "code",
   "execution_count": 15,
   "metadata": {},
   "outputs": [],
   "source": [
    "def Initial():\n",
    "        '''\n",
    "        gives us an Initial feasible starting Point, by \n",
    "        sending all of the flow between every Od-pair through the \n",
    "        cheapest route in terms of free flow travel time \n",
    "        '''\n",
    "        xk=np.zeros((24,24))\n",
    "        Network=Initialize_Network(xk)\n",
    "\n",
    "        s=0\n",
    "        Start=Network.Nodes[s]\n",
    "        while Start.key<len(Network.Nodes)-1:\n",
    "            #print(s)\n",
    "            Dijkstra(Network,Start)\n",
    "            Fortran_Op(xk,Network,Start)\n",
    "            s=s+1\n",
    "            Start=Network.Nodes[s+1]\n",
    "        return xk\n"
   ]
  },
  {
   "cell_type": "code",
   "execution_count": 16,
   "metadata": {},
   "outputs": [],
   "source": [
    "def Objective(x):\n",
    "    '''\n",
    "    Objective function\n",
    "    '''\n",
    "    Link_cost=free_flow*x+x**5*(b/5)\n",
    "    Link_cost1=free_flow+b*x**4\n",
    "    \n",
    "    return np.sum(Link_cost)/100000\n"
   ]
  },
  {
   "cell_type": "markdown",
   "metadata": {},
   "source": [
    "# Stepsizes "
   ]
  },
  {
   "cell_type": "code",
   "execution_count": 17,
   "metadata": {},
   "outputs": [],
   "source": [
    "\n",
    "def stepsize1(i)  : \n",
    "    '''\n",
    "    Easy choice of stepsize \n",
    "    '''\n",
    "    return 2/(i+1)\n",
    "def stepsize2(w,xk):\n",
    "    i=0\n",
    "    alpha_i=1/(i+1)\n",
    "    current=xk\n",
    "    while Objective(current+alpha_i*(w-current))<Objective(current):\n",
    "        i+=1\n",
    "        print(i)\n",
    "        alpha_i=1/(i+1)\n",
    "        current=current+alpha_i*(w-current)\n",
    "    return alpha_i    \n",
    "def line_search(x,v):\n",
    "    '''\n",
    "    computes a stepsize using a line search with an error of 1/200 \n",
    "    '''\n",
    "    value_small=Objective(x)\n",
    "    stepsize_final=1/2\n",
    "    direction=1\n",
    "    for i in range(2,200):      \n",
    "        if value_small>Objective(x+(stepsize_final+direction*1/i)*(v-x)):\n",
    "        \n",
    "            #if the value decreases when going to the right \n",
    "            value_small=Objective(x+(stepsize_final+direction*1/i)*(v-x))\n",
    "            stepsize_final+=direction*1/i\n",
    "        else:\n",
    "            direction=-direction\n",
    "            #if the value does not decrease when going to the right, go left \n",
    "            value_small=Objective(x+(stepsize_final+direction*1/i)*(v-x))\n",
    "            stepsize_final+=direction*1/i\n",
    "    return stepsize_final\n",
    "        \n",
    "\n",
    "def stepsize_NEP(Stepi,current,new):\n",
    "    \n",
    "    '''\n",
    "    Stepsize proposed in NEP Algorithm 1\n",
    "    '''\n",
    "    if Objective(current)>Objective(new):\n",
    "        return Stepi\n",
    "    else: \n",
    "        return 0\n",
    "    "
   ]
  },
  {
   "cell_type": "code",
   "execution_count": 18,
   "metadata": {},
   "outputs": [],
   "source": [
    "\n",
    "def Frank_Wolfe(xk,T):\n",
    "    '''\n",
    "    Standard Frank Wolfe Algorithm, to switch between stepsizes recall the different stepsize functions \n",
    "    '''\n",
    "    i=0\n",
    "    A=np.zeros(T)\n",
    "    while i<T:\n",
    "        \n",
    "        \n",
    "        w=Oracle(xk)\n",
    "        #alpha_i=stepsize1(i)\n",
    "        alpha_i=line_search(xk,w)\n",
    "        \n",
    "        A[i]=Objective(xk)\n",
    "        print(A[i])\n",
    "        xk=xk+alpha_i*(w-xk)\n",
    "        \n",
    "        i=i+1\n",
    "        \n",
    "    return xk,A"
   ]
  },
  {
   "cell_type": "markdown",
   "metadata": {},
   "source": [
    "# We now Test the Algorithm "
   ]
  },
  {
   "cell_type": "code",
   "execution_count": 19,
   "metadata": {},
   "outputs": [
    {
     "name": "stdout",
     "output_type": "stream",
     "text": [
      "153.87145218267509\n",
      "60.45188837073294\n",
      "52.83358938161854\n",
      "50.881545210747085\n",
      "47.87801768698962\n",
      "46.88694760668836\n",
      "45.47724002572441\n",
      "44.89279414404043\n",
      "44.39504568929955\n",
      "44.04666030435909\n",
      "43.67030905919762\n",
      "43.48609405204043\n",
      "43.366177836273934\n",
      "43.26417215386176\n",
      "43.182305480216534\n",
      "43.09192263471628\n",
      "43.01969748855659\n",
      "42.98159832277208\n",
      "42.91744089533088\n",
      "42.88360235763913\n"
     ]
    }
   ],
   "source": [
    "x0=Initial()\n",
    "#x0=np.zeros((24,24))\n",
    "T=20\n",
    "Network=Initialize_Network(x0)\n",
    "Result=Frank_Wolfe(x0,T)\n",
    "w=Oracle(x0)\n"
   ]
  },
  {
   "cell_type": "code",
   "execution_count": 20,
   "metadata": {},
   "outputs": [
    {
     "data": {
      "text/plain": [
       "Text(0.5, 1.0, 'Standard Frank-Wolfe')"
      ]
     },
     "execution_count": 20,
     "metadata": {},
     "output_type": "execute_result"
    },
    {
     "data": {
      "image/png": "[encoded data removed]",
      "text/plain": [
       "<Figure size 432x288 with 1 Axes>"
      ]
     },
     "metadata": {
      "needs_background": "light"
     },
     "output_type": "display_data"
    }
   ],
   "source": [
    "plt.plot(np.arange(T),Result[1])\n",
    "plt.ylabel('Objective')\n",
    "plt.xlabel('iterations')\n",
    "plt.title('Standard Frank-Wolfe')"
   ]
  },
  {
   "cell_type": "markdown",
   "metadata": {},
   "source": [
    "# Validation via optimal results presented in Github"
   ]
  },
  {
   "cell_type": "markdown",
   "metadata": {},
   "source": [
    "Value of the starting point $x_0$"
   ]
  },
  {
   "cell_type": "code",
   "execution_count": 21,
   "metadata": {},
   "outputs": [
    {
     "name": "stdout",
     "output_type": "stream",
     "text": [
      "153.87145218267509\n"
     ]
    }
   ],
   "source": [
    "print(Objective(x0))"
   ]
  },
  {
   "cell_type": "markdown",
   "metadata": {},
   "source": [
    "Value of the computed iterate $x_{20}$"
   ]
  },
  {
   "cell_type": "code",
   "execution_count": 22,
   "metadata": {},
   "outputs": [
    {
     "name": "stdout",
     "output_type": "stream",
     "text": [
      "42.82306390319573\n"
     ]
    }
   ],
   "source": [
    "print(Objective(Result[0]))"
   ]
  },
  {
   "cell_type": "markdown",
   "metadata": {},
   "source": [
    "Value of the Optimal flow found in Git evaluated with the Objective function used "
   ]
  },
  {
   "cell_type": "code",
   "execution_count": 23,
   "metadata": {},
   "outputs": [
    {
     "name": "stdout",
     "output_type": "stream",
     "text": [
      "42.3133528710744\n"
     ]
    }
   ],
   "source": [
    "print(Objective(Optimal_flow))"
   ]
  },
  {
   "cell_type": "markdown",
   "metadata": {},
   "source": [
    "Value of the Optimal flow found in Git "
   ]
  },
  {
   "cell_type": "code",
   "execution_count": 24,
   "metadata": {},
   "outputs": [
    {
     "name": "stdout",
     "output_type": "stream",
     "text": [
      "42.3133528710744\n"
     ]
    }
   ],
   "source": [
    " print(42.31335287107440)"
   ]
  },
  {
   "cell_type": "markdown",
   "metadata": {},
   "source": [
    "So far the results appear to  be correct."
   ]
  },
  {
   "cell_type": "markdown",
   "metadata": {},
   "source": [
    "# Frank wolfe with Nearest Extreme Point Oracle "
   ]
  },
  {
   "cell_type": "markdown",
   "metadata": {},
   "source": [
    "Let $\\lambda>0$ be a parameter to be tuned. We first consider the following rewriting of the oracle \n",
    "\\begin{align*}\n",
    "     &\\min_{v \\in \\mathcal{V}} v^\\top\\nabla f(x)+\\lambda||v-x||^2\\\\\n",
    "     &=\\min_{v\\in\\mathcal{V}}\\left|\\left| v-\\left(x -\\frac{1}{2\\lambda}\\nabla f(x)\\right)\\right|\\right|^2\\\\\n",
    "     &=\\min_{v\\in\\mathcal{V}}\\left|\\left| v-\\left(x -\\frac{1}{2\\lambda}\\nabla f(x)\\right)\\right|\\right|^2\\\\\n",
    "\\end{align*}\n",
    "Next by setting $y:=\\left(x -\\frac{1}{2\\lambda}\\nabla f(x)\\right)$, then for $c\\in \\mathbb{R}^n$ with $c\\geq 0$\n",
    "\\begin{align*}\n",
    "    &\\min_{v\\in\\mathcal{V}}||v-y||^2\\\\\n",
    "    &=\\min_{v\\in\\mathcal{V}}(v-y)^\\top(v-y)\\\\\n",
    "    &=\\min_{v\\in\\mathcal{V}}v^\\top v-2v^\\top y +y^\\top y\\\\\n",
    "    &=\\min_{v\\in\\mathcal{V}}v^\\top v-2v^\\top y \\\\\n",
    "    &=\\min_{v\\in\\mathcal{V}}v^\\top 1\\cdot 10^p-2v^\\top y \\\\\n",
    "    &=\\min_{v\\in\\mathcal{V}}v^\\top (1\\cdot 10^p-2y)\\\\\n",
    "\\end{align*}\n",
    "Now if we are able to set $p\\in \\mathbb{N}$, such that $ 10^p\\geq 2\\left(x_{ij}-\\frac{1}{2\\lambda}c_{ij}(x)\\right)$ for all $(i,j)\\in A$, then we can solve the call for the Oracle with the same Method we used for the standard Frank-Wolfe Oracle.\n",
    "One Remaining aspect is how to choose $\\lambda$, so far it is clear we need to choose a $\\lambda$ small enough not to set too much weight on the Penalty given by $\\lambda||v-x||^2$ but not so small that the penalty becomes trivial. The solution to this Problem is found on Algorithm 1 from NEP. \n",
    "In every Iteration of the Oracle we choose \n",
    "$\\lambda:=  \\frac{\\beta\\mu_t}{2}$ where $(\\mu_t)_{t\\in \\mathbb{N}}$ is a sequence of predetermined stepsizes, and $\\beta$ remains to be estimated. "
   ]
  },
  {
   "cell_type": "markdown",
   "metadata": {},
   "source": [
    "We now set $p=6$ as a first estimate, since "
   ]
  },
  {
   "cell_type": "code",
   "execution_count": 25,
   "metadata": {},
   "outputs": [
    {
     "data": {
      "text/plain": [
       "360600.0"
      ]
     },
     "execution_count": 25,
     "metadata": {},
     "output_type": "execute_result"
    }
   ],
   "source": [
    "np.sum(D)"
   ]
  },
  {
   "cell_type": "markdown",
   "metadata": {},
   "source": [
    "And thus we obtain"
   ]
  },
  {
   "cell_type": "code",
   "execution_count": 26,
   "metadata": {},
   "outputs": [
    {
     "name": "stdout",
     "output_type": "stream",
     "text": [
      "953394976.0577945\n"
     ]
    }
   ],
   "source": [
    "\n",
    "#    print(np.linalg.norm(b**2*i**8)**2/np.linalg.norm(i**2))\n",
    "p=6\n",
    "M=np.ones((24,24))*10**p\n",
    "#beta=np.linalg.norm(b**2*M**8)**2/np.linalg.norm(M**2)\n",
    "beta=np.linalg.norm(b*4*M**(3))**2\n",
    "print(beta)"
   ]
  },
  {
   "cell_type": "code",
   "execution_count": 27,
   "metadata": {},
   "outputs": [
    {
     "data": {
      "text/plain": [
       "476697488.0288972"
      ]
     },
     "execution_count": 27,
     "metadata": {},
     "output_type": "execute_result"
    }
   ],
   "source": [
    "lamba=beta/2\n",
    "lamba "
   ]
  },
  {
   "cell_type": "code",
   "execution_count": 28,
   "metadata": {},
   "outputs": [],
   "source": [
    "def Initialize_NEP_Network(xk,lamba):\n",
    "    #print('Initialize Network')\n",
    "    Y=np.zeros((24,24))\n",
    "    #big_Y=set_big_Y()\n",
    "    Link_travel_Time=free_flow+b*xk**4#+#lamba*xk**2-2*lamba*xk+big_Y\n",
    "    Link_travel_Time=np.ones((24,24))*10**(p)-2*(xk-(1/(2*lamba))*Link_travel_Time)\n",
    "    #print(Link_travel_Time)\n",
    "    Nodes=[ ]\n",
    "    \n",
    "   \n",
    "    for j in range(24):\n",
    "        Edges=[] \n",
    "        i=0\n",
    "    \n",
    "        while i< len(Processed_Network):\n",
    "            if int(Processed_Network.iloc[i]['init_node'])==j+1:\n",
    "                Edges.append(Edge(np.array([j,int(Processed_Network.iloc[i]['term_node'])-1]),Link_travel_Time[j,int(Processed_Network.iloc[i]['term_node'])-1]))\n",
    "                i=i+1\n",
    "            else:\n",
    "                i=i+1\n",
    "        \n",
    "        Nodes.append(Node(Edges,0,j))\n",
    "    \n",
    "    Network=Class_Network(Nodes,Edges1)\n",
    "    \n",
    "    return Network\n",
    "    "
   ]
  },
  {
   "cell_type": "code",
   "execution_count": 29,
   "metadata": {},
   "outputs": [],
   "source": [
    "def NEP_Oracle(xk,lamba):\n",
    "    '''\n",
    "    This function will solve the call for the NEP Oracle \n",
    "    '''\n",
    "    Y=np.zeros((24,24))\n",
    "    Network=Initialize_NEP_Network(xk,lamba)\n",
    "    \n",
    "    s=0\n",
    "    Start=Network.Nodes[s]\n",
    "    while s<len(Network.Nodes):\n",
    "        \n",
    "        #print(s,len(Network.Nodes),s<24)\n",
    "        Start=Network.Nodes[s]\n",
    "        Dijkstra(Network,Start)\n",
    "        #print_Network(Network)\n",
    "        Fortran_Op(Y,Network,Start)\n",
    "        s=s+1\n",
    "        \n",
    "        \n",
    "    return Y\n"
   ]
  },
  {
   "cell_type": "code",
   "execution_count": 30,
   "metadata": {},
   "outputs": [],
   "source": [
    "\n",
    "def Frank_Wolfe_NEP(xk,T,beta):\n",
    "    '''\n",
    "    This will be a modified version of the Standard Frank_Wolfe to test mainly the call for the Oracle \n",
    "    Notice that it is possible to modify the stepsizes using any of the functions above\n",
    "    '''\n",
    "    i=0\n",
    "    lamba=beta/2\n",
    "    A=np.zeros(T)\n",
    "    while i<T:\n",
    "        #print(i,'XK',xk)\n",
    "        stepi=stepsize1(i) \n",
    "        lamba=beta*stepi/2\n",
    "        w=NEP_Oracle(xk,lamba)\n",
    "    \n",
    "        \n",
    "        #stepi=line_search(xk,w)\n",
    "        new=xk+stepi*(w-xk)\n",
    "        alpha_i=line_search(xk,w)\n",
    "      \n",
    "        \n",
    "        #print(alpha_i,np.linalg.norm(xk-Optimal_flow))\n",
    "        A[i]=Objective(xk)\n",
    "        #last=xk\n",
    "        #print(xk)\n",
    "        xk=xk+alpha_i*(w-xk)\n",
    "        \n",
    "        i=i+1\n",
    "        print(i,np.linalg.norm(xk-Optimal_flow),Objective(xk),np.sum(w))\n",
    "        #if np.linalg.norm(last-xk)<20:\n",
    "        #   return xk\n",
    "    return xk,A"
   ]
  },
  {
   "cell_type": "code",
   "execution_count": 31,
   "metadata": {},
   "outputs": [
    {
     "name": "stdout",
     "output_type": "stream",
     "text": [
      "1 49288.38246493565 149.4056790860301 826600.0\n",
      "2 49277.536498138965 149.40692110968112 826600.0\n",
      "3 49266.54703933842 149.40833105527818 826600.0\n",
      "4 49266.06268700276 149.4084455546883 826600.0\n",
      "5 49265.579495456506 149.40856442417876 826600.0\n",
      "6 49265.09746420418 149.40868766148992 826600.0\n",
      "7 49264.61659275035 149.40881526436348 826600.0\n",
      "8 49264.13688059976 149.40894723054234 826600.0\n",
      "9 49263.65832725717 149.4090835577704 826600.0\n",
      "10 49263.180932227464 149.4092242437929 826600.0\n",
      "11 49262.704695015615 149.40936928635617 826600.0\n",
      "12 49262.22961512669 149.4095186832078 826600.0\n",
      "13 49261.75569206585 149.40967243209653 826600.0\n",
      "14 49261.282925338346 149.40983053077224 826600.0\n",
      "15 49260.8113144495 149.40999297698593 826600.0\n",
      "16 49272.400570250684 149.40730468684137 826600.0\n",
      "17 49271.90236536861 149.4073670043413 826600.0\n",
      "18 49271.40532717971 149.40743371890292 826600.0\n",
      "19 49270.90945518744 149.4075048282526 826600.0\n",
      "20 49270.414748895295 149.4075803301179 826600.0\n"
     ]
    }
   ],
   "source": [
    "x0=Initial()\n",
    "#print(np.max(x0))\n",
    "#print(x0/np.max(x0))\n",
    "#x0=np.zeros((24,24))\n",
    "#lamba=8\n",
    "#Network=Initialize_NEP_Network(x0,lamba)\n",
    "#T=20\n",
    "Result1=Frank_Wolfe_NEP(x0,T,beta)\n",
    "#Result2=Frank_Wolfe_NEP(x0,T,beta1)"
   ]
  },
  {
   "cell_type": "code",
   "execution_count": 32,
   "metadata": {},
   "outputs": [
    {
     "data": {
      "image/png": "[encoded data removed]",
      "text/plain": [
       "<Figure size 432x288 with 1 Axes>"
      ]
     },
     "metadata": {
      "needs_background": "light"
     },
     "output_type": "display_data"
    }
   ],
   "source": [
    "#plt.plot(np.arange(T),Result2[1],label='NEPb1')\n",
    "plt.plot(np.arange(T),Result[1],label='Standard')\n",
    "plt.plot(np.arange(T),Result1[1],label='NEP')\n",
    "plt.ylabel('Objective')\n",
    "plt.xlabel('iterations')\n",
    "plt.legend()\n",
    "plt.title('$p=10^6$, $\\\\beta_1$ given by estimation ')\n",
    "plt.savefig(\"PlotSioux1.jpg\", dpi=1000)#ax.set_title(' zweidimensionalen normalverteilten Zufallsvariable in Form eines Histogramms')\n"
   ]
  },
  {
   "cell_type": "markdown",
   "metadata": {},
   "source": [
    "### We can appreciate that the new Method seems much slower, we will therefore test different estimations for $\\beta$"
   ]
  },
  {
   "cell_type": "code",
   "execution_count": 33,
   "metadata": {},
   "outputs": [
    {
     "name": "stdout",
     "output_type": "stream",
     "text": [
      "1 49288.38246493565 149.4056790860301 826600.0\n",
      "2 49277.536498138965 149.40692110968112 826600.0\n",
      "3 49266.54703933842 149.40833105527818 826600.0\n",
      "4 49266.06268700276 149.4084455546883 826600.0\n",
      "5 49265.579495456506 149.40856442417876 826600.0\n",
      "6 49265.09746420418 149.40868766148992 826600.0\n",
      "7 49264.61659275035 149.40881526436348 826600.0\n",
      "8 49264.13688059976 149.40894723054234 826600.0\n",
      "9 49263.65832725717 149.4090835577704 826600.0\n",
      "10 49263.180932227464 149.4092242437929 826600.0\n",
      "11 49262.704695015615 149.40936928635617 826600.0\n",
      "12 49262.22961512669 149.4095186832078 826600.0\n",
      "13 49261.75569206585 149.40967243209653 826600.0\n",
      "14 49261.282925338346 149.40983053077224 826600.0\n",
      "15 49260.8113144495 149.40999297698593 826600.0\n",
      "16 49272.400570250684 149.40730468684137 826600.0\n",
      "17 49271.90236536861 149.4073670043413 826600.0\n",
      "18 49271.40532717971 149.40743371890292 826600.0\n",
      "19 49270.90945518744 149.4075048282526 826600.0\n",
      "20 49270.414748895295 149.4075803301179 826600.0\n"
     ]
    },
    {
     "data": {
      "image/png": "[encoded data removed]",
      "text/plain": [
       "<Figure size 432x288 with 1 Axes>"
      ]
     },
     "metadata": {
      "needs_background": "light"
     },
     "output_type": "display_data"
    }
   ],
   "source": [
    "x0=Initial()\n",
    "beta=beta/10**5\n",
    "Result1=Frank_Wolfe_NEP(x0,T,beta)\n",
    "#plt.plot(np.arange(T),Result2[1],label='NEPb1')\n",
    "plt.plot(np.arange(T),Result[1],label='Standard')\n",
    "plt.plot(np.arange(T),Result1[1],label='NEP')\n",
    "plt.ylabel('Objective')\n",
    "plt.xlabel('iterations')\n",
    "plt.legend()\n",
    "plt.title('$p=6$, $ \\\\beta_2=\\\\beta_1\\cdot 10^{-5}$ ')\n",
    "plt.savefig(\"PlotSioux2.jpg\", dpi=1000)#ax.set_title(' zweidimensionalen normalverteilten Zufallsvariable in Form eines Histogramms')\n"
   ]
  },
  {
   "cell_type": "markdown",
   "metadata": {},
   "source": [
    "### Setting as $\\beta=\\frac{\\beta}{10^3}$ increases the convergence rate"
   ]
  },
  {
   "cell_type": "code",
   "execution_count": 34,
   "metadata": {},
   "outputs": [
    {
     "name": "stdout",
     "output_type": "stream",
     "text": [
      "1 49288.38246493565 149.4056790860301 826600.0\n",
      "2 49267.795475268016 149.40598198764647 826600.0\n",
      "3 49246.198832231436 149.4054361581141 826600.0\n",
      "4 49313.16728190371 146.19237018685027 826600.0\n",
      "5 50795.126075829896 142.80741442789434 826600.0\n",
      "6 51360.70562924522 142.62199608173285 826600.0\n",
      "7 53884.80718467344 132.3545926322038 826600.0\n",
      "8 54302.92762688132 132.23704204736538 826600.0\n",
      "9 56524.98416731709 124.04530219859943 826600.0\n",
      "10 61535.14730733796 108.31086034757973 826600.0\n",
      "11 61223.77253494797 108.28263616431111 826600.0\n",
      "12 61224.13159475073 108.28263826044265 826600.0\n",
      "13 62607.60943810178 105.16103487666325 826600.0\n",
      "14 63225.49645891018 101.32875430639166 826600.0\n",
      "15 63232.47735479025 101.32871332787087 826600.0\n",
      "16 63232.57747965729 101.3287138094069 826600.0\n",
      "17 63232.67759619302 101.32871432097396 826600.0\n",
      "18 61335.070906797766 88.20419119491604 826600.0\n",
      "19 61364.14447171298 88.16524859436502 826600.0\n",
      "20 61369.46607530334 88.16493032743048 826600.0\n"
     ]
    },
    {
     "data": {
      "image/png": "[encoded data removed]",
      "text/plain": [
       "<Figure size 432x288 with 1 Axes>"
      ]
     },
     "metadata": {
      "needs_background": "light"
     },
     "output_type": "display_data"
    }
   ],
   "source": [
    "x0=Initial()\n",
    "beta=beta/10**5\n",
    "Result1=Frank_Wolfe_NEP(x0,T,beta)\n",
    "#plt.plot(np.arange(T),Result2[1],label='NEPb1')\n",
    "plt.plot(np.arange(T),Result[1],label='Standard')\n",
    "plt.plot(np.arange(T),Result1[1],label='NEP')\n",
    "plt.ylabel('Objective')\n",
    "plt.xlabel('iterations')\n",
    "plt.legend()\n",
    "plt.title('$p=6,\\\\beta_3 =\\\\beta_2\\cdot 10^{-5}$  ')\n",
    "plt.savefig(\"Plotsioux3.jpg\", dpi=1000)#ax.set_title(' zweidimensionalen normalverteilten Zufallsvariable in Form eines Histogramms')\n"
   ]
  },
  {
   "cell_type": "code",
   "execution_count": 35,
   "metadata": {},
   "outputs": [
    {
     "name": "stdout",
     "output_type": "stream",
     "text": [
      "1 19544.306493313135 56.498996617728814 1064300.0\n",
      "2 13570.939349164702 50.53788558745739 906200.0\n",
      "3 12108.256331029083 48.117437809194065 888000.0\n",
      "4 9112.588682028292 46.79560760284344 900800.0\n",
      "5 8513.17242044719 45.961123568138966 890700.0\n",
      "6 7021.651765548175 45.42327792271043 877300.0\n",
      "7 7465.476001539263 44.701840105072215 873500.0\n",
      "8 6026.128421101909 44.275427881171645 891400.0\n",
      "9 5898.718445467027 43.66989817631349 873500.0\n",
      "10 4021.3874332248433 43.33522778255079 902100.0\n",
      "11 3801.7429258698808 43.23955040234113 867000.0\n",
      "12 3559.376438781786 43.126093252104866 867200.0\n",
      "13 3483.286070306885 43.0470260072093 884100.0\n",
      "14 3429.658810063589 42.97519001077056 871000.0\n",
      "15 3049.5102759868632 42.90174291229655 870500.0\n",
      "16 2952.9028307934855 42.85023498338962 887300.0\n",
      "17 2938.1371428959874 42.79018081544446 870100.0\n",
      "18 2906.462029982883 42.76132478333246 883200.0\n",
      "19 2805.0656540862387 42.70421662581166 872500.0\n",
      "20 2546.4987500076522 42.673455836138196 884200.0\n"
     ]
    },
    {
     "data": {
      "image/png": "[encoded data removed]",
      "text/plain": [
       "<Figure size 432x288 with 1 Axes>"
      ]
     },
     "metadata": {
      "needs_background": "light"
     },
     "output_type": "display_data"
    }
   ],
   "source": [
    "x0=Initial()\n",
    "beta=beta/10**4\n",
    "Result1=Frank_Wolfe_NEP(x0,T,beta)\n",
    "#plt.plot(np.arange(T),Result2[1],label='NEPb1')\n",
    "plt.plot(np.arange(T),Result[1],label='Standard')\n",
    "plt.plot(np.arange(T),Result1[1],label='NEP')\n",
    "plt.ylabel('Objective')\n",
    "plt.xlabel('iterations')\n",
    "plt.legend()\n",
    "plt.title('$p=6,\\\\beta_4 =\\\\beta_3\\cdot 10^{-4}$  ')\n",
    "plt.savefig(\"Plotsiouxfinal.jpg\", dpi=1000)#ax.set_title(' zweidimensionalen normalverteilten Zufallsvariable in Form eines Histogramms')\n"
   ]
  },
  {
   "cell_type": "markdown",
   "metadata": {},
   "source": [
    "### resetting $\\beta_1=\\frac{\\beta}{10^{14}}$ increases the convergence rate. Which means that the first estimation we proposed for $\\beta$ does leave room for improvement."
   ]
  },
  {
   "cell_type": "code",
   "execution_count": 36,
   "metadata": {},
   "outputs": [
    {
     "data": {
      "text/plain": [
       "9.533949760577945e-06"
      ]
     },
     "execution_count": 36,
     "metadata": {},
     "output_type": "execute_result"
    }
   ],
   "source": [
    "beta"
   ]
  },
  {
   "cell_type": "markdown",
   "metadata": {},
   "source": [
    "# We now test how max percentage change behaves in both algorithms"
   ]
  },
  {
   "cell_type": "markdown",
   "metadata": {},
   "source": [
    "This choice of stepsize is recommended in the 'Paper AN EFFICIENT APPROACH TO SOLVING THE ROAD NETWORK EQUILIBRIUM TRAFFIC ASSIGNMENT PROBLEM' by Leblanc, Morlok and Pieskalla."
   ]
  },
  {
   "cell_type": "code",
   "execution_count": 37,
   "metadata": {},
   "outputs": [],
   "source": [
    "def max_percentage_change(X_new,X_old):\n",
    "    Diff=np.abs(X_old-X_new)\n",
    "    Change=np.where(X_old>0,Diff/(X_old/100),0)\n",
    "    \n",
    "    return np.max(Change)"
   ]
  },
  {
   "cell_type": "code",
   "execution_count": 38,
   "metadata": {},
   "outputs": [],
   "source": [
    "\n",
    "def Frank_Wolfe_percentage(xk,T,percentage):\n",
    "    i=0\n",
    "    \n",
    "    A=[]\n",
    "    while i<T:\n",
    "        \n",
    "        w=Oracle(xk)\n",
    "        alpha_i=line_search(xk,w)\n",
    "        X_old=xk\n",
    "        xk=xk+alpha_i*(w-xk)\n",
    "        X_new=xk\n",
    "        print('percentage',max_percentage_change(X_new,X_old))\n",
    "        A.append(max_percentage_change(X_new,X_old))\n",
    "\n",
    "        i=i+1\n",
    "        print(i,np.linalg.norm(xk-Optimal_flow),Objective(xk),np.sum(w))\n",
    " \n",
    "    return xk,A"
   ]
  },
  {
   "cell_type": "code",
   "execution_count": 39,
   "metadata": {},
   "outputs": [],
   "source": [
    "\n",
    "def Frank_Wolfe_NEP_percentage(xk,T,beta,percentage):\n",
    "    '''\n",
    "    This will be a modified version of the NEP algorithm to test the max_percentage influence in the results \n",
    "    '''\n",
    "    i=0\n",
    "    lamba=beta/2\n",
    "    A=[]\n",
    "    while i<T:\n",
    "        #print(i,'XK',xk)\n",
    "        stepi=stepsize1(i)\n",
    "        lamba=beta*stepi/2\n",
    "        w=NEP_Oracle(xk,lamba)\n",
    "       \n",
    "        #new=xk+stepi*(w-xk)\n",
    "        alpha_i=line_search(xk,w)\n",
    "   \n",
    "        X_old=xk\n",
    "        xk=xk+alpha_i*(w-xk)\n",
    "        X_new=xk\n",
    "        #if max_percentage_change(X_new,X_old)<percentage:\n",
    "            \n",
    "        #return xk,A\n",
    "        i=i+1\n",
    "        A.append(max_percentage_change(X_new,X_old))\n",
    "        print(i,max_percentage_change(X_new,X_old),np.linalg.norm(xk-Optimal_flow),Objective(xk),np.sum(w))\n",
    "        #if np.linalg.norm(last-xk)<20:\n",
    "        #   return xk\n",
    "    return xk,A"
   ]
  },
  {
   "cell_type": "code",
   "execution_count": 40,
   "metadata": {},
   "outputs": [
    {
     "name": "stderr",
     "output_type": "stream",
     "text": [
      "<ipython-input-37-05c28b79c98c>:3: RuntimeWarning: divide by zero encountered in true_divide\n",
      "  Change=np.where(X_old>0,Diff/(X_old/100),0)\n",
      "<ipython-input-37-05c28b79c98c>:3: RuntimeWarning: invalid value encountered in true_divide\n",
      "  Change=np.where(X_old>0,Diff/(X_old/100),0)\n"
     ]
    },
    {
     "name": "stdout",
     "output_type": "stream",
     "text": [
      "percentage 1043.4747267698685\n",
      "1 23701.566707488382 60.45188837073294 1163900.0\n",
      "percentage 69.66704069198542\n",
      "2 17423.007297747867 52.83358938161854 1000300.0\n",
      "percentage 51.452435734635394\n",
      "3 15949.406274089755 50.881545210747085 964200.0\n",
      "percentage 45.75118907459703\n",
      "4 15815.388658294638 47.87801768698962 904600.0\n",
      "percentage 38.593668426765646\n",
      "5 12308.096776777304 46.88694760668836 961500.0\n",
      "percentage 33.62514799231091\n",
      "6 12533.378229809246 45.47724002572441 900100.0\n",
      "percentage 30.830638695977665\n",
      "7 10439.985779898925 44.89279414404043 914500.0\n",
      "percentage 22.46698622292825\n",
      "8 8201.243024620024 44.39504568929955 871400.0\n",
      "percentage 20.379220585769694\n",
      "9 7250.760959100421 44.04666030435909 894300.0\n",
      "percentage 16.769479528026043\n",
      "10 7072.942066812526 43.67030905919762 888500.0\n",
      "percentage 16.38742678977206\n",
      "11 6147.358332512024 43.48609405204043 878900.0\n",
      "percentage 10.048805536644746\n",
      "12 5431.890584855139 43.366177836273934 871400.0\n",
      "percentage 9.674853292118321\n",
      "13 4909.970746711185 43.26417215386176 875500.0\n",
      "percentage 7.801405567382524\n",
      "14 4624.51420120049 43.182305480216534 874400.0\n",
      "percentage 8.880439646515406\n",
      "15 4761.304427259279 43.09192263471628 889000.0\n",
      "percentage 10.694422406155997\n",
      "16 4125.560919061896 43.01969748855659 867600.0\n",
      "percentage 7.77349071485035\n",
      "17 4371.256513125724 42.98159832277208 905800.0\n",
      "percentage 8.926949752093355\n",
      "18 3990.4581738462184 42.91744089533088 871700.0\n",
      "percentage 6.521264063509109\n",
      "19 3854.8047390500396 42.88360235763913 902200.0\n",
      "percentage 11.030305132034867\n",
      "20 3423.874592971169 42.82306390319573 871800.0\n",
      "percentage 7.200137331566424\n",
      "21 3504.2325835989795 42.79085163655916 890800.0\n",
      "percentage 8.818153326770894\n",
      "22 3187.478425416835 42.71900918977209 873400.0\n",
      "percentage 4.527121644648174\n",
      "23 3155.0044241499563 42.69151207928285 915100.0\n",
      "percentage 6.643760076230469\n",
      "24 2628.2246460219994 42.66458398396935 868900.0\n",
      "percentage 7.591742005718454\n",
      "25 2496.793227524897 42.643940014693904 863400.0\n",
      "percentage 3.736239829185744\n",
      "26 2326.753845371068 42.62194334739068 870500.0\n",
      "percentage 3.672632509766654\n",
      "27 2677.6105008633067 42.60662255881419 905600.0\n",
      "percentage 5.454893145415574\n",
      "28 2467.41461274795 42.58635201240964 870900.0\n",
      "percentage 3.2395745225489874\n",
      "29 2512.0947137534067 42.57645883061632 889000.0\n",
      "percentage 3.7185311947030986\n",
      "30 2263.718159604249 42.551983185581975 871000.0\n",
      "percentage 4.009488429379917\n",
      "31 2148.7753157184943 42.54008839307334 897300.0\n",
      "percentage 4.2800658722752605\n",
      "32 2079.0736450670297 42.53347143903067 870600.0\n",
      "percentage 3.7679902851509155\n",
      "33 1862.4520596547638 42.52434065267802 889100.0\n",
      "percentage 3.4242333252683403\n",
      "34 1976.3946981227696 42.516980428787114 891000.0\n",
      "percentage 3.2837474027154863\n",
      "35 1988.7463338204736 42.509298245653135 883200.0\n",
      "percentage 2.9515854458765056\n",
      "36 1849.076193500343 42.50129902892644 868700.0\n",
      "percentage 3.6344347937740875\n",
      "37 1804.6935145813793 42.491852397933194 872500.0\n",
      "percentage 2.534985693473577\n",
      "38 1790.505887791086 42.485570392383124 887900.0\n",
      "percentage 3.5765963789654664\n",
      "39 1822.9711926738623 42.48025191557694 883800.0\n",
      "percentage 2.944795035239509\n",
      "40 1632.4048131085 42.47578681272199 881800.0\n",
      "percentage 3.215804003480516\n",
      "41 1569.5681697180185 42.4701697250028 872900.0\n",
      "percentage 2.235215992330653\n",
      "42 1645.360280478177 42.46641686506742 888000.0\n",
      "percentage 2.8013869651294834\n",
      "43 1554.8862143549409 42.460554174507756 868700.0\n",
      "percentage 2.8167536245588076\n",
      "44 1395.353787996925 42.45399863318974 867100.0\n",
      "percentage 2.4002445793746063\n",
      "45 1422.7489380372353 42.450801522052714 902400.0\n",
      "percentage 2.5825381491538426\n",
      "46 1363.8691370933388 42.4470526310364 868700.0\n",
      "percentage 3.240835520575153\n",
      "47 1371.2291378154655 42.442810405943916 885900.0\n",
      "percentage 2.8257238344897475\n",
      "48 1253.3988014670763 42.4366383445178 868700.0\n",
      "percentage 2.099060848484288\n",
      "49 1279.3925369421067 42.43408987680599 885200.0\n",
      "percentage 2.247833921637653\n",
      "50 1203.0351953292723 42.429800999983044 870800.0\n",
      "percentage 1.8517645593344754\n",
      "51 1246.2608605754172 42.42676456320405 886700.0\n",
      "percentage 2.8036998790106584\n",
      "52 1174.4283484880823 42.4226249436647 870800.0\n",
      "percentage 1.7380000229769463\n",
      "53 1198.3027146851653 42.420742713923595 903800.0\n",
      "percentage 2.249276183890331\n",
      "54 1149.591783611967 42.41674445699371 870900.0\n",
      "percentage 1.8599512424891447\n",
      "55 1168.2607940586834 42.41471404522991 905900.0\n",
      "percentage 2.6106496003553494\n",
      "56 1120.1497803933755 42.41219755373795 870800.0\n",
      "percentage 2.171618394453377\n",
      "57 1143.780353555768 42.410524391373585 885300.0\n",
      "percentage 2.55686254732288\n",
      "58 1094.1860468977623 42.407221620164215 870900.0\n",
      "percentage 1.7301536809677633\n",
      "59 1102.5163539545838 42.40466148134855 887900.0\n",
      "percentage 2.2964852442853787\n",
      "60 1076.6230446355564 42.40221264171032 870100.0\n",
      "percentage 1.9928426450168928\n",
      "61 1025.5222643870477 42.40055723572556 872000.0\n",
      "percentage 1.6875752036986913\n",
      "62 997.7182168277452 42.39872723503246 870700.0\n",
      "percentage 2.0717033147063324\n",
      "63 1061.2092575760566 42.39708159225192 904700.0\n",
      "percentage 1.860418881068455\n",
      "64 1095.0995230150268 42.39597408158435 898600.0\n",
      "percentage 1.9384426233506553\n",
      "65 986.5923909098472 42.39380988097014 869100.0\n",
      "percentage 1.6682803078021626\n",
      "66 962.6865987464939 42.392018654695434 876000.0\n",
      "percentage 1.731753357320946\n",
      "67 1027.4577429821306 42.390614435670095 885800.0\n",
      "percentage 1.5265091339791168\n",
      "68 1024.617595759724 42.389138517934924 871600.0\n",
      "percentage 1.6585732423355835\n",
      "69 1061.222358306362 42.38760594253669 890800.0\n",
      "percentage 2.120193297712764\n",
      "70 989.8045063494986 42.38540260191765 871600.0\n",
      "percentage 1.3580506840365187\n",
      "71 922.0260492692864 42.383945953461556 868600.0\n",
      "percentage 2.031236082705439\n",
      "72 881.1485876379279 42.381330375763596 870800.0\n",
      "percentage 1.5029168759502978\n",
      "73 933.2338335393549 42.38029782688764 926400.0\n",
      "percentage 1.8067875357455487\n",
      "74 893.33997581785 42.37893692723466 870800.0\n",
      "percentage 1.3788057157429443\n",
      "75 839.7471360224627 42.37746650460354 868700.0\n",
      "percentage 1.2444660412318427\n",
      "76 891.6773957893848 42.37618351770783 887100.0\n",
      "percentage 1.1361732827912605\n",
      "77 918.9610307703349 42.375256959647174 882900.0\n",
      "percentage 1.6928296027520522\n",
      "78 860.8699747931195 42.37388185723836 870300.0\n",
      "percentage 1.3881840990882615\n",
      "79 783.6471125338604 42.372772158553126 866600.0\n",
      "percentage 1.3104888403334147\n",
      "80 836.8871040111052 42.371936818797344 884100.0\n",
      "percentage 1.2826521825843962\n",
      "81 880.5109018984755 42.37120332851261 885800.0\n",
      "percentage 1.22206008772047\n",
      "82 874.4701749608042 42.370166132975875 871600.0\n",
      "percentage 1.4969801741996138\n",
      "83 819.7322834780034 42.369097942186286 870000.0\n",
      "percentage 1.2848298794043267\n",
      "84 781.6645668664906 42.3684821521966 908100.0\n",
      "percentage 1.5687862812908044\n",
      "85 748.1532078290998 42.367117262802665 870800.0\n",
      "percentage 1.2114274375744631\n",
      "86 824.2088768682887 42.36647495853871 904300.0\n",
      "percentage 1.2586680648266877\n",
      "87 759.0519436366808 42.36509289847387 867000.0\n",
      "percentage 1.1415153850767714\n",
      "88 719.0759841422383 42.364237737933806 868700.0\n",
      "percentage 1.681034368389399\n",
      "89 715.9050741015019 42.36357048786446 871600.0\n",
      "percentage 1.1202449178938438\n",
      "90 755.0603330745988 42.36235032184774 885800.0\n",
      "percentage 0.9757436054049216\n",
      "91 786.7409242425905 42.36175550077494 890300.0\n",
      "percentage 1.0957151052136789\n",
      "92 774.8991221993249 42.36078283196479 870800.0\n",
      "percentage 1.4528971062950704\n",
      "93 705.7957390501088 42.35984922964484 880200.0\n",
      "percentage 1.1440383577131799\n",
      "94 695.7379666631317 42.35949987579845 870800.0\n",
      "percentage 1.0954359400103904\n",
      "95 700.0866574432034 42.3590724922384 888200.0\n",
      "percentage 1.0995050809353857\n",
      "96 724.03752273468 42.35824590348126 885800.0\n",
      "percentage 0.9249917514197926\n",
      "97 709.389393222127 42.3575828898098 883700.0\n",
      "percentage 1.2698788713946603\n",
      "98 683.5145451036822 42.356779930631575 868700.0\n",
      "percentage 0.9771933215016674\n",
      "99 649.1520576268463 42.356247825433705 871000.0\n",
      "percentage 0.822211421623759\n",
      "100 707.0484702730455 42.355566829592775 885800.0\n",
      "percentage 1.1450699789058885\n",
      "101 722.3000783202262 42.35504851714966 882800.0\n",
      "percentage 1.2848298794043274\n",
      "102 698.1871193775851 42.354651093879035 886600.0\n",
      "percentage 1.6116866390430065\n",
      "103 687.095915772301 42.353816743352105 870800.0\n",
      "percentage 1.472076650291843\n",
      "104 645.3687909825721 42.35339426281823 865400.0\n",
      "percentage 1.1462648380879024\n",
      "105 643.4749927719561 42.35277278420564 870600.0\n",
      "percentage 1.0954359400103724\n",
      "106 720.7547457397586 42.35234673216576 925000.0\n",
      "percentage 1.1258986411514986\n",
      "107 706.0920875533059 42.35165997765718 870800.0\n"
     ]
    },
    {
     "name": "stdout",
     "output_type": "stream",
     "text": [
      "percentage 0.9997556454851522\n",
      "108 645.3506708921267 42.351144106745345 866200.0\n",
      "percentage 1.141993487192632\n",
      "109 675.1943709423712 42.35079966403024 888800.0\n",
      "percentage 0.6207266062976878\n",
      "110 735.7144859356177 42.35053540612028 891600.0\n",
      "percentage 1.1067218811978725\n",
      "111 659.1333222871898 42.34992258710351 869100.0\n",
      "percentage 1.1183573572100383\n",
      "112 630.3370598616451 42.34942391668044 865800.0\n",
      "percentage 1.1311709920670998\n",
      "113 690.4282941065254 42.34897763107246 888800.0\n",
      "percentage 0.9055965475213327\n",
      "114 688.0177872713385 42.34863155357788 871500.0\n",
      "percentage 1.0214423617996298\n",
      "115 679.4393241826606 42.348184026515895 871300.0\n",
      "percentage 1.2848298794043187\n",
      "116 728.1562009272704 42.34778772692161 903000.0\n",
      "percentage 2.3396850671233964\n",
      "117 671.7319298816341 42.346836438334975 870700.0\n",
      "percentage 1.012264607323955\n",
      "118 693.5466218936015 42.34653297065261 898100.0\n",
      "percentage 1.0176680075693827\n",
      "119 702.7469838431297 42.34632766994312 888700.0\n",
      "percentage 1.094442050228889\n",
      "120 659.9168494413964 42.34595458158929 870800.0\n",
      "percentage 1.0209093576165664\n",
      "121 660.5667689878778 42.34557992094129 868700.0\n",
      "percentage 1.4284270298639963\n",
      "122 628.2337749070906 42.344906819701194 872800.0\n",
      "percentage 0.9416551194904863\n",
      "123 623.5642941586514 42.34451876471801 868900.0\n",
      "percentage 0.9337125701032307\n",
      "124 618.3073275811397 42.34393265308872 885800.0\n",
      "percentage 0.9060839640236836\n",
      "125 665.8835861161176 42.34358020309575 888700.0\n",
      "percentage 1.0027399953966405\n",
      "126 628.1572495507428 42.34318304030966 871500.0\n",
      "percentage 1.0285741576381349\n",
      "127 607.0981114750734 42.34274157365514 870400.0\n",
      "percentage 0.7878118656671055\n",
      "128 640.0783446848519 42.342488323648666 890800.0\n",
      "percentage 1.109950929939571\n",
      "129 627.1101423957869 42.342067118083584 870800.0\n",
      "percentage 0.9037763656866725\n",
      "130 584.5991787397501 42.341658548316126 868700.0\n",
      "percentage 0.8803821765695253\n",
      "131 653.9294659899698 42.34158912151635 922400.0\n",
      "percentage 1.1130074783616946\n",
      "132 570.0796920012198 42.34085913902711 870800.0\n",
      "percentage 0.9931856933544015\n",
      "133 560.0230470834333 42.340551650927495 867800.0\n",
      "percentage 0.9166452107176427\n",
      "134 621.2818506592344 42.340063111175 888800.0\n",
      "percentage 0.9776294260159683\n",
      "135 591.6199568127083 42.339830541431404 866000.0\n",
      "percentage 0.7744035929075413\n",
      "136 569.4155154125125 42.33960656980201 870800.0\n",
      "percentage 0.8122602250608201\n",
      "137 629.3364022658311 42.33929970763799 889600.0\n",
      "percentage 0.9355141839293809\n",
      "138 563.119425454349 42.33911737234149 870800.0\n",
      "percentage 1.4528971062950877\n",
      "139 562.213841778567 42.33871944452693 885000.0\n",
      "percentage 0.786597567397438\n",
      "140 616.9295793607266 42.338596065557304 892800.0\n",
      "percentage 1.0988988117614154\n",
      "141 578.5433160986074 42.33821365761945 870800.0\n",
      "percentage 0.8038979359348496\n",
      "142 592.650504120375 42.33792383595054 868700.0\n",
      "percentage 1.0258614185334043\n",
      "143 549.4638671128938 42.33770193211989 872800.0\n",
      "percentage 1.2848298794043238\n",
      "144 621.3107829650401 42.337392873427554 906200.0\n",
      "percentage 0.8802961690441833\n",
      "145 633.5026439320047 42.337320826776384 883500.0\n",
      "percentage 0.875777662459627\n",
      "146 620.3148955660313 42.33703370006045 867000.0\n",
      "percentage 0.9620060534203042\n",
      "147 600.2272139139694 42.33680941715257 870800.0\n",
      "percentage 0.8702383232412637\n",
      "148 613.695491693072 42.33651292103266 870800.0\n",
      "percentage 1.6306044581077128\n",
      "149 547.2576813100927 42.3359794872968 872000.0\n",
      "percentage 0.8195942746950783\n",
      "150 573.3298138995427 42.33583114346195 890800.0\n",
      "percentage 0.8099814895352029\n",
      "151 590.5155840391332 42.33549359096698 886900.0\n",
      "percentage 0.9996107246369862\n",
      "152 594.8093746152518 42.33519162574344 870700.0\n",
      "percentage 0.9725654409074396\n",
      "153 566.9660126792397 42.33504588207035 869900.0\n",
      "percentage 0.8909940553513459\n",
      "154 576.6766126170442 42.3346310534199 870800.0\n",
      "percentage 1.096053187671576\n",
      "155 519.4622261997862 42.33432105922764 870800.0\n",
      "percentage 1.0153525368563616\n",
      "156 539.3409057960655 42.33422086301513 897900.0\n",
      "percentage 1.284829879404325\n",
      "157 567.6816342479373 42.333897848769695 888200.0\n",
      "percentage 0.6925830143192143\n",
      "158 592.5184065274844 42.3337510821094 888300.0\n",
      "percentage 1.0078351525429734\n",
      "159 593.0306008990227 42.33361772840025 872800.0\n",
      "percentage 0.9590699998052681\n",
      "160 567.9070503417679 42.33339445382905 870800.0\n",
      "percentage 0.7833932010428554\n",
      "161 580.2779454321213 42.333206517548476 890000.0\n",
      "percentage 0.8294004128284992\n",
      "162 564.9237401186348 42.33287619580059 871600.0\n",
      "percentage 0.8723878516403314\n",
      "163 586.7027611302206 42.33270590237974 886600.0\n",
      "percentage 0.847069508027229\n",
      "164 563.975929484738 42.33245670254799 868600.0\n",
      "percentage 0.7594648730804499\n",
      "165 576.5593519133903 42.332316540536574 869500.0\n",
      "percentage 0.9383118897992035\n",
      "166 570.0074648901824 42.33212379240944 889200.0\n",
      "percentage 1.1128656696062207\n",
      "167 560.3074059435228 42.33178289806636 868700.0\n",
      "percentage 0.7011180837632277\n",
      "168 562.0502011555365 42.33177045464132 896600.0\n",
      "percentage 1.0645361857156213\n",
      "169 521.627691207013 42.33120549512262 870800.0\n",
      "percentage 0.7855238894339734\n",
      "170 550.8134321396416 42.33112286648392 885700.0\n",
      "percentage 0.691928058227821\n",
      "171 574.3241759715014 42.33091691313438 888800.0\n",
      "percentage 0.7531838546072764\n",
      "172 528.2117470949346 42.33076596837141 868600.0\n",
      "percentage 0.9515190570351721\n",
      "173 527.363294787541 42.33059135032997 868600.0\n",
      "percentage 0.8803821765695288\n",
      "174 542.8385121384599 42.33050948342052 886100.0\n",
      "percentage 0.8803821765695312\n",
      "175 559.5395300009943 42.33040171306995 890200.0\n",
      "percentage 0.6919345108796083\n",
      "176 573.8083788987306 42.33013602234073 885800.0\n",
      "percentage 0.680604830752735\n",
      "177 582.6866640564979 42.33008762032054 886000.0\n",
      "percentage 0.8657459072308559\n",
      "178 553.2658823661976 42.32971085498909 868700.0\n",
      "percentage 1.0101304148369825\n",
      "179 557.8534353973281 42.32964478735064 882600.0\n",
      "percentage 0.9438077732483634\n",
      "180 556.3051933516089 42.32951388687417 868700.0\n",
      "percentage 0.8640842627177521\n",
      "181 539.7039821482775 42.329282461526056 870700.0\n",
      "percentage 1.1207660172954257\n",
      "182 497.4142506987486 42.32896510248849 870700.0\n",
      "percentage 0.6430488469954778\n",
      "183 552.8902548195199 42.32891997179955 903800.0\n",
      "percentage 0.9424501546537831\n",
      "184 524.2827150913797 42.32872111243302 869100.0\n",
      "percentage 0.7555564466547525\n",
      "185 537.9100111720288 42.328604636533036 885800.0\n",
      "percentage 1.0954359400103904\n",
      "186 548.6659215158464 42.328407932153524 886700.0\n",
      "percentage 0.7726855866721123\n",
      "187 571.9791504379947 42.32841213206848 868700.0\n",
      "percentage 0.9178815344674903\n",
      "188 557.8494105178042 42.328128787072544 885400.0\n",
      "percentage 0.7873048072240264\n",
      "189 571.2666052149224 42.32814287622556 870700.0\n",
      "percentage 1.0954359400103741\n",
      "190 545.9597644283177 42.327951935515806 888200.0\n",
      "percentage 0.6804598034021442\n",
      "191 575.3418341335694 42.327847003925015 888300.0\n",
      "percentage 0.7646936819058422\n",
      "192 522.0221748222306 42.32756933386826 863600.0\n",
      "percentage 0.9764958400191398\n",
      "193 547.19244959773 42.327593384877964 883700.0\n",
      "percentage 0.9881870586754629\n",
      "194 551.0921544112205 42.32725614371302 870700.0\n",
      "percentage 0.9312304978777749\n",
      "195 509.2645740492995 42.32706616616635 870800.0\n",
      "percentage 0.6832007622900951\n",
      "196 526.2294605155864 42.32697621037755 888700.0\n",
      "percentage 1.12394231991708\n",
      "197 521.4621209952655 42.32673016852757 871400.0\n",
      "percentage 0.5006720455821392\n",
      "198 536.2413459444842 42.326643980015376 887200.0\n",
      "percentage 0.634076757850311\n",
      "199 551.5697648517037 42.32662820036586 888700.0\n",
      "percentage 0.6338469994737969\n",
      "200 560.5701888161383 42.32645150059767 870800.0\n",
      "1 1084.2832982978261 19544.306493313135 56.498996617728814 1064300.0\n",
      "2 55.79880170935951 13570.939349164702 50.53788558745739 906200.0\n",
      "3 75.43133859775375 12108.256331029083 48.117437809194065 888000.0\n",
      "4 35.34889069320577 9112.588682028292 46.79560760284344 900800.0\n",
      "5 20.57060100249282 8513.17242044719 45.961123568138966 890700.0\n",
      "6 17.35904884085228 7021.651765548175 45.42327792271043 877300.0\n",
      "7 24.383528407795104 7465.476001539263 44.701840105072215 873500.0\n",
      "8 23.358636003203383 6026.128421101909 44.275427881171645 891400.0\n",
      "9 27.194539889865045 5898.718445467027 43.66989817631349 873500.0\n",
      "10 25.658243531825573 4021.3874332248433 43.33522778255079 902100.0\n",
      "11 12.737980554989205 3801.7429258698808 43.23955040234113 867000.0\n",
      "12 11.279372363421485 3559.376438781786 43.126093252104866 867200.0\n",
      "13 8.160841577517399 3483.286070306885 43.0470260072093 884100.0\n"
     ]
    },
    {
     "name": "stdout",
     "output_type": "stream",
     "text": [
      "14 8.982071683770691 3429.658810063589 42.97519001077056 871000.0\n",
      "15 8.691438662477879 3049.5102759868632 42.90174291229655 870500.0\n",
      "16 8.963929012143158 2952.9028307934855 42.85023498338962 887300.0\n",
      "17 7.766275245858897 2938.1371428959874 42.79018081544446 870100.0\n",
      "18 6.513995608141632 2906.462029982883 42.76132478333246 883200.0\n",
      "19 8.201986697948907 2805.0656540862387 42.70421662581166 872500.0\n",
      "20 7.657157240551755 2546.4987500076522 42.673455836138196 884200.0\n",
      "21 5.51808928110851 2525.473933076132 42.653932441959974 868700.0\n",
      "22 4.591155107886334 2541.120043676718 42.63459760514984 882200.0\n",
      "23 4.13976276718909 2505.525571238119 42.617963349771024 883700.0\n",
      "24 3.933727421799749 2516.4620129165282 42.60339603354087 872500.0\n",
      "25 4.69412464881215 2498.725118091226 42.59011785330156 866800.0\n",
      "26 4.252780152897303 2511.593332858262 42.57639424671936 870700.0\n",
      "27 4.4244802590401315 2423.51109337551 42.56453902647717 872500.0\n",
      "28 3.288291784674918 2373.772674168784 42.55121187737342 885900.0\n",
      "29 3.7600586053117047 2349.814973067316 42.53948364887765 887600.0\n",
      "30 3.7679902851509155 2095.4238885796353 42.5311810991293 876200.0\n",
      "31 4.228812286810992 2105.9966984495404 42.5179430751506 868700.0\n",
      "32 3.029730178687206 1962.6632477877606 42.507684394271635 882900.0\n",
      "33 4.365113290351591 1945.1935370864032 42.49851531064226 868700.0\n",
      "34 2.3978377388406296 1916.0441711091948 42.492201480456245 890500.0\n",
      "35 3.3912430432114062 2028.1550800457637 42.48245708788089 870900.0\n",
      "36 2.2924612728875977 1949.0097294051911 42.47743535267149 868300.0\n",
      "37 3.125392126734248 1958.819625742059 42.4720563786575 888800.0\n",
      "38 2.147516305294922 1902.5393779785286 42.467177866452836 868300.0\n",
      "39 2.6314523459559767 1948.9463965126877 42.461893844625735 880500.0\n",
      "40 3.535985540532964 1877.9293391232297 42.45696362024693 868600.0\n",
      "41 2.686942219343985 1829.181352656154 42.45375972062743 870800.0\n",
      "42 3.071678413245536 1619.2303061835646 42.44925784382917 891000.0\n",
      "43 2.311388567385359 1574.1191082889911 42.445675068212786 870900.0\n",
      "44 2.473835357624004 1584.3913070368346 42.44076425939162 904100.0\n",
      "45 3.5819631618478627 1315.3123558725665 42.4358879441106 884700.0\n",
      "46 2.2653987186377806 1311.1490866682354 42.43281655990461 871300.0\n",
      "47 3.6417070566990573 1288.2192925617278 42.42843053214824 869000.0\n",
      "48 2.9703488272484164 1268.8020371172963 42.425935577094656 872400.0\n",
      "49 2.474540343651724 1270.1228116676962 42.42272547751475 870800.0\n",
      "50 2.7655299514971587 1227.7615263104435 42.41835769766843 889600.0\n",
      "51 2.7509375490350947 1231.1517638712128 42.41442839700369 886300.0\n",
      "52 2.2391207910118562 1224.60709490678 42.4114649972396 868600.0\n",
      "53 2.141255081231373 1201.0770856049855 42.40833995393461 869500.0\n",
      "54 1.9654979967931243 1205.6740251623028 42.40601299859664 868400.0\n",
      "55 1.9495761627593526 1203.9851226536096 42.40459751497751 870700.0\n",
      "56 2.4025972177922044 1243.810397746793 42.40080725352277 889600.0\n",
      "57 1.5477139263853692 1217.3101871793776 42.398992020717394 882900.0\n",
      "58 1.709507104635584 1247.1345489319615 42.3969040150878 869100.0\n",
      "59 1.8565151485838867 1105.1088172621735 42.3955358064448 886600.0\n",
      "60 2.1113737180212975 1068.8054071571196 42.39328617445564 870800.0\n",
      "61 1.4820474223311555 1096.2122894040676 42.39187994406109 868800.0\n",
      "62 2.106926125662538 1089.5278927010872 42.38994863897955 888600.0\n",
      "63 2.327675638881132 973.6314122511509 42.38787709075384 883900.0\n",
      "64 1.5375776925735185 958.6332439595265 42.38684379533084 869400.0\n",
      "65 1.8384457423709564 950.7967930883846 42.384995962360485 889600.0\n",
      "66 1.5319971006212727 932.5271285313787 42.38371624831146 871200.0\n",
      "67 1.6149085192955328 977.3538713361813 42.38245473668968 865400.0\n",
      "68 1.3735519387612203 948.5903717296719 42.38116156115819 885800.0\n",
      "69 2.123190263289519 988.5070062734949 42.379193627495894 869500.0\n",
      "70 1.3792802624759959 940.757561076704 42.37791002311233 885700.0\n",
      "71 2.5254337202655113 988.2059904751864 42.37627166565108 872800.0\n",
      "72 1.7899871787834705 960.2143799493306 42.37530055370528 886500.0\n",
      "73 1.6604506038342421 964.7222949094828 42.37398566387682 868700.0\n",
      "74 1.6030472564452294 840.4638350925109 42.37275442258752 904500.0\n",
      "75 1.4107362521655356 823.6920183653818 42.371829160087586 870800.0\n",
      "76 1.5305457793459305 808.3316138493408 42.3705906916963 867900.0\n",
      "77 1.1426021328679588 829.4080405438997 42.36983234164367 886300.0\n",
      "78 2.1642102527266727 720.574262905245 42.36840740351745 886700.0\n",
      "79 1.1247861232803753 722.5504306842619 42.367846585398986 870800.0\n",
      "80 1.9100238354569203 708.7829751228683 42.366670861957594 890800.0\n",
      "81 1.0398316623906758 696.9058325258094 42.36574749699979 882900.0\n",
      "82 1.1473470162015742 727.6485435639144 42.36499234365441 864900.0\n",
      "83 1.121986322246015 715.2299079091046 42.3644447990714 870400.0\n",
      "84 1.583704382060031 731.1846197554104 42.36333324773334 869500.0\n",
      "85 1.1466698673457894 727.6102958082383 42.362793451452795 870800.0\n",
      "86 1.2630785461817469 745.829622809121 42.361960185514754 890800.0\n",
      "87 1.0615782519734558 743.8005477169593 42.36134165537579 887500.0\n",
      "88 1.3801274342774261 758.5013092031226 42.360378962531684 865700.0\n",
      "89 1.2848298794043251 676.8754543146955 42.3597883919421 886600.0\n",
      "90 1.0861292186198706 652.929769011804 42.35892421388615 871600.0\n",
      "91 1.1180312094324047 669.0449698040129 42.358337503404805 870700.0\n",
      "92 1.3922764862576726 666.3195402941112 42.35764029646389 887800.0\n",
      "93 1.4380582391128742 671.268235031024 42.35708261003169 883700.0\n",
      "94 1.3716444606474079 656.7098178599874 42.35622816007139 868600.0\n",
      "95 1.0603828979559542 678.3562908928012 42.355760795694515 868700.0\n",
      "96 0.9771271416716323 678.8947366408343 42.35534405619273 882400.0\n",
      "97 1.9706932136962334 642.690910798128 42.3543235267931 884700.0\n",
      "98 0.7932638017085082 632.1808034162492 42.35398210676787 868700.0\n",
      "99 1.125364835673086 634.1526448735833 42.353453605879004 889100.0\n",
      "100 1.1781688135779702 618.2293295039347 42.352833618871514 869500.0\n",
      "101 1.1057177462741385 652.6540726626528 42.352307994059736 888800.0\n",
      "102 1.8414860100593864 635.7898729195717 42.35158542434385 872800.0\n",
      "103 0.7762401671940634 640.9846701986773 42.35120809451377 883700.0\n",
      "104 1.4111217206692916 625.1410714299145 42.35045148527 870800.0\n",
      "105 0.9403421971797645 650.7248724202624 42.35007141198922 871600.0\n",
      "106 1.0954359400103875 584.752325887315 42.34962829637819 896600.0\n",
      "107 1.0673493608618914 633.2261216080525 42.34898242495732 867000.0\n",
      "108 0.7844217431018071 611.6543613757531 42.34867787845474 887800.0\n",
      "109 1.1080509808357475 606.8519589586583 42.34801987331489 870800.0\n",
      "110 0.8105873656151055 592.3817237593443 42.34756611870863 870200.0\n",
      "111 0.959468796900224 616.203639165832 42.347199214939515 888800.0\n",
      "112 0.6489931234918143 626.1488942146556 42.346958338704205 869500.0\n",
      "113 1.198381819040383 628.9161494264922 42.34641533143605 871600.0\n",
      "114 1.0171203768760815 607.2833328693436 42.34598063779865 888300.0\n",
      "115 0.9405386068047679 658.2545981404461 42.34549809965376 867000.0\n",
      "116 1.0954359400103826 589.0485962802742 42.34515050076688 905700.0\n",
      "117 1.6030472564452214 535.4359679848701 42.34450168588439 888200.0\n",
      "118 1.148914861327475 550.8972942478993 42.34426850491481 885400.0\n",
      "119 0.9594417698568141 531.7395051986183 42.34392488332531 868700.0\n",
      "120 1.1716295469748779 524.6855396434468 42.34337168822361 870800.0\n",
      "121 1.1132335125207993 545.0077798427092 42.34285279481323 888400.0\n",
      "122 0.9072802340589504 542.7045678758582 42.342514478089015 867800.0\n",
      "123 0.9292885395682076 547.6008624187151 42.34211000958414 887100.0\n",
      "124 0.7978630853109949 560.6753184506586 42.34180381303926 868300.0\n",
      "125 1.0265404508625118 527.9927014718768 42.341381516252525 870700.0\n",
      "126 0.7700583985910692 537.0906538453766 42.3411802996236 867000.0\n",
      "127 0.6769085083422487 558.3988496600379 42.34095260675339 871600.0\n",
      "128 0.9794295427180467 543.6721635466035 42.34062364443407 906800.0\n",
      "129 0.8089994265191754 575.8984344166673 42.340350151400195 871500.0\n",
      "130 0.8675077581387354 565.4505942838778 42.33991888070322 868700.0\n",
      "131 0.9880370286366704 576.2613718682421 42.33977459497671 868600.0\n",
      "132 0.9628579598555714 581.861951267494 42.33962383686228 870800.0\n",
      "133 0.9792259764377004 596.9800564236982 42.33939214222236 886600.0\n",
      "134 1.0954359400103928 548.2417880746099 42.33909749675728 902400.0\n",
      "135 1.1765297161885373 554.3560846566397 42.33850723319331 870000.0\n"
     ]
    },
    {
     "name": "stdout",
     "output_type": "stream",
     "text": [
      "136 1.2328897615332202 557.1513693355447 42.338237390761414 869000.0\n",
      "137 1.0954359400103921 507.69285460519865 42.33790109929732 891700.0\n",
      "138 0.7499438295127367 508.51219230075867 42.33735027561339 870800.0\n",
      "139 1.0168134115193512 506.57441231013644 42.33703824163815 904400.0\n",
      "140 0.7920666792353483 494.6758456068141 42.33682413030363 868700.0\n",
      "141 0.820272016448055 523.6331952719414 42.336534657552065 869100.0\n",
      "142 0.7684825398719196 510.3122413868645 42.336335718311716 887700.0\n",
      "143 0.7478786443892983 514.504290646233 42.336031751196664 869500.0\n",
      "144 0.943489194742728 514.1232057929615 42.33575549096415 885800.0\n",
      "145 0.9503153209642106 510.2080901821331 42.33541270260445 868600.0\n",
      "146 0.8803821765695301 493.57710374583974 42.33532243926436 897900.0\n",
      "147 1.1057786642686207 510.0562430610464 42.33497343872889 870800.0\n",
      "148 0.6804875376714252 499.62677094610217 42.33484112020568 868300.0\n",
      "149 0.974522622298739 488.7200130321158 42.33453852403006 889600.0\n",
      "150 0.6360079779296306 494.6082366419181 42.334366051960735 869900.0\n",
      "151 0.6413950748126341 526.0418550479162 42.33421378631722 886100.0\n",
      "152 0.8012221758803562 504.00421994537913 42.33395277256241 870800.0\n",
      "153 0.6862476959186896 530.2550815548313 42.33373000981615 866600.0\n",
      "154 0.8803821765695287 501.784100149849 42.33359314254479 882900.0\n",
      "155 1.014982903298793 521.0535327161784 42.33336346870413 871600.0\n",
      "156 0.6920014437067664 519.0130028427859 42.33303916654283 885800.0\n",
      "157 0.8803821765695288 498.4177729887966 42.332957275248205 902900.0\n",
      "158 1.0988001229354678 490.516181879573 42.33269703724329 869100.0\n",
      "159 0.939356874275524 482.0803182440372 42.33235716573298 868300.0\n",
      "160 0.7723601643781611 508.12076755332583 42.332191128355184 890800.0\n",
      "161 0.9731313632894458 507.7038708232295 42.33215270445982 868700.0\n",
      "162 0.7554720252948973 513.0859298207641 42.331978675670825 884500.0\n",
      "163 1.0469634583188758 511.232862930728 42.33163033486605 866000.0\n",
      "164 0.6340767578503106 484.7442076373016 42.3315351042937 887900.0\n",
      "165 0.5536611602891007 498.82968389295223 42.33124306701917 870800.0\n",
      "166 0.7840388553194653 497.8287926622415 42.331132751791195 902400.0\n",
      "167 0.7816645186195267 510.731626486811 42.33093254983602 871600.0\n",
      "168 0.7749934992924848 511.5433700693807 42.33077974230405 869100.0\n",
      "169 1.0954359400103733 465.9551040960556 42.33053048776159 886700.0\n",
      "170 0.6416673116521573 461.7229612591862 42.33037711883869 885000.0\n",
      "171 0.7866645964149277 462.6520115122107 42.33022860651223 870800.0\n",
      "172 0.880382176569518 459.067739310169 42.330057940169965 903800.0\n",
      "173 0.6420550192954403 487.7797688666229 42.32997574433165 867200.0\n",
      "174 0.7536362378241537 462.9449221034556 42.3297889850161 868700.0\n",
      "175 1.0287255358325689 472.4698760653183 42.32957955976315 890800.0\n",
      "176 0.5263921060083309 488.68050038832024 42.32955615130529 868600.0\n",
      "177 0.6894110889467849 479.542300934206 42.329318462580794 885800.0\n",
      "178 0.7922460162736432 494.73728004667447 42.32922560980689 868200.0\n",
      "179 0.8512063348510273 479.2635521928476 42.329048682999584 868700.0\n",
      "180 0.9392121930527791 477.1214404615402 42.32879951991078 871600.0\n",
      "181 0.7849382658603113 474.5927174900755 42.32866536200951 871600.0\n",
      "182 1.0954359400103746 456.26566043675615 42.32842681779637 885300.0\n",
      "183 0.6340767578503186 443.9581283046401 42.32834551927071 912600.0\n",
      "184 0.7589274489990148 471.235980478529 42.32830598227516 870800.0\n",
      "185 0.7810818657405927 458.10284963789866 42.32825546618883 872800.0\n",
      "186 0.6839768648992604 456.07113813675284 42.32795422291467 870800.0\n",
      "187 0.6466080852752873 478.0704169572866 42.3278304595247 897400.0\n",
      "188 0.6395731653773261 459.42724124099703 42.32766257989524 870200.0\n",
      "189 0.6539322834528559 463.6310405189445 42.32752082752905 868700.0\n",
      "190 0.7758818648459684 462.10693580173034 42.32753355391442 870400.0\n",
      "191 0.8803821765695228 464.47708294720746 42.32743155146648 905200.0\n",
      "192 0.9167161156918512 498.35643118112733 42.327083168710516 886700.0\n",
      "193 1.006629907060394 474.54863432023205 42.32707848667683 870300.0\n",
      "194 0.7589517924874093 480.2809085091139 42.32691103995646 868700.0\n",
      "195 0.5414214237833843 474.42872598151297 42.3268212812404 869500.0\n",
      "196 0.7676589978690747 470.1048383103351 42.32658320053792 870800.0\n",
      "197 0.857712865770348 461.16060045847416 42.32637699849073 885700.0\n",
      "198 0.5557651336709547 449.8688009909154 42.326313876521866 868000.0\n",
      "199 0.7580732518795442 462.46566861144436 42.32621236743603 868700.0\n",
      "200 0.7495163854300017 459.1190468567297 42.32611157366398 884600.0\n"
     ]
    }
   ],
   "source": [
    "x0=Initial()\n",
    "percentage=0.5\n",
    "Result=Frank_Wolfe_percentage(x0,200,percentage)\n",
    "Result1=Frank_Wolfe_NEP_percentage(x0,200,beta,percentage)"
   ]
  },
  {
   "cell_type": "code",
   "execution_count": 41,
   "metadata": {},
   "outputs": [
    {
     "data": {
      "image/png": "[encoded data removed]",
      "text/plain": [
       "<Figure size 432x288 with 1 Axes>"
      ]
     },
     "metadata": {
      "needs_background": "light"
     },
     "output_type": "display_data"
    }
   ],
   "source": [
    "T=np.arange(200)\n",
    "plt.ylim(0,25)\n",
    "plt.plot(T,Result[1],label='Standard')\n",
    "plt.plot(T,Result1[1],label='NEP')\n",
    "plt.legend()\n",
    "plt.title('Sioux-Falls')\n",
    "plt.ylabel('max-percentage change')\n",
    "plt.xlabel('iterations')\n",
    "plt.savefig(\"Plot_percentage_Sioux.jpg\", dpi=1000)"
   ]
  },
  {
   "cell_type": "markdown",
   "metadata": {},
   "source": [
    "In this case the Nearest Extreme Point oracle also produces similar results to the standard Frank-Wolfe algorithm."
   ]
  },
  {
   "cell_type": "code",
   "execution_count": 42,
   "metadata": {},
   "outputs": [
    {
     "data": {
      "text/plain": [
       "9.533949760577945e-06"
      ]
     },
     "execution_count": 42,
     "metadata": {},
     "output_type": "execute_result"
    }
   ],
   "source": [
    "beta"
   ]
  }
 ],
 "metadata": {
  "kernelspec": {
   "display_name": "Python 3",
   "language": "python",
   "name": "python3"
  },
  "language_info": {
   "codemirror_mode": {
    "name": "ipython",
    "version": 3
   },
   "file_extension": ".py",
   "mimetype": "text/x-python",
   "name": "python",
   "nbconvert_exporter": "python",
   "pygments_lexer": "ipython3",
   "version": "3.8.5"
  }
 },
 "nbformat": 4,
 "nbformat_minor": 4
}
