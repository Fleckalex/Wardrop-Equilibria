{
 "cells": [
  {
   "cell_type": "markdown",
   "metadata": {},
   "source": [
    "# Implementations for Berlin-Tiergarten Network"
   ]
  },
  {
   "cell_type": "markdown",
   "metadata": {},
   "source": [
    "These implementations are part of the Bachelor Thesis Computing Traffic Equilibria using Nearest Extreme Point Oracle. All of the implementations below besides the functions used to import and process the data, have been done by Alexander Fleck, and are to be understood as supporting material for the aforementioned thesis."
   ]
  },
  {
   "cell_type": "code",
   "execution_count": 1,
   "metadata": {},
   "outputs": [],
   "source": [
    "import os\n",
    "import sys\n",
    "import numpy as np\n",
    "import pandas as pd\n",
    "import openmatrix as omx\n",
    "import matplotlib.pyplot as plt "
   ]
  },
  {
   "cell_type": "code",
   "execution_count": 2,
   "metadata": {},
   "outputs": [
    {
     "data": {
      "text/plain": [
       "'C:\\\\Users\\\\alexa\\\\Alex\\\\Uni\\\\BACHELOR THESIS'"
      ]
     },
     "execution_count": 2,
     "metadata": {},
     "output_type": "execute_result"
    }
   ],
   "source": [
    "# Assume you have not changed the relative paths after cloning the repository\n",
    "root = os.path.dirname(os.path.abspath('.'))\n",
    "root"
   ]
  },
  {
   "cell_type": "code",
   "execution_count": 3,
   "metadata": {},
   "outputs": [],
   "source": [
    "# We list all folders available, most of which are TNTP instances\n",
    "folders = [x for x in os.listdir(root)[1:] if os.path.isdir(os.path.join(root, x))]"
   ]
  },
  {
   "cell_type": "code",
   "execution_count": 4,
   "metadata": {},
   "outputs": [],
   "source": [
    "# Function to import OMX matrices\n",
    "def import_matrix(matfile):\n",
    "    f = open(matfile, 'r')\n",
    "    all_rows = f.read()\n",
    "    blocks = all_rows.split('Origin')[1:]\n",
    "    matrix = {}\n",
    "    for k in range(len(blocks)):\n",
    "        orig = blocks[k].split('\\n')\n",
    "        dests = orig[1:]\n",
    "        orig=int(orig[0])\n",
    "\n",
    "        d = [eval('{'+a.replace(';',',').replace(' ','') +'}') for a in dests]\n",
    "        destinations = {}\n",
    "        for i in d:\n",
    "            destinations = {**destinations, **i}\n",
    "        matrix[orig] = destinations\n",
    "    zones = max(matrix.keys())\n",
    "    mat = np.zeros((zones, zones))\n",
    "    for i in range(zones):\n",
    "        for j in range(zones):\n",
    "            # We map values to a index i-1, as Numpy is base 0\n",
    "            mat[i, j] = matrix.get(i+1,{}).get(j+1,0)\n",
    "\n",
    "    index = np.arange(zones) + 1\n",
    "    return mat\n",
    "   "
   ]
  },
  {
   "cell_type": "code",
   "execution_count": 5,
   "metadata": {},
   "outputs": [],
   "source": [
    "# If we want to import all matrices in place\n",
    "for f in folders:\n",
    "    mod = os.path.join(root, f)\n",
    "    mod_files = os.listdir(mod)\n",
    "\n",
    "    for i in mod_files:\n",
    "        #print(f.upper())\n",
    "        if 'TRIPS' in i.upper() and i.lower()[-5:]=='.tntp':\n",
    "            print('    trips')\n",
    "            source_file = os.path.join(mod, i)\n",
    "            import_matrix(source_file)"
   ]
  },
  {
   "cell_type": "code",
   "execution_count": 6,
   "metadata": {},
   "outputs": [],
   "source": [
    "# Importing the networks into a Pandas dataframe consists of a single line of code\n",
    "# but we can also make sure all headers are lower case and without trailing spaces\n",
    "\n",
    "netfile = os.path.join(root,'Berlin','berlin-tiergarten_net.tntp.txt')\n",
    "net = pd.read_csv(netfile, skiprows=8, sep='\\t')\n",
    "\n",
    "trimmed= [s.strip().lower() for s in net.columns]\n",
    "net.columns = trimmed\n",
    "\n",
    "# And drop the silly first andlast columns\n",
    "net.drop(['~', ';'], axis=1, inplace=True)"
   ]
  },
  {
   "cell_type": "code",
   "execution_count": 7,
   "metadata": {},
   "outputs": [],
   "source": [
    "net['term_node']\n",
    "2521/(1020-(201-110))\n",
    "b=(1020-(201-110))"
   ]
  },
  {
   "cell_type": "code",
   "execution_count": 8,
   "metadata": {},
   "outputs": [],
   "source": [
    "Processed_Network=net"
   ]
  },
  {
   "cell_type": "code",
   "execution_count": 9,
   "metadata": {},
   "outputs": [
    {
     "data": {
      "text/plain": [
       "88318.0"
      ]
     },
     "execution_count": 9,
     "metadata": {},
     "output_type": "execute_result"
    }
   ],
   "source": [
    "np.sum(net['length'].to_numpy())"
   ]
  },
  {
   "cell_type": "code",
   "execution_count": 10,
   "metadata": {},
   "outputs": [
    {
     "data": {
      "text/html": [
       "<div>\n",
       "<style scoped>\n",
       "    .dataframe tbody tr th:only-of-type {\n",
       "        vertical-align: middle;\n",
       "    }\n",
       "\n",
       "    .dataframe tbody tr th {\n",
       "        vertical-align: top;\n",
       "    }\n",
       "\n",
       "    .dataframe thead th {\n",
       "        text-align: right;\n",
       "    }\n",
       "</style>\n",
       "<table border=\"1\" class=\"dataframe\">\n",
       "  <thead>\n",
       "    <tr style=\"text-align: right;\">\n",
       "      <th></th>\n",
       "      <th>init_node</th>\n",
       "      <th>term_node</th>\n",
       "      <th>capacity</th>\n",
       "      <th>length</th>\n",
       "      <th>free_flow_time</th>\n",
       "      <th>b</th>\n",
       "      <th>power</th>\n",
       "      <th>speed</th>\n",
       "      <th>toll</th>\n",
       "      <th>link_type</th>\n",
       "    </tr>\n",
       "  </thead>\n",
       "  <tbody>\n",
       "    <tr>\n",
       "      <th>0</th>\n",
       "      <td>1</td>\n",
       "      <td>170</td>\n",
       "      <td>999999.0</td>\n",
       "      <td>0.0</td>\n",
       "      <td>0.000000</td>\n",
       "      <td>0.0</td>\n",
       "      <td>4.0</td>\n",
       "      <td>0.0</td>\n",
       "      <td>0.0</td>\n",
       "      <td>0</td>\n",
       "    </tr>\n",
       "    <tr>\n",
       "      <th>1</th>\n",
       "      <td>1</td>\n",
       "      <td>269</td>\n",
       "      <td>999999.0</td>\n",
       "      <td>0.0</td>\n",
       "      <td>0.000000</td>\n",
       "      <td>0.0</td>\n",
       "      <td>4.0</td>\n",
       "      <td>0.0</td>\n",
       "      <td>0.0</td>\n",
       "      <td>0</td>\n",
       "    </tr>\n",
       "    <tr>\n",
       "      <th>2</th>\n",
       "      <td>1</td>\n",
       "      <td>329</td>\n",
       "      <td>999999.0</td>\n",
       "      <td>0.0</td>\n",
       "      <td>0.000000</td>\n",
       "      <td>0.0</td>\n",
       "      <td>4.0</td>\n",
       "      <td>0.0</td>\n",
       "      <td>0.0</td>\n",
       "      <td>0</td>\n",
       "    </tr>\n",
       "    <tr>\n",
       "      <th>3</th>\n",
       "      <td>1</td>\n",
       "      <td>348</td>\n",
       "      <td>999999.0</td>\n",
       "      <td>0.0</td>\n",
       "      <td>0.000000</td>\n",
       "      <td>0.0</td>\n",
       "      <td>4.0</td>\n",
       "      <td>0.0</td>\n",
       "      <td>0.0</td>\n",
       "      <td>0</td>\n",
       "    </tr>\n",
       "    <tr>\n",
       "      <th>4</th>\n",
       "      <td>2</td>\n",
       "      <td>204</td>\n",
       "      <td>999999.0</td>\n",
       "      <td>0.0</td>\n",
       "      <td>0.000000</td>\n",
       "      <td>0.0</td>\n",
       "      <td>4.0</td>\n",
       "      <td>0.0</td>\n",
       "      <td>0.0</td>\n",
       "      <td>0</td>\n",
       "    </tr>\n",
       "    <tr>\n",
       "      <th>...</th>\n",
       "      <td>...</td>\n",
       "      <td>...</td>\n",
       "      <td>...</td>\n",
       "      <td>...</td>\n",
       "      <td>...</td>\n",
       "      <td>...</td>\n",
       "      <td>...</td>\n",
       "      <td>...</td>\n",
       "      <td>...</td>\n",
       "      <td>...</td>\n",
       "    </tr>\n",
       "    <tr>\n",
       "      <th>761</th>\n",
       "      <td>360</td>\n",
       "      <td>119</td>\n",
       "      <td>2800.0</td>\n",
       "      <td>41.0</td>\n",
       "      <td>5.333333</td>\n",
       "      <td>1.0</td>\n",
       "      <td>4.0</td>\n",
       "      <td>0.0</td>\n",
       "      <td>0.0</td>\n",
       "      <td>1</td>\n",
       "    </tr>\n",
       "    <tr>\n",
       "      <th>762</th>\n",
       "      <td>360</td>\n",
       "      <td>132</td>\n",
       "      <td>2800.0</td>\n",
       "      <td>27.0</td>\n",
       "      <td>2.000000</td>\n",
       "      <td>1.0</td>\n",
       "      <td>4.0</td>\n",
       "      <td>0.0</td>\n",
       "      <td>0.0</td>\n",
       "      <td>1</td>\n",
       "    </tr>\n",
       "    <tr>\n",
       "      <th>763</th>\n",
       "      <td>361</td>\n",
       "      <td>34</td>\n",
       "      <td>600.0</td>\n",
       "      <td>327.0</td>\n",
       "      <td>12.333333</td>\n",
       "      <td>1.0</td>\n",
       "      <td>4.0</td>\n",
       "      <td>0.0</td>\n",
       "      <td>0.0</td>\n",
       "      <td>1</td>\n",
       "    </tr>\n",
       "    <tr>\n",
       "      <th>764</th>\n",
       "      <td>361</td>\n",
       "      <td>43</td>\n",
       "      <td>2800.0</td>\n",
       "      <td>363.0</td>\n",
       "      <td>14.000000</td>\n",
       "      <td>1.0</td>\n",
       "      <td>4.0</td>\n",
       "      <td>0.0</td>\n",
       "      <td>0.0</td>\n",
       "      <td>1</td>\n",
       "    </tr>\n",
       "    <tr>\n",
       "      <th>765</th>\n",
       "      <td>361</td>\n",
       "      <td>167</td>\n",
       "      <td>900.0</td>\n",
       "      <td>70.0</td>\n",
       "      <td>3.333333</td>\n",
       "      <td>1.0</td>\n",
       "      <td>4.0</td>\n",
       "      <td>0.0</td>\n",
       "      <td>0.0</td>\n",
       "      <td>1</td>\n",
       "    </tr>\n",
       "  </tbody>\n",
       "</table>\n",
       "<p>766 rows × 10 columns</p>\n",
       "</div>"
      ],
      "text/plain": [
       "     init_node  term_node  capacity  length  free_flow_time    b  power  \\\n",
       "0            1        170  999999.0     0.0        0.000000  0.0    4.0   \n",
       "1            1        269  999999.0     0.0        0.000000  0.0    4.0   \n",
       "2            1        329  999999.0     0.0        0.000000  0.0    4.0   \n",
       "3            1        348  999999.0     0.0        0.000000  0.0    4.0   \n",
       "4            2        204  999999.0     0.0        0.000000  0.0    4.0   \n",
       "..         ...        ...       ...     ...             ...  ...    ...   \n",
       "761        360        119    2800.0    41.0        5.333333  1.0    4.0   \n",
       "762        360        132    2800.0    27.0        2.000000  1.0    4.0   \n",
       "763        361         34     600.0   327.0       12.333333  1.0    4.0   \n",
       "764        361         43    2800.0   363.0       14.000000  1.0    4.0   \n",
       "765        361        167     900.0    70.0        3.333333  1.0    4.0   \n",
       "\n",
       "     speed  toll  link_type  \n",
       "0      0.0   0.0          0  \n",
       "1      0.0   0.0          0  \n",
       "2      0.0   0.0          0  \n",
       "3      0.0   0.0          0  \n",
       "4      0.0   0.0          0  \n",
       "..     ...   ...        ...  \n",
       "761    0.0   0.0          1  \n",
       "762    0.0   0.0          1  \n",
       "763    0.0   0.0          1  \n",
       "764    0.0   0.0          1  \n",
       "765    0.0   0.0          1  \n",
       "\n",
       "[766 rows x 10 columns]"
      ]
     },
     "execution_count": 10,
     "metadata": {},
     "output_type": "execute_result"
    }
   ],
   "source": [
    "Processed_Network"
   ]
  },
  {
   "cell_type": "code",
   "execution_count": 11,
   "metadata": {},
   "outputs": [
    {
     "name": "stdout",
     "output_type": "stream",
     "text": [
      "<class 'dict'>\n"
     ]
    }
   ],
   "source": [
    "matfile='berlin-tiergarten_trips.tntp.txt'\n",
    "\n",
    "f = open(matfile, 'r')\n",
    "all_rows = f.read()\n",
    "blocks = all_rows.split('Origin')[1:]\n",
    "matrix = {}\n",
    "for k in range(len(blocks)):\n",
    "    orig = blocks[k].split('\\n')\n",
    "    dests = orig[1:]\n",
    "    orig=int(orig[0])\n",
    "\n",
    "    d = [eval('{'+a.replace(';',',').replace(' ','') +'}') for a in dests]\n",
    "    destinations = {}\n",
    "    for i in d:\n",
    "        destinations = {**destinations, **i}\n",
    "    matrix[orig] = destinations\n",
    "zones = max(matrix.keys())\n",
    "mat = np.zeros((zones, zones))\n",
    "for i in range(zones):\n",
    "    for j in range(zones):\n",
    "        # We map values to a index i-1, as Numpy is base 0\n",
    "        mat[i, j] = matrix.get(i+1,{}).get(j+1,0)\n",
    "\n",
    "index = np.arange(zones) + 1\n",
    "print(type(matrix))"
   ]
  },
  {
   "cell_type": "code",
   "execution_count": 12,
   "metadata": {},
   "outputs": [],
   "source": [
    "D=import_matrix('berlin-tiergarten_trips.tntp.txt')"
   ]
  },
  {
   "cell_type": "code",
   "execution_count": 13,
   "metadata": {},
   "outputs": [
    {
     "data": {
      "text/plain": [
       "(26, 26)"
      ]
     },
     "execution_count": 13,
     "metadata": {},
     "output_type": "execute_result"
    }
   ],
   "source": [
    "np.shape(D)"
   ]
  },
  {
   "cell_type": "markdown",
   "metadata": {},
   "source": [
    "only the first 26 nodes are origins, destinations !!!"
   ]
  },
  {
   "cell_type": "markdown",
   "metadata": {},
   "source": [
    "The other nodes are transit nodes, that means $D_i=0,0,...,0$ and\n",
    "for any other node $j$ $D_{ji}=0,...,0$"
   ]
  },
  {
   "cell_type": "code",
   "execution_count": 14,
   "metadata": {},
   "outputs": [],
   "source": [
    "D1=np.zeros((26,361-26))\n",
    "D=np.hstack((D,D1))\n",
    "\n",
    "D2=np.zeros((361-26,361))\n",
    "D=np.vstack((D,D2))"
   ]
  },
  {
   "cell_type": "code",
   "execution_count": 15,
   "metadata": {},
   "outputs": [
    {
     "name": "stdout",
     "output_type": "stream",
     "text": [
      "(361, 361)\n"
     ]
    }
   ],
   "source": [
    "print(np.shape(D))\n"
   ]
  },
  {
   "cell_type": "code",
   "execution_count": 16,
   "metadata": {},
   "outputs": [
    {
     "data": {
      "text/plain": [
       "array([[ 0.  , 22.59, 18.32, ...,  0.  ,  0.  ,  0.  ],\n",
       "       [22.5 ,  0.  , 41.82, ...,  0.  ,  0.  ,  0.  ],\n",
       "       [18.25, 42.  ,  0.  , ...,  0.  ,  0.  ,  0.  ],\n",
       "       ...,\n",
       "       [ 0.  ,  0.  ,  0.  , ...,  0.  ,  0.  ,  0.  ],\n",
       "       [ 0.  ,  0.  ,  0.  , ...,  0.  ,  0.  ,  0.  ],\n",
       "       [ 0.  ,  0.  ,  0.  , ...,  0.  ,  0.  ,  0.  ]])"
      ]
     },
     "execution_count": 16,
     "metadata": {},
     "output_type": "execute_result"
    }
   ],
   "source": [
    "D"
   ]
  },
  {
   "cell_type": "markdown",
   "metadata": {},
   "source": [
    "We also process the optimal Solution to help validate our results"
   ]
  },
  {
   "cell_type": "code",
   "execution_count": 17,
   "metadata": {},
   "outputs": [],
   "source": [
    "#print(D)\n",
    "#n=1020-(201-110)\n",
    "#Optimal=open('berlin-tiergarten_flow.tntp.txt').readlines()\n",
    "#Optimal_flow=np.zeros((n,n))\n",
    "#Optimal_cost=np.zeros((n,n))\n",
    "#Pandasframe=[]\n",
    "#for i in Optimal:\n",
    " #   line=i[:-1].split('\\t')\n",
    "  #  Pandasframe.append(line)\n",
    "#COLUMNS=Pandasframe[0]\n",
    "#Pandasframe=pd.DataFrame(Pandasframe[1:],columns=Pandasframe[0])\n",
    "    "
   ]
  },
  {
   "cell_type": "code",
   "execution_count": 18,
   "metadata": {},
   "outputs": [],
   "source": [
    "n=361\n",
    "B=np.zeros((n,n))\n",
    "free_flow=np.zeros((n,n))\n",
    "C=np.zeros((n,n))\n",
    "P=np.zeros((n,n))\n",
    "b=np.zeros((n,n))\n",
    "toll=np.zeros((n,n))\n",
    "length=np.zeros((n,n))\n",
    "Edges1=[]\n",
    "Link_travel_Time=np.zeros((n,n))\n",
    "Optimal_flow=np.zeros((n,n))\n",
    "Optimal_cost=np.zeros((n,n))\n",
    "speed=np.zeros((n,n))\n",
    "toll=np.zeros((n,n))\n",
    "link_type=np.zeros((n,n))\n",
    "power=np.zeros((n,n))\n",
    "\n",
    "\n",
    "#Of1=Pandasframe[COLUMNS[2]]\n",
    "#Oc1=Pandasframe[COLUMNS[3]]\n",
    "B1=Processed_Network['init_node'].to_numpy()-1\n",
    "B2=Processed_Network['term_node'].to_numpy()-1\n",
    "c1=Processed_Network['capacity']\n",
    "a1=Processed_Network['free_flow_time']\n",
    "p1=Processed_Network['power']\n",
    "s1=Processed_Network['speed']\n",
    "t1=Processed_Network['toll']\n",
    "link_type1=Processed_Network['link_type']\n",
    "b1=net['b']\n",
    "l=0\n",
    "j=0\n",
    "\n",
    "while j< len(B1):\n",
    "   \n",
    "    if int(B1[j])==l:\n",
    "        \n",
    "        init=int(B1[j])\n",
    "        term=int(B2[j])\n",
    "            \n",
    "        B[init][term]=0.15\n",
    "        free_flow[init][term]=float(a1[j])\n",
    "        C[init][term]=float(c1[j])\n",
    "        P[init][term]=float(p1[j])\n",
    "        speed[init][term]=float(s1[j])\n",
    "        toll[init][term]=float(t1[j])\n",
    "       \n",
    "        power[init][term]=float(p1[j])\n",
    "        b[init][term]=float(b1[j])\n",
    "\n",
    "        #free_flow[init][term]*0.15/(C[init][term]**4) \n",
    "        #Optimal_flow[int(B1[j])-1][int(B2[j])-1]=float(Of1[j])\n",
    "        #Optimal_cost[int(B1[j])-1][int(B2[j])-1]=float(Oc1[j])\n",
    "        Edges1.append([init,term])\n",
    "       \n",
    "        j=j+1\n",
    "    else:\n",
    "    \n",
    "        l=l+1    \n"
   ]
  },
  {
   "cell_type": "code",
   "execution_count": 19,
   "metadata": {},
   "outputs": [
    {
     "data": {
      "text/plain": [
       "0      999999.0\n",
       "1      999999.0\n",
       "2      999999.0\n",
       "3      999999.0\n",
       "4      999999.0\n",
       "         ...   \n",
       "761      2800.0\n",
       "762      2800.0\n",
       "763       600.0\n",
       "764      2800.0\n",
       "765       900.0\n",
       "Name: capacity, Length: 766, dtype: float64"
      ]
     },
     "execution_count": 19,
     "metadata": {},
     "output_type": "execute_result"
    }
   ],
   "source": [
    "c1"
   ]
  },
  {
   "cell_type": "markdown",
   "metadata": {},
   "source": [
    "# Solving the call for the Oracle "
   ]
  },
  {
   "cell_type": "markdown",
   "metadata": {},
   "source": [
    "Having presented both the formulation of the problem and the algorithm we will first use to solve it, we now get to discuss how to implement the algorithm efficiently. Since the main difficulty for the implementation of the Frank-Wolfe Method in this case, relies on how to solve the call for the oracle we will discuss this first.\n",
    "As seen in section 1.3 the Frank-Wolfe Algorithm solves in every iteration the subproblem \n",
    "\\begin{equation}\n",
    "\\begin{aligned}\n",
    "& \\underset{v\\in \\mathcal{V}}{\\text{min}}\n",
    "& & v^\\top\\nabla f(x)  \n",
    "\\end{aligned}\n",
    "\\end{equation}\n",
    "which for our case is given by \n",
    "\\begin{equation}\n",
    "\\begin{aligned}\n",
    "& \\underset{g(y)=0}{\\underset{y\\geq 0}{\\text{min}}}\n",
    "& & \\sum_{(i,j)\\in A}\\sum_{s=1}^p c_{ij}y_{ij}^s\\geq\\sum_{s=1}^p & \\underset{g(y)=0}{\\underset{y\\geq 0}{\\text{min}}}\n",
    "& & \\sum_{(i,j)\\in A}c_{ij}y_{ij}^s\n",
    "\\end{aligned}\n",
    "\\end{equation}\n",
    "Where $g$ ensures that the flow circulation constraints are satisfied REFER TO THE CONSTRAINTS.\n",
    "This allows us to solve the call for the oracle by solving the subproblem one block at a time, which means minimizing the cost of sending $D_{js}$ units of flow for all nodes $j$ to node $s$. This can be done using the Dijkstra algorithm using the costs  $c_{ij}$ as distances between nodes. This strategy does not violate the constraints imposed by $g$ . Finally we only need to sum up the solutions of the individual blocks to obtain the direction we will then minimize along."
   ]
  },
  {
   "cell_type": "markdown",
   "metadata": {},
   "source": [
    "aasaasa"
   ]
  },
  {
   "cell_type": "code",
   "execution_count": 20,
   "metadata": {},
   "outputs": [],
   "source": [
    "def smallest_distance(unvisited_Network):\n",
    "    '''\n",
    "    \n",
    "\n",
    "    Parameters\n",
    "    ----------\n",
    "    unvisited_Network : List\n",
    "        Contains all unvisited Nodes .\n",
    "\n",
    "    Returns\n",
    "    -------\n",
    "    a : Node\n",
    "        looks among all unvisited Nodes for the one with smallest Distance to the initial .\n",
    ".\n",
    "\n",
    "    '''\n",
    "    a=unvisited_Network[0]\n",
    "    for i in unvisited_Network:\n",
    "        if not i.Visited:\n",
    "            if i.Distance<a.Distance:\n",
    "                a=i\n",
    "    return a\n",
    "def Notallvisited(Network):\n",
    "    if Network.unvisited_Network!=[]:\n",
    "        return True \n",
    "\n",
    "def Dijkstra(Network,x0):\n",
    "    '''\n",
    "    dijkstra Algorithm with a modification\n",
    "    '''\n",
    "    for i in Network.Nodes[:26]:\n",
    "        if i.key!=x0.key:\n",
    "            for j in i.Edges:\n",
    "                j.blocked_cost=j.Cost\n",
    "                j.Cost=np.inf\n",
    "\n",
    "    Network.unvisited_Network=list(Network.Nodes)\n",
    "    \n",
    "    \n",
    "    for i in Network.Nodes:\n",
    "        if not i==x0:\n",
    "            i.Distance=np.inf\n",
    "            i.Predecessor=None\n",
    "        else:\n",
    "            i.Distance=0\n",
    "            i.Predecessor=None \n",
    "            \n",
    "    while Notallvisited(Network):\n",
    "        #print(len(Network.Nodes))\n",
    "        \n",
    "        a=smallest_distance(Network.unvisited_Network)\n",
    "        Network.unvisited_Network.remove(a)\n",
    "        #Network.unvisited_Network.remove(a)\n",
    "        for j in a.Edges:\n",
    "            #j is an Edge a=(0,1) and has the attribute cost\n",
    "            #print(j.Tuple[1],'Index')\n",
    "            #print(len(Network.Nodes))\n",
    "            if Network.Nodes[j.Tuple[1]].Visited==False:\n",
    "                if Network.Nodes[j.Tuple[1]].Distance>j.Cost+a.Distance:\n",
    "                   Network.Nodes[j.Tuple[1]].Distance=j.Cost+a.Distance\n",
    "                   Network.Nodes[j.Tuple[1]].Predecessor=a\n",
    "    \n",
    "    for i in Network.Nodes[:26]:\n",
    "        if i.key!=x0.key:\n",
    "            for j in i.Edges:\n",
    "                j.Cost=j.blocked_cost\n",
    "                j.blocked_cost=0\n",
    "\n",
    "    Network.unvisited_Network=list(Network.Nodes)\n",
    "    \n",
    "            \n",
    "        "
   ]
  },
  {
   "cell_type": "code",
   "execution_count": 21,
   "metadata": {},
   "outputs": [],
   "source": [
    "class Edge:\n",
    "    def __init__(self,Tuple,Cost ):\n",
    "        self.Tuple=Tuple\n",
    "        self.Cost=Cost\n",
    "        self.blocked_Cost=0\n",
    "    \n",
    "class Node:\n",
    "    def __init__(self,Edges,Distance,key):\n",
    "        self.Edges=Edges\n",
    "        self.Distance=0\n",
    "        self.key=key\n",
    "        self.Predecessor=None\n",
    "        self.Visited=False\n",
    "    def print_edges(self):\n",
    "        print('Edges outgoing from Node ',self.key+1)\n",
    "        for i in self.Edges:\n",
    "            print(i.Tuple+np.ones(2))\n",
    "\n",
    "class Class_Network:\n",
    "    def __init__(self,Nodes,Edges ):\n",
    "        '''\n",
    "        Nodes is a list of objects_nodes\n",
    "        \n",
    "        \n",
    "        '''\n",
    "        self.Nodes=Nodes\n",
    "        self.unvisited_Network=list(Nodes)\n",
    "        self.Edges=list(Edges)\n",
    "#class Residual_Network:\n",
    "    \n",
    "        "
   ]
  },
  {
   "cell_type": "code",
   "execution_count": 22,
   "metadata": {},
   "outputs": [
    {
     "data": {
      "text/plain": [
       "361"
      ]
     },
     "execution_count": 22,
     "metadata": {},
     "output_type": "execute_result"
    }
   ],
   "source": [
    "n"
   ]
  },
  {
   "cell_type": "code",
   "execution_count": 23,
   "metadata": {},
   "outputs": [],
   "source": [
    "\n",
    "\n",
    "def Initialize_Network(xk):\n",
    "    '''\n",
    "    The Link Travel Time is the Gradient in xk\n",
    "    Iterate over all of the nodes \n",
    "    for node_i:\n",
    "        set a list of Edges going from (i,other)\n",
    "        \n",
    "        \n",
    "        \n",
    "    '''\n",
    "    n=361\n",
    "    #print('Initialize Network')\n",
    "    Y=np.zeros((n,n))\n",
    "    \n",
    "    Link_travel_Time=free_flow+b*xk**power\n",
    "   \n",
    "    Nodes=[ ]\n",
    "\n",
    "    \n",
    "    for j in range(n):\n",
    "        Edges=[] \n",
    "      \n",
    "            \n",
    "        current=Processed_Network. loc[Processed_Network['init_node'] == j+1]\n",
    "        \n",
    "\n",
    "        for i in current['term_node']:\n",
    "\n",
    "                    \n",
    "                 \n",
    "                    Edges.append(Edge(np.array([j,int(i)-1]),Link_travel_Time[j,int(i)-1]))\n",
    "                    \n",
    "        Nodes.append(Node(Edges,0,j))\n",
    "\n",
    "    Network=Class_Network(Nodes,Edges1)\n",
    "    \n",
    "    return Network"
   ]
  },
  {
   "cell_type": "code",
   "execution_count": 24,
   "metadata": {},
   "outputs": [],
   "source": [
    "x0=np.zeros((n,n))\n",
    "T=20\n",
    "Network=Initialize_Network(x0)"
   ]
  },
  {
   "cell_type": "code",
   "execution_count": 25,
   "metadata": {},
   "outputs": [
    {
     "data": {
      "text/plain": [
       "array([[0., 0., 0., ..., 0., 0., 0.],\n",
       "       [0., 0., 0., ..., 0., 0., 0.],\n",
       "       [0., 0., 0., ..., 0., 0., 0.],\n",
       "       ...,\n",
       "       [0., 0., 0., ..., 0., 0., 0.],\n",
       "       [0., 0., 0., ..., 0., 0., 0.],\n",
       "       [0., 0., 0., ..., 0., 0., 0.]])"
      ]
     },
     "execution_count": 25,
     "metadata": {},
     "output_type": "execute_result"
    }
   ],
   "source": [
    "x0"
   ]
  },
  {
   "cell_type": "code",
   "execution_count": 26,
   "metadata": {},
   "outputs": [],
   "source": [
    "K=0\n",
    "for i in Network.Nodes:\n",
    "    \n",
    "    assert i.key==K\n",
    "    K+=1"
   ]
  },
  {
   "cell_type": "code",
   "execution_count": 27,
   "metadata": {},
   "outputs": [
    {
     "data": {
      "text/plain": [
       "1.0"
      ]
     },
     "execution_count": 27,
     "metadata": {},
     "output_type": "execute_result"
    }
   ],
   "source": [
    "np.max(b)"
   ]
  },
  {
   "cell_type": "markdown",
   "metadata": {},
   "source": [
    "# Testing the Dijkstra and the Network "
   ]
  },
  {
   "cell_type": "code",
   "execution_count": 28,
   "metadata": {},
   "outputs": [],
   "source": [
    "def Fortran_Op(y,Network,Start):\n",
    "    #print('Fortran')\n",
    "    #for i in Network.Nodes:\n",
    "        #print(i.Predecessor)\n",
    "    \n",
    "    #print('Start',Start)\n",
    "\n",
    "    for j in Network.Nodes[:26]:\n",
    "        \n",
    "\n",
    "\n",
    "            Current_Node=j\n",
    "\n",
    "            while Current_Node!=Start:\n",
    "\n",
    "                y[Current_Node.Predecessor.key][Current_Node.key]+=D[j.key][Start.key]\n",
    "                #print(D[j.key][Start.key],'D')\n",
    "                Current_Node=Current_Node.Predecessor\n",
    "\n",
    "        "
   ]
  },
  {
   "cell_type": "code",
   "execution_count": 29,
   "metadata": {},
   "outputs": [],
   "source": [
    "def Oracle(xk):\n",
    "    Y=np.zeros((n,n))\n",
    "    Network=Initialize_Network(xk)\n",
    "    \n",
    "    s=0\n",
    "    Start=Network.Nodes[s]\n",
    "    while s<26:\n",
    "    \n",
    "        #print(s,len(Network.Nodes),s<24)\n",
    "        Start=Network.Nodes[s]\n",
    "        Dijkstra(Network,Start)\n",
    "        Fortran_Op(Y,Network,Start)\n",
    "        s=s+1\n",
    "        \n",
    "        \n",
    "    return Y\n",
    "\n",
    "    \n",
    "    \n",
    "    \n",
    "    \n",
    "    \n",
    "    \n",
    "    "
   ]
  },
  {
   "cell_type": "markdown",
   "metadata": {},
   "source": [
    "# Actual Frank-Wolfe Algorithm "
   ]
  },
  {
   "cell_type": "code",
   "execution_count": 30,
   "metadata": {},
   "outputs": [],
   "source": [
    "def Initial():\n",
    "        '''\n",
    "        gives us an Initial feasible starting Point, by \n",
    "        sending all of the flow between every Od-pair through the \n",
    "        cheapest route in terms of free flow travel time \n",
    "        '''\n",
    "     \n",
    "        xk=np.zeros((n,n))\n",
    "        Network=Initialize_Network(xk)\n",
    "    \n",
    "\n",
    "        s=0\n",
    "        Start=Network.Nodes[s]\n",
    "        while Start.key<26:\n",
    "            \n",
    "            Dijkstra(Network,Start)\n",
    "            Fortran_Op(xk,Network,Start)\n",
    "            s=s+1\n",
    "            Start=Network.Nodes[s+1]\n",
    "        return xk\n"
   ]
  },
  {
   "cell_type": "code",
   "execution_count": 31,
   "metadata": {},
   "outputs": [],
   "source": [
    "def Objective(x):\n",
    "    Link_cost=free_flow*x+x**(power+1)*(np.where(power>0,b/(power+1),0))\n",
    "    Link_cost1=free_flow+b*x**4\n",
    "    \n",
    "    return np.sum(Link_cost)\n"
   ]
  },
  {
   "cell_type": "markdown",
   "metadata": {},
   "source": [
    "# Stepsizes"
   ]
  },
  {
   "cell_type": "code",
   "execution_count": 32,
   "metadata": {},
   "outputs": [],
   "source": [
    "def stepsize(w,xk):\n",
    "    I=[0,1]\n",
    "    for i in range(1000):\n",
    "        x1=(I[0]+I[1])/4\n",
    "        x2=(I[0]+I[1])/4*3\n",
    "        xk1=x0+x1*(w-xk)\n",
    "        xk2=x0+x2*(w-xk)\n",
    "        if Objective(xk1)<Objective(xk2):\n",
    "            I[1]=x2\n",
    "        elif Objective(xk1)==Objective(xk2):\n",
    "            I[0]=x1\n",
    "            I[1]=x2\n",
    "        else:\n",
    "            I[0]=x1\n",
    "    return (I[1]+I[0])/2\n",
    "\n",
    "def stepsize1(i)  :     \n",
    "    return 1/(i+1)\n",
    "def stepsize2(w,xk):\n",
    "    i=0\n",
    "    alpha_i=1/(i+1)\n",
    "    current=xk\n",
    "    while Objective(current+alpha_i*(w-current))<Objective(current):\n",
    "        i+=1\n",
    "        print(i)\n",
    "        alpha_i=1/(i+1)\n",
    "        current=current+alpha_i*(w-current)\n",
    "    return alpha_i    \n",
    "        \n",
    "def stepsize3(w,xk):\n",
    "    alpha_i=np.arange(1000)/1000\n",
    "    List=[]\n",
    "    for i in alpha_i:\n",
    "        \n",
    "                     \n",
    "        List.append(Objective(xk+i*(w-xk)))\n",
    "        \n",
    "    return alpha_i[np.argmin(List)]\n",
    "def stepsize_NEP(Stepi,current,new):\n",
    "    \n",
    "    '''\n",
    "    Stepsize proposed in NEP\n",
    "    '''\n",
    "    if Objective(current)>Objective(new):\n",
    "        return Stepi\n",
    "    else: \n",
    "        return 0\n",
    "\n",
    "def line_search(x,v):\n",
    "    '''\n",
    "    computes a stepsize using a line search with an error of 1/20 \n",
    "    '''\n",
    "    value_small=Objective(x)\n",
    "    stepsize_final=1/2\n",
    "    direction=1\n",
    "    for i in range(2,20):      \n",
    "        if value_small>Objective(x+(stepsize_final+direction*1/i)*(v-x)):\n",
    "        \n",
    "            #if the value decreases when going to the right \n",
    "            value_small=Objective(x+(stepsize_final+direction*1/i)*(v-x))\n",
    "            stepsize_final+=direction*1/i\n",
    "        else:\n",
    "            direction=-direction\n",
    "            #if the value does not decrease when going to the right, go left \n",
    "            value_small=Objective(x+(stepsize_final+direction*1/i)*(v-x))\n",
    "            stepsize_final+=direction*1/i\n",
    "    return stepsize_final"
   ]
  },
  {
   "cell_type": "code",
   "execution_count": 33,
   "metadata": {},
   "outputs": [],
   "source": [
    "\n",
    "def Frank_Wolfe(xk,T):\n",
    "    i=0\n",
    "    A=np.zeros(T)\n",
    "    while i<T:\n",
    "        \n",
    "        w=Oracle(xk)\n",
    "        #print(np.argwhere(w-xk!=0),'atetntion')\n",
    "        #print('ready0')\n",
    "        alpha_i=stepsize1(i)\n",
    "        alpha_i=line_search(xk,w)\n",
    "        print(i,Objective(xk))\n",
    "        A[i]=Objective(xk)\n",
    "        \n",
    "        #last=xk\n",
    "        #print(w)\n",
    "        xk=xk+alpha_i*(w-xk)\n",
    "        \n",
    "        i=i+1\n",
    "        print(i,Objective(xk))\n",
    "        #if np.linalg.norm(last-xk)<20:\n",
    "        #   return xk\n",
    "    return xk,A"
   ]
  },
  {
   "cell_type": "code",
   "execution_count": 34,
   "metadata": {},
   "outputs": [
    {
     "name": "stdout",
     "output_type": "stream",
     "text": [
      "Initialready\n"
     ]
    }
   ],
   "source": [
    "x0=Initial()\n",
    "print('Initialready')"
   ]
  },
  {
   "cell_type": "code",
   "execution_count": 35,
   "metadata": {},
   "outputs": [
    {
     "name": "stdout",
     "output_type": "stream",
     "text": [
      "Initialready\n",
      "0 1.2329639861263986e+16\n",
      "1 4333529469848436.5\n",
      "1 4333529469848436.5\n",
      "2 2682628088013295.0\n",
      "2 2682628088013295.0\n",
      "3 2003092656146753.2\n",
      "3 2003092656146753.2\n",
      "4 1675829218681814.8\n",
      "4 1675829218681814.8\n",
      "5 1445051721823532.8\n",
      "5 1445051721823532.8\n",
      "6 1253188368062859.0\n",
      "6 1253188368062859.0\n",
      "7 1119045700304726.0\n",
      "7 1119045700304726.0\n",
      "8 1028365821600817.8\n",
      "8 1028365821600817.8\n",
      "9 978668105795195.4\n",
      "9 978668105795195.4\n",
      "10 952777212682387.8\n",
      "10 952777212682387.8\n",
      "11 916549078519628.8\n",
      "11 916549078519628.8\n",
      "12 883352273434061.2\n",
      "12 883352273434061.2\n",
      "13 859952767506941.8\n",
      "13 859952767506941.8\n",
      "14 822770854757022.5\n",
      "14 822770854757022.5\n",
      "15 795361893777596.6\n",
      "15 795361893777596.6\n",
      "16 783830098555479.8\n",
      "16 783830098555479.8\n",
      "17 766555068775664.1\n",
      "17 766555068775664.1\n",
      "18 750199608699702.5\n",
      "18 750199608699702.5\n",
      "19 741946283199462.0\n",
      "19 741946283199462.0\n",
      "20 723704291606046.9\n"
     ]
    }
   ],
   "source": [
    "\n",
    "print('Initialready')\n",
    "#x0=np.zeros((n,n))\n",
    "T=20\n",
    "Network=Initialize_Network(x0)\n",
    "Result=Frank_Wolfe(x0,T)\n"
   ]
  },
  {
   "cell_type": "code",
   "execution_count": 36,
   "metadata": {},
   "outputs": [
    {
     "data": {
      "text/plain": [
       "[<matplotlib.lines.Line2D at 0x168171806a0>]"
      ]
     },
     "execution_count": 36,
     "metadata": {},
     "output_type": "execute_result"
    },
    {
     "data": {
      "image/png": "[encoded data removed]",
      "text/plain": [
       "<Figure size 432x288 with 1 Axes>"
      ]
     },
     "metadata": {
      "needs_background": "light"
     },
     "output_type": "display_data"
    }
   ],
   "source": [
    "plt.plot(np.arange(T),Result[1])"
   ]
  },
  {
   "cell_type": "code",
   "execution_count": 37,
   "metadata": {
    "scrolled": true
   },
   "outputs": [
    {
     "name": "stdout",
     "output_type": "stream",
     "text": [
      "571802217.9728752\n",
      "723704291606046.9\n",
      "0.0\n",
      "0.0\n"
     ]
    }
   ],
   "source": [
    "#print(Optimal_flow)\n",
    "\n",
    "print(Objective(Result[0])/1265654.92203176)\n",
    "print(Objective(Result[0]))\n",
    "print(np.sum(Optimal_cost))\n",
    "#print(42.31335287107440)\n",
    "print(Objective(Optimal_flow)/42.31335287107440)\n",
    "#free_flow+b*Optimal_flow**4-Optimal_cost"
   ]
  },
  {
   "cell_type": "markdown",
   "metadata": {},
   "source": [
    "# NEP Oracle "
   ]
  },
  {
   "cell_type": "code",
   "execution_count": 38,
   "metadata": {},
   "outputs": [],
   "source": [
    "def Initialize_NEP_Network(xk,lamba):\n",
    "    #print('Initialize Network')\n",
    "    Y=np.zeros((n,n))\n",
    "    #big_Y=set_big_Y()\n",
    "    \n",
    "    #print(Link_travel_Time)\n",
    "    Nodes=[ ]\n",
    "    Link_travel_Time=free_flow+b*xk**power\n",
    "    Link_travel_Time=np.ones((n,n))*100000-2*(xk-(1/(2*lamba))*Link_travel_Time)\n",
    "   \n",
    "   \n",
    "    \n",
    "    for j in range(n):\n",
    "        Edges=[] \n",
    "    \n",
    "        current=Processed_Network. loc[Processed_Network['init_node'] == j+1]\n",
    "        \n",
    "\n",
    "        for i in current['term_node']:\n",
    "                    \n",
    "                        Edges.append(Edge(np.array([j,int(i)-1]),Link_travel_Time[j,int(i)-1]))\n",
    "                    \n",
    "                        Edges.append(Edge(np.array([j,int(i)-1]),Link_travel_Time[j,int(i)-1]))\n",
    "        Nodes.append(Node(Edges,0,j))\n",
    "\n",
    "    Network=Class_Network(Nodes,Edges1)\n",
    "    \n",
    "    return Network\n",
    "    "
   ]
  },
  {
   "cell_type": "code",
   "execution_count": 39,
   "metadata": {},
   "outputs": [],
   "source": [
    "def NEP_Oracle(xk,lamba):\n",
    "    '''\n",
    "    This function will solve the call for the NEP Oracle \n",
    "    '''\n",
    "    Y=np.zeros((n,n))\n",
    "    Network=Initialize_NEP_Network(xk,lamba)\n",
    "    \n",
    "    s=0\n",
    "    Start=Network.Nodes[s]\n",
    "    while s<26:\n",
    "        #print(s,'Inner_Oracle' )\n",
    "        #print(s,len(Network.Nodes),s<24)\n",
    "        Start=Network.Nodes[s]\n",
    "        Dijkstra(Network,Start)\n",
    "        #print_Network(Network)\n",
    "        Fortran_Op(Y,Network,Start)\n",
    "        s=s+1\n",
    "        \n",
    "        \n",
    "    return Y\n"
   ]
  },
  {
   "cell_type": "code",
   "execution_count": 40,
   "metadata": {},
   "outputs": [],
   "source": [
    "\n",
    "def Frank_Wolfe_NEP(xk,T,beta):\n",
    "    '''\n",
    "    This will be a modified version of the Standard Frank_Wolfe to test mainly the call for the Oracle \n",
    "    '''\n",
    "    i=0\n",
    "    lamba=beta/2\n",
    "    A=np.zeros(T)\n",
    "    while i<T:\n",
    "        #print(i,'XK',xk)\n",
    "        print(i,'Iteration')\n",
    "        w=NEP_Oracle(xk,lamba)\n",
    "        print('Oracle',np.sum(w))\n",
    "        #stepi=stepsize1(i)\n",
    "        \n",
    "        #new=xk+stepi*(w-xk)\n",
    "        #alpha_i=stepsize_NEP(stepi,xk,new)\n",
    "        alpha_i=line_search(xk,w)\n",
    "        lamba=beta*(1/(2*(i+1)))\n",
    "        \n",
    "        #print(alpha_i,np.linalg.norm(xk-Optimal_flow))\n",
    "        A[i]=Objective(xk)\n",
    "        #last=xk\n",
    "        #print(xk)\n",
    "        xk=xk+alpha_i*(w-xk)\n",
    "        \n",
    "        i=i+1\n",
    "        print(i,Objective(xk))\n",
    "        #if np.linalg.norm(last-xk)<20:\n",
    "        #   return xk\n",
    "    return xk,A"
   ]
  },
  {
   "cell_type": "code",
   "execution_count": 41,
   "metadata": {},
   "outputs": [],
   "source": [
    "x0=Initial()"
   ]
  },
  {
   "cell_type": "code",
   "execution_count": 42,
   "metadata": {},
   "outputs": [
    {
     "data": {
      "text/plain": [
       "10754.869999999999"
      ]
     },
     "execution_count": 42,
     "metadata": {},
     "output_type": "execute_result"
    }
   ],
   "source": [
    "\n",
    "np.sum(D)"
   ]
  },
  {
   "cell_type": "code",
   "execution_count": null,
   "metadata": {},
   "outputs": [],
   "source": []
  },
  {
   "cell_type": "code",
   "execution_count": 43,
   "metadata": {},
   "outputs": [
    {
     "name": "stdout",
     "output_type": "stream",
     "text": [
      "0 Iteration\n",
      "Oracle 127881.68999999999\n",
      "1 1656021116196492.0\n",
      "1 Iteration\n",
      "Oracle 118120.81999999999\n",
      "2 1284426826311950.0\n",
      "2 Iteration\n",
      "Oracle 119188.26000000001\n",
      "3 1094180207952067.4\n",
      "3 Iteration\n",
      "Oracle 119503.48000000001\n",
      "4 1058199210747275.2\n",
      "4 Iteration\n",
      "Oracle 120491.49000000002\n",
      "5 966665105671141.5\n",
      "5 Iteration\n",
      "Oracle 120534.80999999998\n",
      "6 931063530762046.8\n",
      "6 Iteration\n",
      "Oracle 122466.81999999998\n",
      "7 883118651984288.2\n",
      "7 Iteration\n",
      "Oracle 120872.55\n",
      "8 866187753134360.2\n",
      "8 Iteration\n",
      "Oracle 123128.65999999997\n",
      "9 820943773329191.5\n",
      "9 Iteration\n",
      "Oracle 122757.86999999998\n",
      "10 795898754035620.4\n",
      "10 Iteration\n",
      "Oracle 124220.44\n",
      "11 782757106196188.8\n",
      "11 Iteration\n",
      "Oracle 121143.77\n",
      "12 772901022214460.5\n",
      "12 Iteration\n",
      "Oracle 126291.98999999998\n",
      "13 759382948504356.4\n",
      "13 Iteration\n",
      "Oracle 124419.49000000002\n",
      "14 743902916822888.1\n",
      "14 Iteration\n",
      "Oracle 124611.21999999999\n",
      "15 733142693731169.2\n",
      "15 Iteration\n",
      "Oracle 121588.20999999999\n",
      "16 727017551745764.8\n",
      "16 Iteration\n",
      "Oracle 124806.78\n",
      "17 714582410396709.9\n",
      "17 Iteration\n",
      "Oracle 123515.62999999999\n",
      "18 707641761311463.1\n",
      "18 Iteration\n",
      "Oracle 123470.65999999999\n",
      "19 701467592898322.6\n",
      "19 Iteration\n",
      "Oracle 125351.78000000003\n",
      "20 695831388410643.8\n"
     ]
    }
   ],
   "source": [
    "\n",
    "#print(x0/np.max(x0))\n",
    "#x0=np.zeros((24,24))\n",
    "#lamba=8\n",
    "#Network=Initialize_NEP_Network(x0,lamba)\n",
    "\n",
    "beta1=10**7-(10**7)/4\n",
    "#beta=0.00003\n",
    "#betas=[i**5 for i in range(1,10)]\n",
    "Result1=Frank_Wolfe_NEP(x0,T,beta1)\n",
    "#Result2=Frank_Wolfe_NEP(x0,T,beta1)"
   ]
  },
  {
   "cell_type": "code",
   "execution_count": 44,
   "metadata": {},
   "outputs": [
    {
     "data": {
      "text/plain": [
       "Text(0, 0.5, 'Objective')"
      ]
     },
     "execution_count": 44,
     "metadata": {},
     "output_type": "execute_result"
    },
    {
     "data": {
      "image/png": "[encoded data removed]",
      "text/plain": [
       "<Figure size 432x288 with 1 Axes>"
      ]
     },
     "metadata": {
      "needs_background": "light"
     },
     "output_type": "display_data"
    }
   ],
   "source": [
    "\n",
    "plt.plot(np.arange(T)[2:],Result[1][2:],label='Standard')\n",
    "plt.plot(np.arange(T)[2:],Result1[1][2:],label='NEP')\n",
    "plt.title('Berlin-Tiergarten, $\\\\beta:=$'+str(beta1))\n",
    "plt.legend()\n",
    "plt.xlabel('iterations')\n",
    "plt.ylabel('Objective')"
   ]
  },
  {
   "cell_type": "code",
   "execution_count": 45,
   "metadata": {},
   "outputs": [
    {
     "data": {
      "image/png": "[encoded data removed]",
      "text/plain": [
       "<Figure size 432x288 with 1 Axes>"
      ]
     },
     "metadata": {
      "needs_background": "light"
     },
     "output_type": "display_data"
    }
   ],
   "source": [
    "\n",
    "plt.plot(np.arange(T),Result[1],label='Standard')\n",
    "plt.plot(np.arange(T),Result1[1],label='NEP')\n",
    "plt.title('Berlin-Tiergarten, $ \\\\beta:=$'+str(beta1))\n",
    "plt.legend()\n",
    "plt.xlabel('iterations')\n",
    "plt.ylabel('Objective')\n",
    "plt.savefig(\"Plot_percentage_Barcelona.jpg\", dpi=1000)"
   ]
  },
  {
   "cell_type": "code",
   "execution_count": 46,
   "metadata": {},
   "outputs": [
    {
     "data": {
      "text/plain": [
       "array([[0., 0., 0., ..., 0., 0., 0.],\n",
       "       [0., 0., 0., ..., 0., 0., 0.],\n",
       "       [0., 0., 0., ..., 0., 0., 0.],\n",
       "       ...,\n",
       "       [0., 0., 0., ..., 0., 0., 0.],\n",
       "       [0., 0., 0., ..., 0., 0., 0.],\n",
       "       [0., 0., 0., ..., 0., 0., 0.]])"
      ]
     },
     "execution_count": 46,
     "metadata": {},
     "output_type": "execute_result"
    }
   ],
   "source": [
    "Result1[0]"
   ]
  },
  {
   "cell_type": "code",
   "execution_count": null,
   "metadata": {},
   "outputs": [],
   "source": []
  },
  {
   "cell_type": "markdown",
   "metadata": {},
   "source": [
    "# Testing for max-percentage change in iteration"
   ]
  },
  {
   "cell_type": "markdown",
   "metadata": {},
   "source": [
    "First we define the max percentage change function "
   ]
  },
  {
   "cell_type": "code",
   "execution_count": 47,
   "metadata": {},
   "outputs": [],
   "source": [
    "def max_percentage_change(X_new,X_old):\n",
    "    Diff=np.abs(X_old-X_new)\n",
    "    Change=np.where(X_old>0,Diff/(X_old/100),0)\n",
    "    \n",
    "    return np.max(Change)"
   ]
  },
  {
   "cell_type": "code",
   "execution_count": 48,
   "metadata": {},
   "outputs": [],
   "source": [
    "\n",
    "def Frank_Wolfe_percentage(xk,T,percentage):\n",
    "    i=0\n",
    "    A=[]\n",
    "    while i<T:\n",
    "        \n",
    "        w=Oracle(xk)\n",
    "\n",
    "        alpha_i=stepsize1(i)\n",
    "      \n",
    "      \n",
    "    \n",
    "        X_old=xk\n",
    "        xk=xk+alpha_i*(w-xk)\n",
    "        X_new=xk\n",
    "\n",
    "        i=i+1\n",
    "        A.append(max_percentage_change(X_new,X_old))\n",
    "        print(i,Objective(xk))\n",
    "\n",
    "    return xk,A"
   ]
  },
  {
   "cell_type": "code",
   "execution_count": 49,
   "metadata": {},
   "outputs": [],
   "source": [
    "def Frank_Wolfe_NEP_percentage(xk,T,beta,percentage):\n",
    "    '''\n",
    "    This will be a modified version of the Standard Frank_Wolfe to test mainly the call for the Oracle \n",
    "    '''\n",
    "    i=0\n",
    "    lamba=beta/2\n",
    "    A=[]\n",
    "    while i<T:\n",
    "        print(i,'Iteration')\n",
    "        w=NEP_Oracle(xk,lamba)\n",
    "        print('Oracle',np.sum(w))\n",
    "        stepi=stepsize1(i)\n",
    "        \n",
    "        new=xk+stepi*(w-xk)\n",
    "        alpha_i=stepsize_NEP(stepi,xk,new)\n",
    "        print('stepi',alpha_i)\n",
    "        lamba=beta*stepi/2\n",
    "        X_old=xk\n",
    "        xk=xk+alpha_i*(w-xk)\n",
    "        X_new=xk\n",
    "        A.append(max_percentage_change(X_new,X_old))\n",
    "       \n",
    "        i=i+1\n",
    "        print(i,Objective(xk))\n",
    "\n",
    "    return xk,A"
   ]
  },
  {
   "cell_type": "code",
   "execution_count": 50,
   "metadata": {},
   "outputs": [
    {
     "name": "stderr",
     "output_type": "stream",
     "text": [
      "<ipython-input-47-05c28b79c98c>:3: RuntimeWarning: divide by zero encountered in true_divide\n",
      "  Change=np.where(X_old>0,Diff/(X_old/100),0)\n",
      "<ipython-input-47-05c28b79c98c>:3: RuntimeWarning: invalid value encountered in true_divide\n",
      "  Change=np.where(X_old>0,Diff/(X_old/100),0)\n"
     ]
    },
    {
     "name": "stdout",
     "output_type": "stream",
     "text": [
      "1 8.427019924320988e+17\n"
     ]
    },
    {
     "name": "stderr",
     "output_type": "stream",
     "text": [
      "<ipython-input-47-05c28b79c98c>:3: RuntimeWarning: divide by zero encountered in true_divide\n",
      "  Change=np.where(X_old>0,Diff/(X_old/100),0)\n",
      "<ipython-input-47-05c28b79c98c>:3: RuntimeWarning: invalid value encountered in true_divide\n",
      "  Change=np.where(X_old>0,Diff/(X_old/100),0)\n"
     ]
    },
    {
     "name": "stdout",
     "output_type": "stream",
     "text": [
      "2 3.262818899391596e+16\n"
     ]
    },
    {
     "name": "stderr",
     "output_type": "stream",
     "text": [
      "<ipython-input-47-05c28b79c98c>:3: RuntimeWarning: divide by zero encountered in true_divide\n",
      "  Change=np.where(X_old>0,Diff/(X_old/100),0)\n",
      "<ipython-input-47-05c28b79c98c>:3: RuntimeWarning: invalid value encountered in true_divide\n",
      "  Change=np.where(X_old>0,Diff/(X_old/100),0)\n"
     ]
    },
    {
     "name": "stdout",
     "output_type": "stream",
     "text": [
      "3 1.2087135636095018e+16\n"
     ]
    },
    {
     "name": "stderr",
     "output_type": "stream",
     "text": [
      "<ipython-input-47-05c28b79c98c>:3: RuntimeWarning: divide by zero encountered in true_divide\n",
      "  Change=np.where(X_old>0,Diff/(X_old/100),0)\n",
      "<ipython-input-47-05c28b79c98c>:3: RuntimeWarning: invalid value encountered in true_divide\n",
      "  Change=np.where(X_old>0,Diff/(X_old/100),0)\n"
     ]
    },
    {
     "name": "stdout",
     "output_type": "stream",
     "text": [
      "4 6409522334031496.0\n"
     ]
    },
    {
     "name": "stderr",
     "output_type": "stream",
     "text": [
      "<ipython-input-47-05c28b79c98c>:3: RuntimeWarning: divide by zero encountered in true_divide\n",
      "  Change=np.where(X_old>0,Diff/(X_old/100),0)\n",
      "<ipython-input-47-05c28b79c98c>:3: RuntimeWarning: invalid value encountered in true_divide\n",
      "  Change=np.where(X_old>0,Diff/(X_old/100),0)\n"
     ]
    },
    {
     "name": "stdout",
     "output_type": "stream",
     "text": [
      "5 3748630422021338.0\n"
     ]
    },
    {
     "name": "stderr",
     "output_type": "stream",
     "text": [
      "<ipython-input-47-05c28b79c98c>:3: RuntimeWarning: divide by zero encountered in true_divide\n",
      "  Change=np.where(X_old>0,Diff/(X_old/100),0)\n",
      "<ipython-input-47-05c28b79c98c>:3: RuntimeWarning: invalid value encountered in true_divide\n",
      "  Change=np.where(X_old>0,Diff/(X_old/100),0)\n"
     ]
    },
    {
     "name": "stdout",
     "output_type": "stream",
     "text": [
      "6 2670363197026399.5\n"
     ]
    },
    {
     "name": "stderr",
     "output_type": "stream",
     "text": [
      "<ipython-input-47-05c28b79c98c>:3: RuntimeWarning: invalid value encountered in true_divide\n",
      "  Change=np.where(X_old>0,Diff/(X_old/100),0)\n"
     ]
    },
    {
     "name": "stdout",
     "output_type": "stream",
     "text": [
      "7 2130630541935276.8\n"
     ]
    },
    {
     "name": "stderr",
     "output_type": "stream",
     "text": [
      "<ipython-input-47-05c28b79c98c>:3: RuntimeWarning: invalid value encountered in true_divide\n",
      "  Change=np.where(X_old>0,Diff/(X_old/100),0)\n"
     ]
    },
    {
     "name": "stdout",
     "output_type": "stream",
     "text": [
      "8 1811254291085451.5\n"
     ]
    },
    {
     "name": "stderr",
     "output_type": "stream",
     "text": [
      "<ipython-input-47-05c28b79c98c>:3: RuntimeWarning: divide by zero encountered in true_divide\n",
      "  Change=np.where(X_old>0,Diff/(X_old/100),0)\n",
      "<ipython-input-47-05c28b79c98c>:3: RuntimeWarning: invalid value encountered in true_divide\n",
      "  Change=np.where(X_old>0,Diff/(X_old/100),0)\n"
     ]
    },
    {
     "name": "stdout",
     "output_type": "stream",
     "text": [
      "9 1623643414949909.8\n"
     ]
    },
    {
     "name": "stderr",
     "output_type": "stream",
     "text": [
      "<ipython-input-47-05c28b79c98c>:3: RuntimeWarning: divide by zero encountered in true_divide\n",
      "  Change=np.where(X_old>0,Diff/(X_old/100),0)\n",
      "<ipython-input-47-05c28b79c98c>:3: RuntimeWarning: invalid value encountered in true_divide\n",
      "  Change=np.where(X_old>0,Diff/(X_old/100),0)\n"
     ]
    },
    {
     "name": "stdout",
     "output_type": "stream",
     "text": [
      "10 1457949359323975.2\n"
     ]
    },
    {
     "name": "stderr",
     "output_type": "stream",
     "text": [
      "<ipython-input-47-05c28b79c98c>:3: RuntimeWarning: invalid value encountered in true_divide\n",
      "  Change=np.where(X_old>0,Diff/(X_old/100),0)\n"
     ]
    },
    {
     "name": "stdout",
     "output_type": "stream",
     "text": [
      "11 1345066255442206.5\n"
     ]
    },
    {
     "name": "stderr",
     "output_type": "stream",
     "text": [
      "<ipython-input-47-05c28b79c98c>:3: RuntimeWarning: invalid value encountered in true_divide\n",
      "  Change=np.where(X_old>0,Diff/(X_old/100),0)\n"
     ]
    },
    {
     "name": "stdout",
     "output_type": "stream",
     "text": [
      "12 1257692551483004.5\n"
     ]
    },
    {
     "name": "stderr",
     "output_type": "stream",
     "text": [
      "<ipython-input-47-05c28b79c98c>:3: RuntimeWarning: invalid value encountered in true_divide\n",
      "  Change=np.where(X_old>0,Diff/(X_old/100),0)\n"
     ]
    },
    {
     "name": "stdout",
     "output_type": "stream",
     "text": [
      "13 1189423834979153.2\n"
     ]
    },
    {
     "name": "stderr",
     "output_type": "stream",
     "text": [
      "<ipython-input-47-05c28b79c98c>:3: RuntimeWarning: invalid value encountered in true_divide\n",
      "  Change=np.where(X_old>0,Diff/(X_old/100),0)\n"
     ]
    },
    {
     "name": "stdout",
     "output_type": "stream",
     "text": [
      "14 1132233936485176.5\n"
     ]
    },
    {
     "name": "stderr",
     "output_type": "stream",
     "text": [
      "<ipython-input-47-05c28b79c98c>:3: RuntimeWarning: invalid value encountered in true_divide\n",
      "  Change=np.where(X_old>0,Diff/(X_old/100),0)\n"
     ]
    },
    {
     "name": "stdout",
     "output_type": "stream",
     "text": [
      "15 1087064121778063.2\n"
     ]
    },
    {
     "name": "stderr",
     "output_type": "stream",
     "text": [
      "<ipython-input-47-05c28b79c98c>:3: RuntimeWarning: invalid value encountered in true_divide\n",
      "  Change=np.where(X_old>0,Diff/(X_old/100),0)\n"
     ]
    },
    {
     "name": "stdout",
     "output_type": "stream",
     "text": [
      "16 1051169969195686.6\n"
     ]
    },
    {
     "name": "stderr",
     "output_type": "stream",
     "text": [
      "<ipython-input-47-05c28b79c98c>:3: RuntimeWarning: invalid value encountered in true_divide\n",
      "  Change=np.where(X_old>0,Diff/(X_old/100),0)\n"
     ]
    },
    {
     "name": "stdout",
     "output_type": "stream",
     "text": [
      "17 1018962745960248.9\n"
     ]
    },
    {
     "name": "stderr",
     "output_type": "stream",
     "text": [
      "<ipython-input-47-05c28b79c98c>:3: RuntimeWarning: invalid value encountered in true_divide\n",
      "  Change=np.where(X_old>0,Diff/(X_old/100),0)\n"
     ]
    },
    {
     "name": "stdout",
     "output_type": "stream",
     "text": [
      "18 989224851538178.8\n"
     ]
    },
    {
     "name": "stderr",
     "output_type": "stream",
     "text": [
      "<ipython-input-47-05c28b79c98c>:3: RuntimeWarning: divide by zero encountered in true_divide\n",
      "  Change=np.where(X_old>0,Diff/(X_old/100),0)\n",
      "<ipython-input-47-05c28b79c98c>:3: RuntimeWarning: invalid value encountered in true_divide\n",
      "  Change=np.where(X_old>0,Diff/(X_old/100),0)\n"
     ]
    },
    {
     "name": "stdout",
     "output_type": "stream",
     "text": [
      "19 963993297812174.6\n"
     ]
    },
    {
     "name": "stderr",
     "output_type": "stream",
     "text": [
      "<ipython-input-47-05c28b79c98c>:3: RuntimeWarning: invalid value encountered in true_divide\n",
      "  Change=np.where(X_old>0,Diff/(X_old/100),0)\n"
     ]
    },
    {
     "name": "stdout",
     "output_type": "stream",
     "text": [
      "20 940826028047788.4\n"
     ]
    },
    {
     "name": "stderr",
     "output_type": "stream",
     "text": [
      "<ipython-input-47-05c28b79c98c>:3: RuntimeWarning: invalid value encountered in true_divide\n",
      "  Change=np.where(X_old>0,Diff/(X_old/100),0)\n"
     ]
    },
    {
     "name": "stdout",
     "output_type": "stream",
     "text": [
      "21 921751054155341.2\n"
     ]
    },
    {
     "name": "stderr",
     "output_type": "stream",
     "text": [
      "<ipython-input-47-05c28b79c98c>:3: RuntimeWarning: invalid value encountered in true_divide\n",
      "  Change=np.where(X_old>0,Diff/(X_old/100),0)\n"
     ]
    },
    {
     "name": "stdout",
     "output_type": "stream",
     "text": [
      "22 903742861746407.5\n"
     ]
    },
    {
     "name": "stderr",
     "output_type": "stream",
     "text": [
      "<ipython-input-47-05c28b79c98c>:3: RuntimeWarning: invalid value encountered in true_divide\n",
      "  Change=np.where(X_old>0,Diff/(X_old/100),0)\n"
     ]
    },
    {
     "name": "stdout",
     "output_type": "stream",
     "text": [
      "23 887387177956202.9\n"
     ]
    },
    {
     "name": "stderr",
     "output_type": "stream",
     "text": [
      "<ipython-input-47-05c28b79c98c>:3: RuntimeWarning: invalid value encountered in true_divide\n",
      "  Change=np.where(X_old>0,Diff/(X_old/100),0)\n"
     ]
    },
    {
     "name": "stdout",
     "output_type": "stream",
     "text": [
      "24 873675675481380.5\n"
     ]
    },
    {
     "name": "stderr",
     "output_type": "stream",
     "text": [
      "<ipython-input-47-05c28b79c98c>:3: RuntimeWarning: invalid value encountered in true_divide\n",
      "  Change=np.where(X_old>0,Diff/(X_old/100),0)\n"
     ]
    },
    {
     "name": "stdout",
     "output_type": "stream",
     "text": [
      "25 860136182562401.6\n"
     ]
    },
    {
     "name": "stderr",
     "output_type": "stream",
     "text": [
      "<ipython-input-47-05c28b79c98c>:3: RuntimeWarning: invalid value encountered in true_divide\n",
      "  Change=np.where(X_old>0,Diff/(X_old/100),0)\n"
     ]
    },
    {
     "name": "stdout",
     "output_type": "stream",
     "text": [
      "26 848341839807697.5\n"
     ]
    },
    {
     "name": "stderr",
     "output_type": "stream",
     "text": [
      "<ipython-input-47-05c28b79c98c>:3: RuntimeWarning: invalid value encountered in true_divide\n",
      "  Change=np.where(X_old>0,Diff/(X_old/100),0)\n"
     ]
    },
    {
     "name": "stdout",
     "output_type": "stream",
     "text": [
      "27 837881296540172.8\n"
     ]
    },
    {
     "name": "stderr",
     "output_type": "stream",
     "text": [
      "<ipython-input-47-05c28b79c98c>:3: RuntimeWarning: divide by zero encountered in true_divide\n",
      "  Change=np.where(X_old>0,Diff/(X_old/100),0)\n",
      "<ipython-input-47-05c28b79c98c>:3: RuntimeWarning: invalid value encountered in true_divide\n",
      "  Change=np.where(X_old>0,Diff/(X_old/100),0)\n"
     ]
    },
    {
     "name": "stdout",
     "output_type": "stream",
     "text": [
      "28 827933118789309.9\n"
     ]
    },
    {
     "name": "stderr",
     "output_type": "stream",
     "text": [
      "<ipython-input-47-05c28b79c98c>:3: RuntimeWarning: divide by zero encountered in true_divide\n",
      "  Change=np.where(X_old>0,Diff/(X_old/100),0)\n",
      "<ipython-input-47-05c28b79c98c>:3: RuntimeWarning: invalid value encountered in true_divide\n",
      "  Change=np.where(X_old>0,Diff/(X_old/100),0)\n"
     ]
    },
    {
     "name": "stdout",
     "output_type": "stream",
     "text": [
      "29 819210934231177.5\n"
     ]
    },
    {
     "name": "stderr",
     "output_type": "stream",
     "text": [
      "<ipython-input-47-05c28b79c98c>:3: RuntimeWarning: invalid value encountered in true_divide\n",
      "  Change=np.where(X_old>0,Diff/(X_old/100),0)\n"
     ]
    },
    {
     "name": "stdout",
     "output_type": "stream",
     "text": [
      "30 811011461966124.5\n"
     ]
    },
    {
     "name": "stderr",
     "output_type": "stream",
     "text": [
      "<ipython-input-47-05c28b79c98c>:3: RuntimeWarning: invalid value encountered in true_divide\n",
      "  Change=np.where(X_old>0,Diff/(X_old/100),0)\n"
     ]
    },
    {
     "name": "stdout",
     "output_type": "stream",
     "text": [
      "31 803188160665329.5\n"
     ]
    },
    {
     "name": "stderr",
     "output_type": "stream",
     "text": [
      "<ipython-input-47-05c28b79c98c>:3: RuntimeWarning: invalid value encountered in true_divide\n",
      "  Change=np.where(X_old>0,Diff/(X_old/100),0)\n"
     ]
    },
    {
     "name": "stdout",
     "output_type": "stream",
     "text": [
      "32 796637733982065.6\n"
     ]
    },
    {
     "name": "stderr",
     "output_type": "stream",
     "text": [
      "<ipython-input-47-05c28b79c98c>:3: RuntimeWarning: invalid value encountered in true_divide\n",
      "  Change=np.where(X_old>0,Diff/(X_old/100),0)\n"
     ]
    },
    {
     "name": "stdout",
     "output_type": "stream",
     "text": [
      "33 789907707624911.5\n"
     ]
    },
    {
     "name": "stderr",
     "output_type": "stream",
     "text": [
      "<ipython-input-47-05c28b79c98c>:3: RuntimeWarning: invalid value encountered in true_divide\n",
      "  Change=np.where(X_old>0,Diff/(X_old/100),0)\n"
     ]
    },
    {
     "name": "stdout",
     "output_type": "stream",
     "text": [
      "34 783424435069446.2\n"
     ]
    },
    {
     "name": "stderr",
     "output_type": "stream",
     "text": [
      "<ipython-input-47-05c28b79c98c>:3: RuntimeWarning: invalid value encountered in true_divide\n",
      "  Change=np.where(X_old>0,Diff/(X_old/100),0)\n"
     ]
    },
    {
     "name": "stdout",
     "output_type": "stream",
     "text": [
      "35 777723189819974.2\n"
     ]
    },
    {
     "name": "stderr",
     "output_type": "stream",
     "text": [
      "<ipython-input-47-05c28b79c98c>:3: RuntimeWarning: invalid value encountered in true_divide\n",
      "  Change=np.where(X_old>0,Diff/(X_old/100),0)\n"
     ]
    },
    {
     "name": "stdout",
     "output_type": "stream",
     "text": [
      "36 772055495452726.2\n"
     ]
    },
    {
     "name": "stderr",
     "output_type": "stream",
     "text": [
      "<ipython-input-47-05c28b79c98c>:3: RuntimeWarning: invalid value encountered in true_divide\n",
      "  Change=np.where(X_old>0,Diff/(X_old/100),0)\n"
     ]
    },
    {
     "name": "stdout",
     "output_type": "stream",
     "text": [
      "37 766837048079552.5\n"
     ]
    },
    {
     "name": "stderr",
     "output_type": "stream",
     "text": [
      "<ipython-input-47-05c28b79c98c>:3: RuntimeWarning: invalid value encountered in true_divide\n",
      "  Change=np.where(X_old>0,Diff/(X_old/100),0)\n"
     ]
    },
    {
     "name": "stdout",
     "output_type": "stream",
     "text": [
      "38 762263918723894.8\n"
     ]
    },
    {
     "name": "stderr",
     "output_type": "stream",
     "text": [
      "<ipython-input-47-05c28b79c98c>:3: RuntimeWarning: invalid value encountered in true_divide\n",
      "  Change=np.where(X_old>0,Diff/(X_old/100),0)\n"
     ]
    },
    {
     "name": "stdout",
     "output_type": "stream",
     "text": [
      "39 757647262546864.2\n"
     ]
    },
    {
     "name": "stderr",
     "output_type": "stream",
     "text": [
      "<ipython-input-47-05c28b79c98c>:3: RuntimeWarning: invalid value encountered in true_divide\n",
      "  Change=np.where(X_old>0,Diff/(X_old/100),0)\n"
     ]
    },
    {
     "name": "stdout",
     "output_type": "stream",
     "text": [
      "40 753249940873022.5\n"
     ]
    },
    {
     "name": "stderr",
     "output_type": "stream",
     "text": [
      "<ipython-input-47-05c28b79c98c>:3: RuntimeWarning: invalid value encountered in true_divide\n",
      "  Change=np.where(X_old>0,Diff/(X_old/100),0)\n"
     ]
    },
    {
     "name": "stdout",
     "output_type": "stream",
     "text": [
      "41 749394529883099.5\n"
     ]
    },
    {
     "name": "stderr",
     "output_type": "stream",
     "text": [
      "<ipython-input-47-05c28b79c98c>:3: RuntimeWarning: invalid value encountered in true_divide\n",
      "  Change=np.where(X_old>0,Diff/(X_old/100),0)\n"
     ]
    },
    {
     "name": "stdout",
     "output_type": "stream",
     "text": [
      "42 745471931040064.4\n"
     ]
    },
    {
     "name": "stderr",
     "output_type": "stream",
     "text": [
      "<ipython-input-47-05c28b79c98c>:3: RuntimeWarning: invalid value encountered in true_divide\n",
      "  Change=np.where(X_old>0,Diff/(X_old/100),0)\n"
     ]
    },
    {
     "name": "stdout",
     "output_type": "stream",
     "text": [
      "43 741865043159807.4\n"
     ]
    },
    {
     "name": "stderr",
     "output_type": "stream",
     "text": [
      "<ipython-input-47-05c28b79c98c>:3: RuntimeWarning: invalid value encountered in true_divide\n",
      "  Change=np.where(X_old>0,Diff/(X_old/100),0)\n"
     ]
    },
    {
     "name": "stdout",
     "output_type": "stream",
     "text": [
      "44 738430418497746.5\n"
     ]
    },
    {
     "name": "stderr",
     "output_type": "stream",
     "text": [
      "<ipython-input-47-05c28b79c98c>:3: RuntimeWarning: invalid value encountered in true_divide\n",
      "  Change=np.where(X_old>0,Diff/(X_old/100),0)\n"
     ]
    },
    {
     "name": "stdout",
     "output_type": "stream",
     "text": [
      "45 735169701905920.1\n"
     ]
    },
    {
     "name": "stderr",
     "output_type": "stream",
     "text": [
      "<ipython-input-47-05c28b79c98c>:3: RuntimeWarning: invalid value encountered in true_divide\n",
      "  Change=np.where(X_old>0,Diff/(X_old/100),0)\n"
     ]
    },
    {
     "name": "stdout",
     "output_type": "stream",
     "text": [
      "46 732103851401803.5\n"
     ]
    },
    {
     "name": "stderr",
     "output_type": "stream",
     "text": [
      "<ipython-input-47-05c28b79c98c>:3: RuntimeWarning: invalid value encountered in true_divide\n",
      "  Change=np.where(X_old>0,Diff/(X_old/100),0)\n"
     ]
    },
    {
     "name": "stdout",
     "output_type": "stream",
     "text": [
      "47 729143491243474.0\n"
     ]
    },
    {
     "name": "stderr",
     "output_type": "stream",
     "text": [
      "<ipython-input-47-05c28b79c98c>:3: RuntimeWarning: invalid value encountered in true_divide\n",
      "  Change=np.where(X_old>0,Diff/(X_old/100),0)\n"
     ]
    },
    {
     "name": "stdout",
     "output_type": "stream",
     "text": [
      "48 726206965557154.9\n"
     ]
    },
    {
     "name": "stderr",
     "output_type": "stream",
     "text": [
      "<ipython-input-47-05c28b79c98c>:3: RuntimeWarning: invalid value encountered in true_divide\n",
      "  Change=np.where(X_old>0,Diff/(X_old/100),0)\n"
     ]
    },
    {
     "name": "stdout",
     "output_type": "stream",
     "text": [
      "49 723669789306614.4\n"
     ]
    },
    {
     "name": "stderr",
     "output_type": "stream",
     "text": [
      "<ipython-input-47-05c28b79c98c>:3: RuntimeWarning: invalid value encountered in true_divide\n",
      "  Change=np.where(X_old>0,Diff/(X_old/100),0)\n"
     ]
    },
    {
     "name": "stdout",
     "output_type": "stream",
     "text": [
      "50 721018018869622.6\n"
     ]
    },
    {
     "name": "stderr",
     "output_type": "stream",
     "text": [
      "<ipython-input-47-05c28b79c98c>:3: RuntimeWarning: invalid value encountered in true_divide\n",
      "  Change=np.where(X_old>0,Diff/(X_old/100),0)\n"
     ]
    },
    {
     "name": "stdout",
     "output_type": "stream",
     "text": [
      "51 718490254660503.1\n"
     ]
    },
    {
     "name": "stderr",
     "output_type": "stream",
     "text": [
      "<ipython-input-47-05c28b79c98c>:3: RuntimeWarning: invalid value encountered in true_divide\n",
      "  Change=np.where(X_old>0,Diff/(X_old/100),0)\n"
     ]
    },
    {
     "name": "stdout",
     "output_type": "stream",
     "text": [
      "52 716116627191375.6\n"
     ]
    },
    {
     "name": "stderr",
     "output_type": "stream",
     "text": [
      "<ipython-input-47-05c28b79c98c>:3: RuntimeWarning: invalid value encountered in true_divide\n",
      "  Change=np.where(X_old>0,Diff/(X_old/100),0)\n"
     ]
    },
    {
     "name": "stdout",
     "output_type": "stream",
     "text": [
      "53 713987217502554.0\n"
     ]
    },
    {
     "name": "stderr",
     "output_type": "stream",
     "text": [
      "<ipython-input-47-05c28b79c98c>:3: RuntimeWarning: invalid value encountered in true_divide\n",
      "  Change=np.where(X_old>0,Diff/(X_old/100),0)\n"
     ]
    },
    {
     "name": "stdout",
     "output_type": "stream",
     "text": [
      "54 711726304494178.5\n"
     ]
    },
    {
     "name": "stderr",
     "output_type": "stream",
     "text": [
      "<ipython-input-47-05c28b79c98c>:3: RuntimeWarning: invalid value encountered in true_divide\n",
      "  Change=np.where(X_old>0,Diff/(X_old/100),0)\n"
     ]
    },
    {
     "name": "stdout",
     "output_type": "stream",
     "text": [
      "55 709647602529508.8\n"
     ]
    },
    {
     "name": "stderr",
     "output_type": "stream",
     "text": [
      "<ipython-input-47-05c28b79c98c>:3: RuntimeWarning: invalid value encountered in true_divide\n",
      "  Change=np.where(X_old>0,Diff/(X_old/100),0)\n"
     ]
    },
    {
     "name": "stdout",
     "output_type": "stream",
     "text": [
      "56 707607794663964.0\n"
     ]
    },
    {
     "name": "stderr",
     "output_type": "stream",
     "text": [
      "<ipython-input-47-05c28b79c98c>:3: RuntimeWarning: invalid value encountered in true_divide\n",
      "  Change=np.where(X_old>0,Diff/(X_old/100),0)\n"
     ]
    },
    {
     "name": "stdout",
     "output_type": "stream",
     "text": [
      "57 705695162802302.2\n"
     ]
    },
    {
     "name": "stderr",
     "output_type": "stream",
     "text": [
      "<ipython-input-47-05c28b79c98c>:3: RuntimeWarning: invalid value encountered in true_divide\n",
      "  Change=np.where(X_old>0,Diff/(X_old/100),0)\n"
     ]
    },
    {
     "name": "stdout",
     "output_type": "stream",
     "text": [
      "58 703818393489878.2\n"
     ]
    },
    {
     "name": "stderr",
     "output_type": "stream",
     "text": [
      "<ipython-input-47-05c28b79c98c>:3: RuntimeWarning: invalid value encountered in true_divide\n",
      "  Change=np.where(X_old>0,Diff/(X_old/100),0)\n"
     ]
    },
    {
     "name": "stdout",
     "output_type": "stream",
     "text": [
      "59 702223306654194.0\n"
     ]
    },
    {
     "name": "stderr",
     "output_type": "stream",
     "text": [
      "<ipython-input-47-05c28b79c98c>:3: RuntimeWarning: invalid value encountered in true_divide\n",
      "  Change=np.where(X_old>0,Diff/(X_old/100),0)\n"
     ]
    },
    {
     "name": "stdout",
     "output_type": "stream",
     "text": [
      "60 700412213125847.1\n"
     ]
    },
    {
     "name": "stderr",
     "output_type": "stream",
     "text": [
      "<ipython-input-47-05c28b79c98c>:3: RuntimeWarning: invalid value encountered in true_divide\n",
      "  Change=np.where(X_old>0,Diff/(X_old/100),0)\n"
     ]
    },
    {
     "name": "stdout",
     "output_type": "stream",
     "text": [
      "61 698683737836012.8\n"
     ]
    },
    {
     "name": "stderr",
     "output_type": "stream",
     "text": [
      "<ipython-input-47-05c28b79c98c>:3: RuntimeWarning: invalid value encountered in true_divide\n",
      "  Change=np.where(X_old>0,Diff/(X_old/100),0)\n"
     ]
    },
    {
     "name": "stdout",
     "output_type": "stream",
     "text": [
      "62 697077543831272.5\n"
     ]
    },
    {
     "name": "stderr",
     "output_type": "stream",
     "text": [
      "<ipython-input-47-05c28b79c98c>:3: RuntimeWarning: invalid value encountered in true_divide\n",
      "  Change=np.where(X_old>0,Diff/(X_old/100),0)\n"
     ]
    },
    {
     "name": "stdout",
     "output_type": "stream",
     "text": [
      "63 695512483694469.8\n"
     ]
    },
    {
     "name": "stderr",
     "output_type": "stream",
     "text": [
      "<ipython-input-47-05c28b79c98c>:3: RuntimeWarning: invalid value encountered in true_divide\n",
      "  Change=np.where(X_old>0,Diff/(X_old/100),0)\n"
     ]
    },
    {
     "name": "stdout",
     "output_type": "stream",
     "text": [
      "64 694021227223196.4\n"
     ]
    },
    {
     "name": "stderr",
     "output_type": "stream",
     "text": [
      "<ipython-input-47-05c28b79c98c>:3: RuntimeWarning: invalid value encountered in true_divide\n",
      "  Change=np.where(X_old>0,Diff/(X_old/100),0)\n"
     ]
    },
    {
     "name": "stdout",
     "output_type": "stream",
     "text": [
      "65 692535911725868.6\n"
     ]
    },
    {
     "name": "stderr",
     "output_type": "stream",
     "text": [
      "<ipython-input-47-05c28b79c98c>:3: RuntimeWarning: invalid value encountered in true_divide\n",
      "  Change=np.where(X_old>0,Diff/(X_old/100),0)\n"
     ]
    },
    {
     "name": "stdout",
     "output_type": "stream",
     "text": [
      "66 691111062432931.4\n"
     ]
    },
    {
     "name": "stderr",
     "output_type": "stream",
     "text": [
      "<ipython-input-47-05c28b79c98c>:3: RuntimeWarning: invalid value encountered in true_divide\n",
      "  Change=np.where(X_old>0,Diff/(X_old/100),0)\n"
     ]
    },
    {
     "name": "stdout",
     "output_type": "stream",
     "text": [
      "67 689734810582653.6\n"
     ]
    },
    {
     "name": "stderr",
     "output_type": "stream",
     "text": [
      "<ipython-input-47-05c28b79c98c>:3: RuntimeWarning: invalid value encountered in true_divide\n",
      "  Change=np.where(X_old>0,Diff/(X_old/100),0)\n"
     ]
    },
    {
     "name": "stdout",
     "output_type": "stream",
     "text": [
      "68 688458670019894.4\n"
     ]
    },
    {
     "name": "stderr",
     "output_type": "stream",
     "text": [
      "<ipython-input-47-05c28b79c98c>:3: RuntimeWarning: invalid value encountered in true_divide\n",
      "  Change=np.where(X_old>0,Diff/(X_old/100),0)\n"
     ]
    },
    {
     "name": "stdout",
     "output_type": "stream",
     "text": [
      "69 687169682082506.8\n"
     ]
    },
    {
     "name": "stderr",
     "output_type": "stream",
     "text": [
      "<ipython-input-47-05c28b79c98c>:3: RuntimeWarning: invalid value encountered in true_divide\n",
      "  Change=np.where(X_old>0,Diff/(X_old/100),0)\n"
     ]
    },
    {
     "name": "stdout",
     "output_type": "stream",
     "text": [
      "70 685999044324440.6\n"
     ]
    },
    {
     "name": "stderr",
     "output_type": "stream",
     "text": [
      "<ipython-input-47-05c28b79c98c>:3: RuntimeWarning: invalid value encountered in true_divide\n",
      "  Change=np.where(X_old>0,Diff/(X_old/100),0)\n"
     ]
    },
    {
     "name": "stdout",
     "output_type": "stream",
     "text": [
      "71 684732280895297.6\n"
     ]
    },
    {
     "name": "stderr",
     "output_type": "stream",
     "text": [
      "<ipython-input-47-05c28b79c98c>:3: RuntimeWarning: invalid value encountered in true_divide\n",
      "  Change=np.where(X_old>0,Diff/(X_old/100),0)\n"
     ]
    },
    {
     "name": "stdout",
     "output_type": "stream",
     "text": [
      "72 683568851311636.5\n"
     ]
    },
    {
     "name": "stderr",
     "output_type": "stream",
     "text": [
      "<ipython-input-47-05c28b79c98c>:3: RuntimeWarning: invalid value encountered in true_divide\n",
      "  Change=np.where(X_old>0,Diff/(X_old/100),0)\n"
     ]
    },
    {
     "name": "stdout",
     "output_type": "stream",
     "text": [
      "73 682394387950610.9\n"
     ]
    },
    {
     "name": "stderr",
     "output_type": "stream",
     "text": [
      "<ipython-input-47-05c28b79c98c>:3: RuntimeWarning: invalid value encountered in true_divide\n",
      "  Change=np.where(X_old>0,Diff/(X_old/100),0)\n"
     ]
    },
    {
     "name": "stdout",
     "output_type": "stream",
     "text": [
      "74 681272859579707.8\n"
     ]
    },
    {
     "name": "stderr",
     "output_type": "stream",
     "text": [
      "<ipython-input-47-05c28b79c98c>:3: RuntimeWarning: invalid value encountered in true_divide\n",
      "  Change=np.where(X_old>0,Diff/(X_old/100),0)\n"
     ]
    },
    {
     "name": "stdout",
     "output_type": "stream",
     "text": [
      "75 680229529240334.6\n"
     ]
    },
    {
     "name": "stderr",
     "output_type": "stream",
     "text": [
      "<ipython-input-47-05c28b79c98c>:3: RuntimeWarning: invalid value encountered in true_divide\n",
      "  Change=np.where(X_old>0,Diff/(X_old/100),0)\n"
     ]
    },
    {
     "name": "stdout",
     "output_type": "stream",
     "text": [
      "76 679157422469305.0\n"
     ]
    },
    {
     "name": "stderr",
     "output_type": "stream",
     "text": [
      "<ipython-input-47-05c28b79c98c>:3: RuntimeWarning: invalid value encountered in true_divide\n",
      "  Change=np.where(X_old>0,Diff/(X_old/100),0)\n"
     ]
    },
    {
     "name": "stdout",
     "output_type": "stream",
     "text": [
      "77 678132708705270.5\n"
     ]
    },
    {
     "name": "stderr",
     "output_type": "stream",
     "text": [
      "<ipython-input-47-05c28b79c98c>:3: RuntimeWarning: invalid value encountered in true_divide\n",
      "  Change=np.where(X_old>0,Diff/(X_old/100),0)\n"
     ]
    },
    {
     "name": "stdout",
     "output_type": "stream",
     "text": [
      "78 677172839771567.0\n"
     ]
    },
    {
     "name": "stderr",
     "output_type": "stream",
     "text": [
      "<ipython-input-47-05c28b79c98c>:3: RuntimeWarning: invalid value encountered in true_divide\n",
      "  Change=np.where(X_old>0,Diff/(X_old/100),0)\n"
     ]
    },
    {
     "name": "stdout",
     "output_type": "stream",
     "text": [
      "79 676213732509732.4\n"
     ]
    },
    {
     "name": "stderr",
     "output_type": "stream",
     "text": [
      "<ipython-input-47-05c28b79c98c>:3: RuntimeWarning: invalid value encountered in true_divide\n",
      "  Change=np.where(X_old>0,Diff/(X_old/100),0)\n"
     ]
    },
    {
     "name": "stdout",
     "output_type": "stream",
     "text": [
      "80 675277029319312.8\n"
     ]
    },
    {
     "name": "stderr",
     "output_type": "stream",
     "text": [
      "<ipython-input-47-05c28b79c98c>:3: RuntimeWarning: invalid value encountered in true_divide\n",
      "  Change=np.where(X_old>0,Diff/(X_old/100),0)\n"
     ]
    },
    {
     "name": "stdout",
     "output_type": "stream",
     "text": [
      "81 674418361241197.0\n"
     ]
    },
    {
     "name": "stderr",
     "output_type": "stream",
     "text": [
      "<ipython-input-47-05c28b79c98c>:3: RuntimeWarning: invalid value encountered in true_divide\n",
      "  Change=np.where(X_old>0,Diff/(X_old/100),0)\n"
     ]
    },
    {
     "name": "stdout",
     "output_type": "stream",
     "text": [
      "82 673522993057004.1\n"
     ]
    },
    {
     "name": "stderr",
     "output_type": "stream",
     "text": [
      "<ipython-input-47-05c28b79c98c>:3: RuntimeWarning: invalid value encountered in true_divide\n",
      "  Change=np.where(X_old>0,Diff/(X_old/100),0)\n"
     ]
    },
    {
     "name": "stdout",
     "output_type": "stream",
     "text": [
      "83 672637253783520.9\n"
     ]
    },
    {
     "name": "stderr",
     "output_type": "stream",
     "text": [
      "<ipython-input-47-05c28b79c98c>:3: RuntimeWarning: invalid value encountered in true_divide\n",
      "  Change=np.where(X_old>0,Diff/(X_old/100),0)\n"
     ]
    },
    {
     "name": "stdout",
     "output_type": "stream",
     "text": [
      "84 671803534737786.0\n"
     ]
    },
    {
     "name": "stderr",
     "output_type": "stream",
     "text": [
      "<ipython-input-47-05c28b79c98c>:3: RuntimeWarning: invalid value encountered in true_divide\n",
      "  Change=np.where(X_old>0,Diff/(X_old/100),0)\n"
     ]
    },
    {
     "name": "stdout",
     "output_type": "stream",
     "text": [
      "85 671025026734896.2\n"
     ]
    },
    {
     "name": "stderr",
     "output_type": "stream",
     "text": [
      "<ipython-input-47-05c28b79c98c>:3: RuntimeWarning: invalid value encountered in true_divide\n",
      "  Change=np.where(X_old>0,Diff/(X_old/100),0)\n"
     ]
    },
    {
     "name": "stdout",
     "output_type": "stream",
     "text": [
      "86 670237343568865.1\n"
     ]
    },
    {
     "name": "stderr",
     "output_type": "stream",
     "text": [
      "<ipython-input-47-05c28b79c98c>:3: RuntimeWarning: invalid value encountered in true_divide\n",
      "  Change=np.where(X_old>0,Diff/(X_old/100),0)\n"
     ]
    },
    {
     "name": "stdout",
     "output_type": "stream",
     "text": [
      "87 669444194301625.1\n"
     ]
    },
    {
     "name": "stderr",
     "output_type": "stream",
     "text": [
      "<ipython-input-47-05c28b79c98c>:3: RuntimeWarning: divide by zero encountered in true_divide\n",
      "  Change=np.where(X_old>0,Diff/(X_old/100),0)\n",
      "<ipython-input-47-05c28b79c98c>:3: RuntimeWarning: invalid value encountered in true_divide\n",
      "  Change=np.where(X_old>0,Diff/(X_old/100),0)\n"
     ]
    },
    {
     "name": "stdout",
     "output_type": "stream",
     "text": [
      "88 668664327905506.0\n"
     ]
    },
    {
     "name": "stderr",
     "output_type": "stream",
     "text": [
      "<ipython-input-47-05c28b79c98c>:3: RuntimeWarning: invalid value encountered in true_divide\n",
      "  Change=np.where(X_old>0,Diff/(X_old/100),0)\n"
     ]
    },
    {
     "name": "stdout",
     "output_type": "stream",
     "text": [
      "89 667922275614884.0\n"
     ]
    },
    {
     "name": "stderr",
     "output_type": "stream",
     "text": [
      "<ipython-input-47-05c28b79c98c>:3: RuntimeWarning: invalid value encountered in true_divide\n",
      "  Change=np.where(X_old>0,Diff/(X_old/100),0)\n"
     ]
    },
    {
     "name": "stdout",
     "output_type": "stream",
     "text": [
      "90 667183993566484.0\n"
     ]
    },
    {
     "name": "stderr",
     "output_type": "stream",
     "text": [
      "<ipython-input-47-05c28b79c98c>:3: RuntimeWarning: invalid value encountered in true_divide\n",
      "  Change=np.where(X_old>0,Diff/(X_old/100),0)\n"
     ]
    },
    {
     "name": "stdout",
     "output_type": "stream",
     "text": [
      "91 666462144901404.5\n"
     ]
    },
    {
     "name": "stderr",
     "output_type": "stream",
     "text": [
      "<ipython-input-47-05c28b79c98c>:3: RuntimeWarning: invalid value encountered in true_divide\n",
      "  Change=np.where(X_old>0,Diff/(X_old/100),0)\n"
     ]
    },
    {
     "name": "stdout",
     "output_type": "stream",
     "text": [
      "92 665784239705753.0\n"
     ]
    },
    {
     "name": "stderr",
     "output_type": "stream",
     "text": [
      "<ipython-input-47-05c28b79c98c>:3: RuntimeWarning: invalid value encountered in true_divide\n",
      "  Change=np.where(X_old>0,Diff/(X_old/100),0)\n"
     ]
    },
    {
     "name": "stdout",
     "output_type": "stream",
     "text": [
      "93 665097458359279.1\n"
     ]
    },
    {
     "name": "stderr",
     "output_type": "stream",
     "text": [
      "<ipython-input-47-05c28b79c98c>:3: RuntimeWarning: invalid value encountered in true_divide\n",
      "  Change=np.where(X_old>0,Diff/(X_old/100),0)\n"
     ]
    },
    {
     "name": "stdout",
     "output_type": "stream",
     "text": [
      "94 664451421436173.1\n"
     ]
    },
    {
     "name": "stderr",
     "output_type": "stream",
     "text": [
      "<ipython-input-47-05c28b79c98c>:3: RuntimeWarning: invalid value encountered in true_divide\n",
      "  Change=np.where(X_old>0,Diff/(X_old/100),0)\n"
     ]
    },
    {
     "name": "stdout",
     "output_type": "stream",
     "text": [
      "95 663851913605094.2\n"
     ]
    },
    {
     "name": "stderr",
     "output_type": "stream",
     "text": [
      "<ipython-input-47-05c28b79c98c>:3: RuntimeWarning: invalid value encountered in true_divide\n",
      "  Change=np.where(X_old>0,Diff/(X_old/100),0)\n"
     ]
    },
    {
     "name": "stdout",
     "output_type": "stream",
     "text": [
      "96 663210658351606.6\n"
     ]
    },
    {
     "name": "stderr",
     "output_type": "stream",
     "text": [
      "<ipython-input-47-05c28b79c98c>:3: RuntimeWarning: invalid value encountered in true_divide\n",
      "  Change=np.where(X_old>0,Diff/(X_old/100),0)\n"
     ]
    },
    {
     "name": "stdout",
     "output_type": "stream",
     "text": [
      "97 662593801166660.1\n"
     ]
    },
    {
     "name": "stderr",
     "output_type": "stream",
     "text": [
      "<ipython-input-47-05c28b79c98c>:3: RuntimeWarning: invalid value encountered in true_divide\n",
      "  Change=np.where(X_old>0,Diff/(X_old/100),0)\n"
     ]
    },
    {
     "name": "stdout",
     "output_type": "stream",
     "text": [
      "98 661971169950319.2\n"
     ]
    },
    {
     "name": "stderr",
     "output_type": "stream",
     "text": [
      "<ipython-input-47-05c28b79c98c>:3: RuntimeWarning: invalid value encountered in true_divide\n",
      "  Change=np.where(X_old>0,Diff/(X_old/100),0)\n"
     ]
    },
    {
     "name": "stdout",
     "output_type": "stream",
     "text": [
      "99 661372418562869.6\n"
     ]
    },
    {
     "name": "stderr",
     "output_type": "stream",
     "text": [
      "<ipython-input-47-05c28b79c98c>:3: RuntimeWarning: invalid value encountered in true_divide\n",
      "  Change=np.where(X_old>0,Diff/(X_old/100),0)\n"
     ]
    },
    {
     "name": "stdout",
     "output_type": "stream",
     "text": [
      "100 660800045581961.9\n",
      "0 Iteration\n",
      "Oracle 127881.68999999999\n",
      "stepi 1.0\n",
      "1 9986715503810866.0\n",
      "1 Iteration\n"
     ]
    },
    {
     "name": "stderr",
     "output_type": "stream",
     "text": [
      "<ipython-input-47-05c28b79c98c>:3: RuntimeWarning: divide by zero encountered in true_divide\n",
      "  Change=np.where(X_old>0,Diff/(X_old/100),0)\n",
      "<ipython-input-47-05c28b79c98c>:3: RuntimeWarning: invalid value encountered in true_divide\n",
      "  Change=np.where(X_old>0,Diff/(X_old/100),0)\n"
     ]
    },
    {
     "name": "stdout",
     "output_type": "stream",
     "text": [
      "Oracle 127956.85999999999\n",
      "stepi 0.5\n",
      "2 2694050408528432.0\n",
      "2 Iteration\n"
     ]
    },
    {
     "name": "stderr",
     "output_type": "stream",
     "text": [
      "<ipython-input-47-05c28b79c98c>:3: RuntimeWarning: divide by zero encountered in true_divide\n",
      "  Change=np.where(X_old>0,Diff/(X_old/100),0)\n",
      "<ipython-input-47-05c28b79c98c>:3: RuntimeWarning: invalid value encountered in true_divide\n",
      "  Change=np.where(X_old>0,Diff/(X_old/100),0)\n"
     ]
    },
    {
     "name": "stdout",
     "output_type": "stream",
     "text": [
      "Oracle 120421.65000000001\n",
      "stepi 0.3333333333333333\n",
      "3 1476736404348848.0\n",
      "3 Iteration\n"
     ]
    },
    {
     "name": "stderr",
     "output_type": "stream",
     "text": [
      "<ipython-input-47-05c28b79c98c>:3: RuntimeWarning: invalid value encountered in true_divide\n",
      "  Change=np.where(X_old>0,Diff/(X_old/100),0)\n"
     ]
    },
    {
     "name": "stdout",
     "output_type": "stream",
     "text": [
      "Oracle 120698.22\n",
      "stepi 0.25\n",
      "4 1227034325896683.5\n",
      "4 Iteration\n"
     ]
    },
    {
     "name": "stderr",
     "output_type": "stream",
     "text": [
      "<ipython-input-47-05c28b79c98c>:3: RuntimeWarning: divide by zero encountered in true_divide\n",
      "  Change=np.where(X_old>0,Diff/(X_old/100),0)\n",
      "<ipython-input-47-05c28b79c98c>:3: RuntimeWarning: invalid value encountered in true_divide\n",
      "  Change=np.where(X_old>0,Diff/(X_old/100),0)\n"
     ]
    },
    {
     "name": "stdout",
     "output_type": "stream",
     "text": [
      "Oracle 121375.31999999999\n",
      "stepi 0.2\n",
      "5 1082592764961621.8\n",
      "5 Iteration\n"
     ]
    },
    {
     "name": "stderr",
     "output_type": "stream",
     "text": [
      "<ipython-input-47-05c28b79c98c>:3: RuntimeWarning: divide by zero encountered in true_divide\n",
      "  Change=np.where(X_old>0,Diff/(X_old/100),0)\n",
      "<ipython-input-47-05c28b79c98c>:3: RuntimeWarning: invalid value encountered in true_divide\n",
      "  Change=np.where(X_old>0,Diff/(X_old/100),0)\n"
     ]
    },
    {
     "name": "stdout",
     "output_type": "stream",
     "text": [
      "Oracle 120069.84\n",
      "stepi 0.16666666666666666\n",
      "6 1006739019844423.6\n",
      "6 Iteration\n"
     ]
    },
    {
     "name": "stderr",
     "output_type": "stream",
     "text": [
      "<ipython-input-47-05c28b79c98c>:3: RuntimeWarning: divide by zero encountered in true_divide\n",
      "  Change=np.where(X_old>0,Diff/(X_old/100),0)\n",
      "<ipython-input-47-05c28b79c98c>:3: RuntimeWarning: invalid value encountered in true_divide\n",
      "  Change=np.where(X_old>0,Diff/(X_old/100),0)\n"
     ]
    },
    {
     "name": "stdout",
     "output_type": "stream",
     "text": [
      "Oracle 121719.86\n",
      "stepi 0.14285714285714285\n",
      "7 954428544191254.5\n",
      "7 Iteration\n"
     ]
    },
    {
     "name": "stderr",
     "output_type": "stream",
     "text": [
      "<ipython-input-47-05c28b79c98c>:3: RuntimeWarning: invalid value encountered in true_divide\n",
      "  Change=np.where(X_old>0,Diff/(X_old/100),0)\n"
     ]
    },
    {
     "name": "stdout",
     "output_type": "stream",
     "text": [
      "Oracle 120816.38999999998\n",
      "stepi 0.125\n",
      "8 925937077794990.8\n",
      "8 Iteration\n"
     ]
    },
    {
     "name": "stderr",
     "output_type": "stream",
     "text": [
      "<ipython-input-47-05c28b79c98c>:3: RuntimeWarning: invalid value encountered in true_divide\n",
      "  Change=np.where(X_old>0,Diff/(X_old/100),0)\n"
     ]
    },
    {
     "name": "stdout",
     "output_type": "stream",
     "text": [
      "Oracle 122883.29\n",
      "stepi 0.1111111111111111\n",
      "9 886932762280900.9\n",
      "9 Iteration\n"
     ]
    },
    {
     "name": "stderr",
     "output_type": "stream",
     "text": [
      "<ipython-input-47-05c28b79c98c>:3: RuntimeWarning: invalid value encountered in true_divide\n",
      "  Change=np.where(X_old>0,Diff/(X_old/100),0)\n"
     ]
    },
    {
     "name": "stdout",
     "output_type": "stream",
     "text": [
      "Oracle 123417.68\n",
      "stepi 0.1\n",
      "10 857411149110351.8\n",
      "10 Iteration\n"
     ]
    },
    {
     "name": "stderr",
     "output_type": "stream",
     "text": [
      "<ipython-input-47-05c28b79c98c>:3: RuntimeWarning: divide by zero encountered in true_divide\n",
      "  Change=np.where(X_old>0,Diff/(X_old/100),0)\n",
      "<ipython-input-47-05c28b79c98c>:3: RuntimeWarning: invalid value encountered in true_divide\n",
      "  Change=np.where(X_old>0,Diff/(X_old/100),0)\n"
     ]
    },
    {
     "name": "stdout",
     "output_type": "stream",
     "text": [
      "Oracle 122894.1\n",
      "stepi 0.09090909090909091\n",
      "11 836585088195910.4\n",
      "11 Iteration\n"
     ]
    },
    {
     "name": "stderr",
     "output_type": "stream",
     "text": [
      "<ipython-input-47-05c28b79c98c>:3: RuntimeWarning: invalid value encountered in true_divide\n",
      "  Change=np.where(X_old>0,Diff/(X_old/100),0)\n"
     ]
    },
    {
     "name": "stdout",
     "output_type": "stream",
     "text": [
      "Oracle 123234.57\n",
      "stepi 0.08333333333333333\n",
      "12 818788509356579.4\n",
      "12 Iteration\n"
     ]
    },
    {
     "name": "stderr",
     "output_type": "stream",
     "text": [
      "<ipython-input-47-05c28b79c98c>:3: RuntimeWarning: invalid value encountered in true_divide\n",
      "  Change=np.where(X_old>0,Diff/(X_old/100),0)\n"
     ]
    },
    {
     "name": "stdout",
     "output_type": "stream",
     "text": [
      "Oracle 122215.74999999999\n",
      "stepi 0.07692307692307693\n",
      "13 806263649262297.0\n",
      "13 Iteration\n"
     ]
    },
    {
     "name": "stderr",
     "output_type": "stream",
     "text": [
      "<ipython-input-47-05c28b79c98c>:3: RuntimeWarning: invalid value encountered in true_divide\n",
      "  Change=np.where(X_old>0,Diff/(X_old/100),0)\n"
     ]
    },
    {
     "name": "stdout",
     "output_type": "stream",
     "text": [
      "Oracle 125400.42000000001\n",
      "stepi 0.07142857142857142\n",
      "14 790136714453181.5\n",
      "14 Iteration\n"
     ]
    },
    {
     "name": "stderr",
     "output_type": "stream",
     "text": [
      "<ipython-input-47-05c28b79c98c>:3: RuntimeWarning: invalid value encountered in true_divide\n",
      "  Change=np.where(X_old>0,Diff/(X_old/100),0)\n"
     ]
    },
    {
     "name": "stdout",
     "output_type": "stream",
     "text": [
      "Oracle 124365.14\n",
      "stepi 0.06666666666666667\n",
      "15 780060335469305.8\n",
      "15 Iteration\n"
     ]
    },
    {
     "name": "stderr",
     "output_type": "stream",
     "text": [
      "<ipython-input-47-05c28b79c98c>:3: RuntimeWarning: divide by zero encountered in true_divide\n",
      "  Change=np.where(X_old>0,Diff/(X_old/100),0)\n",
      "<ipython-input-47-05c28b79c98c>:3: RuntimeWarning: invalid value encountered in true_divide\n",
      "  Change=np.where(X_old>0,Diff/(X_old/100),0)\n"
     ]
    },
    {
     "name": "stdout",
     "output_type": "stream",
     "text": [
      "Oracle 125560.07999999999\n",
      "stepi 0.0625\n",
      "16 768718259510809.6\n",
      "16 Iteration\n"
     ]
    },
    {
     "name": "stderr",
     "output_type": "stream",
     "text": [
      "<ipython-input-47-05c28b79c98c>:3: RuntimeWarning: invalid value encountered in true_divide\n",
      "  Change=np.where(X_old>0,Diff/(X_old/100),0)\n"
     ]
    },
    {
     "name": "stdout",
     "output_type": "stream",
     "text": [
      "Oracle 124936.05999999998\n",
      "stepi 0.058823529411764705\n",
      "17 758881512573821.1\n",
      "17 Iteration\n"
     ]
    },
    {
     "name": "stderr",
     "output_type": "stream",
     "text": [
      "<ipython-input-47-05c28b79c98c>:3: RuntimeWarning: divide by zero encountered in true_divide\n",
      "  Change=np.where(X_old>0,Diff/(X_old/100),0)\n",
      "<ipython-input-47-05c28b79c98c>:3: RuntimeWarning: invalid value encountered in true_divide\n",
      "  Change=np.where(X_old>0,Diff/(X_old/100),0)\n"
     ]
    },
    {
     "name": "stdout",
     "output_type": "stream",
     "text": [
      "Oracle 124931.52000000002\n",
      "stepi 0.05555555555555555\n",
      "18 750789016858938.1\n",
      "18 Iteration\n"
     ]
    },
    {
     "name": "stderr",
     "output_type": "stream",
     "text": [
      "<ipython-input-47-05c28b79c98c>:3: RuntimeWarning: invalid value encountered in true_divide\n",
      "  Change=np.where(X_old>0,Diff/(X_old/100),0)\n"
     ]
    },
    {
     "name": "stdout",
     "output_type": "stream",
     "text": [
      "Oracle 125066.81\n",
      "stepi 0.05263157894736842\n",
      "19 743488808491173.0\n",
      "19 Iteration\n"
     ]
    },
    {
     "name": "stderr",
     "output_type": "stream",
     "text": [
      "<ipython-input-47-05c28b79c98c>:3: RuntimeWarning: invalid value encountered in true_divide\n",
      "  Change=np.where(X_old>0,Diff/(X_old/100),0)\n"
     ]
    },
    {
     "name": "stdout",
     "output_type": "stream",
     "text": [
      "Oracle 124236.73\n",
      "stepi 0.05\n",
      "20 737962440719599.4\n",
      "20 Iteration\n"
     ]
    },
    {
     "name": "stderr",
     "output_type": "stream",
     "text": [
      "<ipython-input-47-05c28b79c98c>:3: RuntimeWarning: invalid value encountered in true_divide\n",
      "  Change=np.where(X_old>0,Diff/(X_old/100),0)\n"
     ]
    },
    {
     "name": "stdout",
     "output_type": "stream",
     "text": [
      "Oracle 126699.21\n",
      "stepi 0.047619047619047616\n",
      "21 731392141373350.6\n",
      "21 Iteration\n"
     ]
    },
    {
     "name": "stderr",
     "output_type": "stream",
     "text": [
      "<ipython-input-47-05c28b79c98c>:3: RuntimeWarning: invalid value encountered in true_divide\n",
      "  Change=np.where(X_old>0,Diff/(X_old/100),0)\n"
     ]
    },
    {
     "name": "stdout",
     "output_type": "stream",
     "text": [
      "Oracle 124936.07999999999\n",
      "stepi 0.045454545454545456\n",
      "22 726182056963445.2\n",
      "22 Iteration\n"
     ]
    },
    {
     "name": "stderr",
     "output_type": "stream",
     "text": [
      "<ipython-input-47-05c28b79c98c>:3: RuntimeWarning: divide by zero encountered in true_divide\n",
      "  Change=np.where(X_old>0,Diff/(X_old/100),0)\n",
      "<ipython-input-47-05c28b79c98c>:3: RuntimeWarning: invalid value encountered in true_divide\n",
      "  Change=np.where(X_old>0,Diff/(X_old/100),0)\n"
     ]
    },
    {
     "name": "stdout",
     "output_type": "stream",
     "text": [
      "Oracle 126735.46999999999\n",
      "stepi 0.043478260869565216\n",
      "23 720671771276463.8\n",
      "23 Iteration\n"
     ]
    },
    {
     "name": "stderr",
     "output_type": "stream",
     "text": [
      "<ipython-input-47-05c28b79c98c>:3: RuntimeWarning: divide by zero encountered in true_divide\n",
      "  Change=np.where(X_old>0,Diff/(X_old/100),0)\n",
      "<ipython-input-47-05c28b79c98c>:3: RuntimeWarning: invalid value encountered in true_divide\n",
      "  Change=np.where(X_old>0,Diff/(X_old/100),0)\n"
     ]
    },
    {
     "name": "stdout",
     "output_type": "stream",
     "text": [
      "Oracle 125414.98000000001\n",
      "stepi 0.041666666666666664\n",
      "24 716323051950083.5\n",
      "24 Iteration\n"
     ]
    },
    {
     "name": "stderr",
     "output_type": "stream",
     "text": [
      "<ipython-input-47-05c28b79c98c>:3: RuntimeWarning: divide by zero encountered in true_divide\n",
      "  Change=np.where(X_old>0,Diff/(X_old/100),0)\n",
      "<ipython-input-47-05c28b79c98c>:3: RuntimeWarning: invalid value encountered in true_divide\n",
      "  Change=np.where(X_old>0,Diff/(X_old/100),0)\n"
     ]
    },
    {
     "name": "stdout",
     "output_type": "stream",
     "text": [
      "Oracle 127243.69000000002\n",
      "stepi 0.04\n",
      "25 711402253072519.4\n",
      "25 Iteration\n"
     ]
    },
    {
     "name": "stderr",
     "output_type": "stream",
     "text": [
      "<ipython-input-47-05c28b79c98c>:3: RuntimeWarning: divide by zero encountered in true_divide\n",
      "  Change=np.where(X_old>0,Diff/(X_old/100),0)\n",
      "<ipython-input-47-05c28b79c98c>:3: RuntimeWarning: invalid value encountered in true_divide\n",
      "  Change=np.where(X_old>0,Diff/(X_old/100),0)\n"
     ]
    },
    {
     "name": "stdout",
     "output_type": "stream",
     "text": [
      "Oracle 126329.8\n",
      "stepi 0.038461538461538464\n",
      "26 707965485035553.6\n",
      "26 Iteration\n"
     ]
    },
    {
     "name": "stderr",
     "output_type": "stream",
     "text": [
      "<ipython-input-47-05c28b79c98c>:3: RuntimeWarning: invalid value encountered in true_divide\n",
      "  Change=np.where(X_old>0,Diff/(X_old/100),0)\n"
     ]
    },
    {
     "name": "stdout",
     "output_type": "stream",
     "text": [
      "Oracle 128164.64\n",
      "stepi 0.037037037037037035\n",
      "27 703438617468725.1\n",
      "27 Iteration\n"
     ]
    },
    {
     "name": "stderr",
     "output_type": "stream",
     "text": [
      "<ipython-input-47-05c28b79c98c>:3: RuntimeWarning: divide by zero encountered in true_divide\n",
      "  Change=np.where(X_old>0,Diff/(X_old/100),0)\n",
      "<ipython-input-47-05c28b79c98c>:3: RuntimeWarning: invalid value encountered in true_divide\n",
      "  Change=np.where(X_old>0,Diff/(X_old/100),0)\n"
     ]
    },
    {
     "name": "stdout",
     "output_type": "stream",
     "text": [
      "Oracle 125715.64\n",
      "stepi 0.03571428571428571\n",
      "28 700393115036992.5\n",
      "28 Iteration\n"
     ]
    },
    {
     "name": "stderr",
     "output_type": "stream",
     "text": [
      "<ipython-input-47-05c28b79c98c>:3: RuntimeWarning: divide by zero encountered in true_divide\n",
      "  Change=np.where(X_old>0,Diff/(X_old/100),0)\n",
      "<ipython-input-47-05c28b79c98c>:3: RuntimeWarning: invalid value encountered in true_divide\n",
      "  Change=np.where(X_old>0,Diff/(X_old/100),0)\n"
     ]
    },
    {
     "name": "stdout",
     "output_type": "stream",
     "text": [
      "Oracle 128192.28000000001\n",
      "stepi 0.034482758620689655\n",
      "29 696531606085122.1\n",
      "29 Iteration\n"
     ]
    },
    {
     "name": "stderr",
     "output_type": "stream",
     "text": [
      "<ipython-input-47-05c28b79c98c>:3: RuntimeWarning: invalid value encountered in true_divide\n",
      "  Change=np.where(X_old>0,Diff/(X_old/100),0)\n"
     ]
    },
    {
     "name": "stdout",
     "output_type": "stream",
     "text": [
      "Oracle 126660.61\n",
      "stepi 0.03333333333333333\n",
      "30 693727890049020.2\n",
      "30 Iteration\n"
     ]
    },
    {
     "name": "stderr",
     "output_type": "stream",
     "text": [
      "<ipython-input-47-05c28b79c98c>:3: RuntimeWarning: invalid value encountered in true_divide\n",
      "  Change=np.where(X_old>0,Diff/(X_old/100),0)\n"
     ]
    },
    {
     "name": "stdout",
     "output_type": "stream",
     "text": [
      "Oracle 129620.82999999999\n",
      "stepi 0.03225806451612903\n",
      "31 689864889299278.8\n",
      "31 Iteration\n"
     ]
    },
    {
     "name": "stderr",
     "output_type": "stream",
     "text": [
      "<ipython-input-47-05c28b79c98c>:3: RuntimeWarning: invalid value encountered in true_divide\n",
      "  Change=np.where(X_old>0,Diff/(X_old/100),0)\n"
     ]
    },
    {
     "name": "stdout",
     "output_type": "stream",
     "text": [
      "Oracle 128234.18\n",
      "stepi 0.03125\n",
      "32 686974677801482.2\n",
      "32 Iteration\n"
     ]
    },
    {
     "name": "stderr",
     "output_type": "stream",
     "text": [
      "<ipython-input-47-05c28b79c98c>:3: RuntimeWarning: invalid value encountered in true_divide\n",
      "  Change=np.where(X_old>0,Diff/(X_old/100),0)\n"
     ]
    },
    {
     "name": "stdout",
     "output_type": "stream",
     "text": [
      "Oracle 127669.52\n",
      "stepi 0.030303030303030304\n",
      "33 684415748018193.8\n",
      "33 Iteration\n"
     ]
    },
    {
     "name": "stderr",
     "output_type": "stream",
     "text": [
      "<ipython-input-47-05c28b79c98c>:3: RuntimeWarning: divide by zero encountered in true_divide\n",
      "  Change=np.where(X_old>0,Diff/(X_old/100),0)\n",
      "<ipython-input-47-05c28b79c98c>:3: RuntimeWarning: invalid value encountered in true_divide\n",
      "  Change=np.where(X_old>0,Diff/(X_old/100),0)\n"
     ]
    },
    {
     "name": "stdout",
     "output_type": "stream",
     "text": [
      "Oracle 129820.99\n",
      "stepi 0.029411764705882353\n",
      "34 681269372345508.0\n",
      "34 Iteration\n"
     ]
    },
    {
     "name": "stderr",
     "output_type": "stream",
     "text": [
      "<ipython-input-47-05c28b79c98c>:3: RuntimeWarning: invalid value encountered in true_divide\n",
      "  Change=np.where(X_old>0,Diff/(X_old/100),0)\n"
     ]
    },
    {
     "name": "stdout",
     "output_type": "stream",
     "text": [
      "Oracle 130157.36000000002\n",
      "stepi 0.02857142857142857\n",
      "35 678574693945644.4\n",
      "35 Iteration\n"
     ]
    },
    {
     "name": "stderr",
     "output_type": "stream",
     "text": [
      "<ipython-input-47-05c28b79c98c>:3: RuntimeWarning: divide by zero encountered in true_divide\n",
      "  Change=np.where(X_old>0,Diff/(X_old/100),0)\n",
      "<ipython-input-47-05c28b79c98c>:3: RuntimeWarning: invalid value encountered in true_divide\n",
      "  Change=np.where(X_old>0,Diff/(X_old/100),0)\n"
     ]
    },
    {
     "name": "stdout",
     "output_type": "stream",
     "text": [
      "Oracle 129822.01\n",
      "stepi 0.027777777777777776\n",
      "36 675877463702269.6\n",
      "36 Iteration\n"
     ]
    },
    {
     "name": "stderr",
     "output_type": "stream",
     "text": [
      "<ipython-input-47-05c28b79c98c>:3: RuntimeWarning: invalid value encountered in true_divide\n",
      "  Change=np.where(X_old>0,Diff/(X_old/100),0)\n"
     ]
    },
    {
     "name": "stdout",
     "output_type": "stream",
     "text": [
      "Oracle 128856.26\n",
      "stepi 0.02702702702702703\n",
      "37 673627118374340.0\n",
      "37 Iteration\n"
     ]
    },
    {
     "name": "stderr",
     "output_type": "stream",
     "text": [
      "<ipython-input-47-05c28b79c98c>:3: RuntimeWarning: invalid value encountered in true_divide\n",
      "  Change=np.where(X_old>0,Diff/(X_old/100),0)\n"
     ]
    },
    {
     "name": "stdout",
     "output_type": "stream",
     "text": [
      "Oracle 129353.07\n",
      "stepi 0.02631578947368421\n",
      "38 671598635000253.1\n",
      "38 Iteration\n"
     ]
    },
    {
     "name": "stderr",
     "output_type": "stream",
     "text": [
      "<ipython-input-47-05c28b79c98c>:3: RuntimeWarning: invalid value encountered in true_divide\n",
      "  Change=np.where(X_old>0,Diff/(X_old/100),0)\n"
     ]
    },
    {
     "name": "stdout",
     "output_type": "stream",
     "text": [
      "Oracle 129081.34999999996\n",
      "stepi 0.02564102564102564\n",
      "39 669609093175034.4\n",
      "39 Iteration\n"
     ]
    },
    {
     "name": "stderr",
     "output_type": "stream",
     "text": [
      "<ipython-input-47-05c28b79c98c>:3: RuntimeWarning: invalid value encountered in true_divide\n",
      "  Change=np.where(X_old>0,Diff/(X_old/100),0)\n"
     ]
    },
    {
     "name": "stdout",
     "output_type": "stream",
     "text": [
      "Oracle 130559.96\n",
      "stepi 0.025\n",
      "40 667405205736421.2\n",
      "40 Iteration\n"
     ]
    },
    {
     "name": "stderr",
     "output_type": "stream",
     "text": [
      "<ipython-input-47-05c28b79c98c>:3: RuntimeWarning: invalid value encountered in true_divide\n",
      "  Change=np.where(X_old>0,Diff/(X_old/100),0)\n"
     ]
    },
    {
     "name": "stdout",
     "output_type": "stream",
     "text": [
      "Oracle 130245.53999999998\n",
      "stepi 0.024390243902439025\n",
      "41 665378467144277.8\n",
      "41 Iteration\n"
     ]
    },
    {
     "name": "stderr",
     "output_type": "stream",
     "text": [
      "<ipython-input-47-05c28b79c98c>:3: RuntimeWarning: invalid value encountered in true_divide\n",
      "  Change=np.where(X_old>0,Diff/(X_old/100),0)\n"
     ]
    },
    {
     "name": "stdout",
     "output_type": "stream",
     "text": [
      "Oracle 127998.57\n",
      "stepi 0.023809523809523808\n",
      "42 664083050233680.9\n",
      "42 Iteration\n"
     ]
    },
    {
     "name": "stderr",
     "output_type": "stream",
     "text": [
      "<ipython-input-47-05c28b79c98c>:3: RuntimeWarning: invalid value encountered in true_divide\n",
      "  Change=np.where(X_old>0,Diff/(X_old/100),0)\n"
     ]
    },
    {
     "name": "stdout",
     "output_type": "stream",
     "text": [
      "Oracle 132840.76\n",
      "stepi 0.023255813953488372\n",
      "43 661734351553026.6\n",
      "43 Iteration\n"
     ]
    },
    {
     "name": "stderr",
     "output_type": "stream",
     "text": [
      "<ipython-input-47-05c28b79c98c>:3: RuntimeWarning: invalid value encountered in true_divide\n",
      "  Change=np.where(X_old>0,Diff/(X_old/100),0)\n"
     ]
    },
    {
     "name": "stdout",
     "output_type": "stream",
     "text": [
      "Oracle 129568.80000000002\n",
      "stepi 0.022727272727272728\n",
      "44 660366335391850.5\n",
      "44 Iteration\n"
     ]
    },
    {
     "name": "stderr",
     "output_type": "stream",
     "text": [
      "<ipython-input-47-05c28b79c98c>:3: RuntimeWarning: invalid value encountered in true_divide\n",
      "  Change=np.where(X_old>0,Diff/(X_old/100),0)\n"
     ]
    },
    {
     "name": "stdout",
     "output_type": "stream",
     "text": [
      "Oracle 130785.04999999997\n",
      "stepi 0.022222222222222223\n",
      "45 658681815700440.1\n",
      "45 Iteration\n"
     ]
    },
    {
     "name": "stderr",
     "output_type": "stream",
     "text": [
      "<ipython-input-47-05c28b79c98c>:3: RuntimeWarning: invalid value encountered in true_divide\n",
      "  Change=np.where(X_old>0,Diff/(X_old/100),0)\n"
     ]
    },
    {
     "name": "stdout",
     "output_type": "stream",
     "text": [
      "Oracle 128979.97000000003\n",
      "stepi 0.021739130434782608\n",
      "46 657417405039540.8\n",
      "46 Iteration\n"
     ]
    },
    {
     "name": "stderr",
     "output_type": "stream",
     "text": [
      "<ipython-input-47-05c28b79c98c>:3: RuntimeWarning: invalid value encountered in true_divide\n",
      "  Change=np.where(X_old>0,Diff/(X_old/100),0)\n"
     ]
    },
    {
     "name": "stdout",
     "output_type": "stream",
     "text": [
      "Oracle 130988.61000000002\n",
      "stepi 0.02127659574468085\n",
      "47 655899931732393.1\n",
      "47 Iteration\n"
     ]
    },
    {
     "name": "stderr",
     "output_type": "stream",
     "text": [
      "<ipython-input-47-05c28b79c98c>:3: RuntimeWarning: invalid value encountered in true_divide\n",
      "  Change=np.where(X_old>0,Diff/(X_old/100),0)\n"
     ]
    },
    {
     "name": "stdout",
     "output_type": "stream",
     "text": [
      "Oracle 129206.62000000001\n",
      "stepi 0.020833333333333332\n",
      "48 654863764745766.8\n",
      "48 Iteration\n"
     ]
    },
    {
     "name": "stderr",
     "output_type": "stream",
     "text": [
      "<ipython-input-47-05c28b79c98c>:3: RuntimeWarning: invalid value encountered in true_divide\n",
      "  Change=np.where(X_old>0,Diff/(X_old/100),0)\n"
     ]
    },
    {
     "name": "stdout",
     "output_type": "stream",
     "text": [
      "Oracle 131219.08\n",
      "stepi 0.02040816326530612\n",
      "49 653511710110190.1\n",
      "49 Iteration\n"
     ]
    },
    {
     "name": "stderr",
     "output_type": "stream",
     "text": [
      "<ipython-input-47-05c28b79c98c>:3: RuntimeWarning: invalid value encountered in true_divide\n",
      "  Change=np.where(X_old>0,Diff/(X_old/100),0)\n"
     ]
    },
    {
     "name": "stdout",
     "output_type": "stream",
     "text": [
      "Oracle 130134.75\n",
      "stepi 0.02\n",
      "50 652347656061820.8\n",
      "50 Iteration\n"
     ]
    },
    {
     "name": "stderr",
     "output_type": "stream",
     "text": [
      "<ipython-input-47-05c28b79c98c>:3: RuntimeWarning: invalid value encountered in true_divide\n",
      "  Change=np.where(X_old>0,Diff/(X_old/100),0)\n"
     ]
    },
    {
     "name": "stdout",
     "output_type": "stream",
     "text": [
      "Oracle 129775.11\n",
      "stepi 0.0196078431372549\n",
      "51 651298564149599.6\n",
      "51 Iteration\n"
     ]
    },
    {
     "name": "stderr",
     "output_type": "stream",
     "text": [
      "<ipython-input-47-05c28b79c98c>:3: RuntimeWarning: invalid value encountered in true_divide\n",
      "  Change=np.where(X_old>0,Diff/(X_old/100),0)\n"
     ]
    },
    {
     "name": "stdout",
     "output_type": "stream",
     "text": [
      "Oracle 128161.16000000002\n",
      "stepi 0.019230769230769232\n",
      "52 650505449752374.2\n",
      "52 Iteration\n"
     ]
    },
    {
     "name": "stderr",
     "output_type": "stream",
     "text": [
      "<ipython-input-47-05c28b79c98c>:3: RuntimeWarning: invalid value encountered in true_divide\n",
      "  Change=np.where(X_old>0,Diff/(X_old/100),0)\n"
     ]
    },
    {
     "name": "stdout",
     "output_type": "stream",
     "text": [
      "Oracle 131361.32\n",
      "stepi 0.018867924528301886\n",
      "53 649410700637751.0\n",
      "53 Iteration\n"
     ]
    },
    {
     "name": "stderr",
     "output_type": "stream",
     "text": [
      "<ipython-input-47-05c28b79c98c>:3: RuntimeWarning: invalid value encountered in true_divide\n",
      "  Change=np.where(X_old>0,Diff/(X_old/100),0)\n"
     ]
    },
    {
     "name": "stdout",
     "output_type": "stream",
     "text": [
      "Oracle 127695.62999999999\n",
      "stepi 0.018518518518518517\n",
      "54 648711165429259.0\n",
      "54 Iteration\n"
     ]
    },
    {
     "name": "stderr",
     "output_type": "stream",
     "text": [
      "<ipython-input-47-05c28b79c98c>:3: RuntimeWarning: invalid value encountered in true_divide\n",
      "  Change=np.where(X_old>0,Diff/(X_old/100),0)\n"
     ]
    },
    {
     "name": "stdout",
     "output_type": "stream",
     "text": [
      "Oracle 132121.12999999998\n",
      "stepi 0.01818181818181818\n",
      "55 647577155962884.1\n",
      "55 Iteration\n"
     ]
    },
    {
     "name": "stderr",
     "output_type": "stream",
     "text": [
      "<ipython-input-47-05c28b79c98c>:3: RuntimeWarning: divide by zero encountered in true_divide\n",
      "  Change=np.where(X_old>0,Diff/(X_old/100),0)\n",
      "<ipython-input-47-05c28b79c98c>:3: RuntimeWarning: invalid value encountered in true_divide\n",
      "  Change=np.where(X_old>0,Diff/(X_old/100),0)\n"
     ]
    },
    {
     "name": "stdout",
     "output_type": "stream",
     "text": [
      "Oracle 131726.83\n",
      "stepi 0.017857142857142856\n",
      "56 646593905333506.6\n",
      "56 Iteration\n"
     ]
    },
    {
     "name": "stderr",
     "output_type": "stream",
     "text": [
      "<ipython-input-47-05c28b79c98c>:3: RuntimeWarning: divide by zero encountered in true_divide\n",
      "  Change=np.where(X_old>0,Diff/(X_old/100),0)\n",
      "<ipython-input-47-05c28b79c98c>:3: RuntimeWarning: invalid value encountered in true_divide\n",
      "  Change=np.where(X_old>0,Diff/(X_old/100),0)\n"
     ]
    },
    {
     "name": "stdout",
     "output_type": "stream",
     "text": [
      "Oracle 130371.75000000001\n",
      "stepi 0.017543859649122806\n",
      "57 645685721565797.2\n",
      "57 Iteration\n"
     ]
    },
    {
     "name": "stderr",
     "output_type": "stream",
     "text": [
      "<ipython-input-47-05c28b79c98c>:3: RuntimeWarning: invalid value encountered in true_divide\n",
      "  Change=np.where(X_old>0,Diff/(X_old/100),0)\n"
     ]
    },
    {
     "name": "stdout",
     "output_type": "stream",
     "text": [
      "Oracle 132394.6\n",
      "stepi 0.017241379310344827\n",
      "58 644641689875091.6\n",
      "58 Iteration\n"
     ]
    },
    {
     "name": "stderr",
     "output_type": "stream",
     "text": [
      "<ipython-input-47-05c28b79c98c>:3: RuntimeWarning: invalid value encountered in true_divide\n",
      "  Change=np.where(X_old>0,Diff/(X_old/100),0)\n"
     ]
    },
    {
     "name": "stdout",
     "output_type": "stream",
     "text": [
      "Oracle 128175.46999999999\n",
      "stepi 0.01694915254237288\n",
      "59 644107207909091.4\n",
      "59 Iteration\n"
     ]
    },
    {
     "name": "stderr",
     "output_type": "stream",
     "text": [
      "<ipython-input-47-05c28b79c98c>:3: RuntimeWarning: invalid value encountered in true_divide\n",
      "  Change=np.where(X_old>0,Diff/(X_old/100),0)\n"
     ]
    },
    {
     "name": "stdout",
     "output_type": "stream",
     "text": [
      "Oracle 134268.61\n",
      "stepi 0.016666666666666666\n",
      "60 643043009716793.8\n",
      "60 Iteration\n"
     ]
    },
    {
     "name": "stderr",
     "output_type": "stream",
     "text": [
      "<ipython-input-47-05c28b79c98c>:3: RuntimeWarning: invalid value encountered in true_divide\n",
      "  Change=np.where(X_old>0,Diff/(X_old/100),0)\n"
     ]
    },
    {
     "name": "stdout",
     "output_type": "stream",
     "text": [
      "Oracle 129775.79000000001\n",
      "stepi 0.01639344262295082\n",
      "61 642371219277868.4\n",
      "61 Iteration\n"
     ]
    },
    {
     "name": "stderr",
     "output_type": "stream",
     "text": [
      "<ipython-input-47-05c28b79c98c>:3: RuntimeWarning: invalid value encountered in true_divide\n",
      "  Change=np.where(X_old>0,Diff/(X_old/100),0)\n"
     ]
    },
    {
     "name": "stdout",
     "output_type": "stream",
     "text": [
      "Oracle 129637.72\n",
      "stepi 0.016129032258064516\n",
      "62 641752611782698.0\n",
      "62 Iteration\n"
     ]
    },
    {
     "name": "stderr",
     "output_type": "stream",
     "text": [
      "<ipython-input-47-05c28b79c98c>:3: RuntimeWarning: invalid value encountered in true_divide\n",
      "  Change=np.where(X_old>0,Diff/(X_old/100),0)\n"
     ]
    },
    {
     "name": "stdout",
     "output_type": "stream",
     "text": [
      "Oracle 129791.65999999999\n",
      "stepi 0.015873015873015872\n",
      "63 641194135600705.0\n",
      "63 Iteration\n"
     ]
    },
    {
     "name": "stderr",
     "output_type": "stream",
     "text": [
      "<ipython-input-47-05c28b79c98c>:3: RuntimeWarning: invalid value encountered in true_divide\n",
      "  Change=np.where(X_old>0,Diff/(X_old/100),0)\n"
     ]
    },
    {
     "name": "stdout",
     "output_type": "stream",
     "text": [
      "Oracle 133553.79\n",
      "stepi 0.015625\n",
      "64 640319565224155.2\n",
      "64 Iteration\n"
     ]
    },
    {
     "name": "stderr",
     "output_type": "stream",
     "text": [
      "<ipython-input-47-05c28b79c98c>:3: RuntimeWarning: divide by zero encountered in true_divide\n",
      "  Change=np.where(X_old>0,Diff/(X_old/100),0)\n",
      "<ipython-input-47-05c28b79c98c>:3: RuntimeWarning: invalid value encountered in true_divide\n",
      "  Change=np.where(X_old>0,Diff/(X_old/100),0)\n"
     ]
    },
    {
     "name": "stdout",
     "output_type": "stream",
     "text": [
      "Oracle 129751.27999999998\n",
      "stepi 0.015384615384615385\n",
      "65 639735800468777.9\n",
      "65 Iteration\n"
     ]
    },
    {
     "name": "stderr",
     "output_type": "stream",
     "text": [
      "<ipython-input-47-05c28b79c98c>:3: RuntimeWarning: invalid value encountered in true_divide\n",
      "  Change=np.where(X_old>0,Diff/(X_old/100),0)\n"
     ]
    },
    {
     "name": "stdout",
     "output_type": "stream",
     "text": [
      "Oracle 130873.51\n",
      "stepi 0.015151515151515152\n",
      "66 639125768949904.0\n",
      "66 Iteration\n"
     ]
    },
    {
     "name": "stderr",
     "output_type": "stream",
     "text": [
      "<ipython-input-47-05c28b79c98c>:3: RuntimeWarning: invalid value encountered in true_divide\n",
      "  Change=np.where(X_old>0,Diff/(X_old/100),0)\n"
     ]
    },
    {
     "name": "stdout",
     "output_type": "stream",
     "text": [
      "Oracle 131676.88\n",
      "stepi 0.014925373134328358\n",
      "67 638480349761011.6\n",
      "67 Iteration\n"
     ]
    },
    {
     "name": "stderr",
     "output_type": "stream",
     "text": [
      "<ipython-input-47-05c28b79c98c>:3: RuntimeWarning: invalid value encountered in true_divide\n",
      "  Change=np.where(X_old>0,Diff/(X_old/100),0)\n"
     ]
    },
    {
     "name": "stdout",
     "output_type": "stream",
     "text": [
      "Oracle 130335.90999999997\n",
      "stepi 0.014705882352941176\n",
      "68 637951244492262.1\n",
      "68 Iteration\n"
     ]
    },
    {
     "name": "stderr",
     "output_type": "stream",
     "text": [
      "<ipython-input-47-05c28b79c98c>:3: RuntimeWarning: invalid value encountered in true_divide\n",
      "  Change=np.where(X_old>0,Diff/(X_old/100),0)\n"
     ]
    },
    {
     "name": "stdout",
     "output_type": "stream",
     "text": [
      "Oracle 131711.63999999998\n",
      "stepi 0.014492753623188406\n",
      "69 637315151271738.6\n",
      "69 Iteration\n"
     ]
    },
    {
     "name": "stderr",
     "output_type": "stream",
     "text": [
      "<ipython-input-47-05c28b79c98c>:3: RuntimeWarning: invalid value encountered in true_divide\n",
      "  Change=np.where(X_old>0,Diff/(X_old/100),0)\n"
     ]
    },
    {
     "name": "stdout",
     "output_type": "stream",
     "text": [
      "Oracle 131549.06999999998\n",
      "stepi 0.014285714285714285\n",
      "70 636727957006611.1\n",
      "70 Iteration\n"
     ]
    },
    {
     "name": "stderr",
     "output_type": "stream",
     "text": [
      "<ipython-input-47-05c28b79c98c>:3: RuntimeWarning: invalid value encountered in true_divide\n",
      "  Change=np.where(X_old>0,Diff/(X_old/100),0)\n"
     ]
    },
    {
     "name": "stdout",
     "output_type": "stream",
     "text": [
      "Oracle 131195.67\n",
      "stepi 0.014084507042253521\n",
      "71 636181617327063.6\n",
      "71 Iteration\n"
     ]
    },
    {
     "name": "stderr",
     "output_type": "stream",
     "text": [
      "<ipython-input-47-05c28b79c98c>:3: RuntimeWarning: invalid value encountered in true_divide\n",
      "  Change=np.where(X_old>0,Diff/(X_old/100),0)\n"
     ]
    },
    {
     "name": "stdout",
     "output_type": "stream",
     "text": [
      "Oracle 131809.32\n",
      "stepi 0.013888888888888888\n",
      "72 635624986727263.6\n",
      "72 Iteration\n"
     ]
    },
    {
     "name": "stderr",
     "output_type": "stream",
     "text": [
      "<ipython-input-47-05c28b79c98c>:3: RuntimeWarning: invalid value encountered in true_divide\n",
      "  Change=np.where(X_old>0,Diff/(X_old/100),0)\n"
     ]
    },
    {
     "name": "stdout",
     "output_type": "stream",
     "text": [
      "Oracle 132296.97\n",
      "stepi 0.0136986301369863\n",
      "73 635051065094536.9\n",
      "73 Iteration\n"
     ]
    },
    {
     "name": "stderr",
     "output_type": "stream",
     "text": [
      "<ipython-input-47-05c28b79c98c>:3: RuntimeWarning: invalid value encountered in true_divide\n",
      "  Change=np.where(X_old>0,Diff/(X_old/100),0)\n"
     ]
    },
    {
     "name": "stdout",
     "output_type": "stream",
     "text": [
      "Oracle 131117.32\n",
      "stepi 0.013513513513513514\n",
      "74 634553554637018.0\n",
      "74 Iteration\n"
     ]
    },
    {
     "name": "stderr",
     "output_type": "stream",
     "text": [
      "<ipython-input-47-05c28b79c98c>:3: RuntimeWarning: invalid value encountered in true_divide\n",
      "  Change=np.where(X_old>0,Diff/(X_old/100),0)\n"
     ]
    },
    {
     "name": "stdout",
     "output_type": "stream",
     "text": [
      "Oracle 131247.57\n",
      "stepi 0.013333333333333334\n",
      "75 634081954515279.5\n",
      "75 Iteration\n"
     ]
    },
    {
     "name": "stderr",
     "output_type": "stream",
     "text": [
      "<ipython-input-47-05c28b79c98c>:3: RuntimeWarning: invalid value encountered in true_divide\n",
      "  Change=np.where(X_old>0,Diff/(X_old/100),0)\n"
     ]
    },
    {
     "name": "stdout",
     "output_type": "stream",
     "text": [
      "Oracle 129720.20999999999\n",
      "stepi 0.013157894736842105\n",
      "76 633741131361232.5\n",
      "76 Iteration\n"
     ]
    },
    {
     "name": "stderr",
     "output_type": "stream",
     "text": [
      "<ipython-input-47-05c28b79c98c>:3: RuntimeWarning: invalid value encountered in true_divide\n",
      "  Change=np.where(X_old>0,Diff/(X_old/100),0)\n"
     ]
    },
    {
     "name": "stdout",
     "output_type": "stream",
     "text": [
      "Oracle 131436.17999999996\n",
      "stepi 0.012987012987012988\n",
      "77 633309241626057.1\n",
      "77 Iteration\n"
     ]
    },
    {
     "name": "stderr",
     "output_type": "stream",
     "text": [
      "<ipython-input-47-05c28b79c98c>:3: RuntimeWarning: invalid value encountered in true_divide\n",
      "  Change=np.where(X_old>0,Diff/(X_old/100),0)\n"
     ]
    },
    {
     "name": "stdout",
     "output_type": "stream",
     "text": [
      "Oracle 132193.33\n",
      "stepi 0.01282051282051282\n",
      "78 632813649159299.9\n",
      "78 Iteration\n"
     ]
    },
    {
     "name": "stderr",
     "output_type": "stream",
     "text": [
      "<ipython-input-47-05c28b79c98c>:3: RuntimeWarning: invalid value encountered in true_divide\n",
      "  Change=np.where(X_old>0,Diff/(X_old/100),0)\n"
     ]
    },
    {
     "name": "stdout",
     "output_type": "stream",
     "text": [
      "Oracle 129820.91\n",
      "stepi 0.012658227848101266\n",
      "79 632504253147288.6\n",
      "79 Iteration\n"
     ]
    },
    {
     "name": "stderr",
     "output_type": "stream",
     "text": [
      "<ipython-input-47-05c28b79c98c>:3: RuntimeWarning: invalid value encountered in true_divide\n",
      "  Change=np.where(X_old>0,Diff/(X_old/100),0)\n"
     ]
    },
    {
     "name": "stdout",
     "output_type": "stream",
     "text": [
      "Oracle 131098.28000000003\n",
      "stepi 0.0125\n",
      "80 632099967428361.9\n",
      "80 Iteration\n"
     ]
    },
    {
     "name": "stderr",
     "output_type": "stream",
     "text": [
      "<ipython-input-47-05c28b79c98c>:3: RuntimeWarning: invalid value encountered in true_divide\n",
      "  Change=np.where(X_old>0,Diff/(X_old/100),0)\n"
     ]
    },
    {
     "name": "stdout",
     "output_type": "stream",
     "text": [
      "Oracle 132715.21\n",
      "stepi 0.012345679012345678\n",
      "81 631657330560339.5\n",
      "81 Iteration\n"
     ]
    },
    {
     "name": "stderr",
     "output_type": "stream",
     "text": [
      "<ipython-input-47-05c28b79c98c>:3: RuntimeWarning: invalid value encountered in true_divide\n",
      "  Change=np.where(X_old>0,Diff/(X_old/100),0)\n"
     ]
    },
    {
     "name": "stdout",
     "output_type": "stream",
     "text": [
      "Oracle 134231.19\n",
      "stepi 0.012195121951219513\n",
      "82 631115261463969.1\n",
      "82 Iteration\n"
     ]
    },
    {
     "name": "stderr",
     "output_type": "stream",
     "text": [
      "<ipython-input-47-05c28b79c98c>:3: RuntimeWarning: invalid value encountered in true_divide\n",
      "  Change=np.where(X_old>0,Diff/(X_old/100),0)\n"
     ]
    },
    {
     "name": "stdout",
     "output_type": "stream",
     "text": [
      "Oracle 131313.69999999998\n",
      "stepi 0.012048192771084338\n",
      "83 630745987664825.5\n",
      "83 Iteration\n"
     ]
    },
    {
     "name": "stderr",
     "output_type": "stream",
     "text": [
      "<ipython-input-47-05c28b79c98c>:3: RuntimeWarning: invalid value encountered in true_divide\n",
      "  Change=np.where(X_old>0,Diff/(X_old/100),0)\n"
     ]
    },
    {
     "name": "stdout",
     "output_type": "stream",
     "text": [
      "Oracle 130144.58000000002\n",
      "stepi 0.011904761904761904\n",
      "84 630482035027569.9\n",
      "84 Iteration\n"
     ]
    },
    {
     "name": "stderr",
     "output_type": "stream",
     "text": [
      "<ipython-input-47-05c28b79c98c>:3: RuntimeWarning: invalid value encountered in true_divide\n",
      "  Change=np.where(X_old>0,Diff/(X_old/100),0)\n"
     ]
    },
    {
     "name": "stdout",
     "output_type": "stream",
     "text": [
      "Oracle 133680.86000000002\n",
      "stepi 0.011764705882352941\n",
      "85 630017901996273.9\n",
      "85 Iteration\n"
     ]
    },
    {
     "name": "stderr",
     "output_type": "stream",
     "text": [
      "<ipython-input-47-05c28b79c98c>:3: RuntimeWarning: invalid value encountered in true_divide\n",
      "  Change=np.where(X_old>0,Diff/(X_old/100),0)\n"
     ]
    },
    {
     "name": "stdout",
     "output_type": "stream",
     "text": [
      "Oracle 129602.25000000001\n",
      "stepi 0.011627906976744186\n",
      "86 629766313094424.2\n",
      "86 Iteration\n"
     ]
    },
    {
     "name": "stderr",
     "output_type": "stream",
     "text": [
      "<ipython-input-47-05c28b79c98c>:3: RuntimeWarning: invalid value encountered in true_divide\n",
      "  Change=np.where(X_old>0,Diff/(X_old/100),0)\n"
     ]
    },
    {
     "name": "stdout",
     "output_type": "stream",
     "text": [
      "Oracle 129392.48\n",
      "stepi 0.011494252873563218\n",
      "87 629561074896572.1\n",
      "87 Iteration\n"
     ]
    },
    {
     "name": "stderr",
     "output_type": "stream",
     "text": [
      "<ipython-input-47-05c28b79c98c>:3: RuntimeWarning: invalid value encountered in true_divide\n",
      "  Change=np.where(X_old>0,Diff/(X_old/100),0)\n"
     ]
    },
    {
     "name": "stdout",
     "output_type": "stream",
     "text": [
      "Oracle 133872.48\n",
      "stepi 0.011363636363636364\n",
      "88 629108929054352.1\n",
      "88 Iteration\n"
     ]
    },
    {
     "name": "stderr",
     "output_type": "stream",
     "text": [
      "<ipython-input-47-05c28b79c98c>:3: RuntimeWarning: invalid value encountered in true_divide\n",
      "  Change=np.where(X_old>0,Diff/(X_old/100),0)\n"
     ]
    },
    {
     "name": "stdout",
     "output_type": "stream",
     "text": [
      "Oracle 132023.71\n",
      "stepi 0.011235955056179775\n",
      "89 628800791592395.2\n",
      "89 Iteration\n"
     ]
    },
    {
     "name": "stderr",
     "output_type": "stream",
     "text": [
      "<ipython-input-47-05c28b79c98c>:3: RuntimeWarning: invalid value encountered in true_divide\n",
      "  Change=np.where(X_old>0,Diff/(X_old/100),0)\n"
     ]
    },
    {
     "name": "stdout",
     "output_type": "stream",
     "text": [
      "Oracle 133526.41999999998\n",
      "stepi 0.011111111111111112\n",
      "90 628444177435344.2\n",
      "90 Iteration\n"
     ]
    },
    {
     "name": "stderr",
     "output_type": "stream",
     "text": [
      "<ipython-input-47-05c28b79c98c>:3: RuntimeWarning: invalid value encountered in true_divide\n",
      "  Change=np.where(X_old>0,Diff/(X_old/100),0)\n"
     ]
    },
    {
     "name": "stdout",
     "output_type": "stream",
     "text": [
      "Oracle 130643.2\n",
      "stepi 0.01098901098901099\n",
      "91 628181872582306.6\n",
      "91 Iteration\n"
     ]
    },
    {
     "name": "stderr",
     "output_type": "stream",
     "text": [
      "<ipython-input-47-05c28b79c98c>:3: RuntimeWarning: invalid value encountered in true_divide\n",
      "  Change=np.where(X_old>0,Diff/(X_old/100),0)\n"
     ]
    },
    {
     "name": "stdout",
     "output_type": "stream",
     "text": [
      "Oracle 133137.94\n",
      "stepi 0.010869565217391304\n",
      "92 627819710160093.8\n",
      "92 Iteration\n"
     ]
    },
    {
     "name": "stderr",
     "output_type": "stream",
     "text": [
      "<ipython-input-47-05c28b79c98c>:3: RuntimeWarning: invalid value encountered in true_divide\n",
      "  Change=np.where(X_old>0,Diff/(X_old/100),0)\n"
     ]
    },
    {
     "name": "stdout",
     "output_type": "stream",
     "text": [
      "Oracle 130356.02\n",
      "stepi 0.010752688172043012\n",
      "93 627626188130021.0\n",
      "93 Iteration\n"
     ]
    },
    {
     "name": "stderr",
     "output_type": "stream",
     "text": [
      "<ipython-input-47-05c28b79c98c>:3: RuntimeWarning: invalid value encountered in true_divide\n",
      "  Change=np.where(X_old>0,Diff/(X_old/100),0)\n"
     ]
    },
    {
     "name": "stdout",
     "output_type": "stream",
     "text": [
      "Oracle 132668.97\n",
      "stepi 0.010638297872340425\n",
      "94 627279927699977.9\n",
      "94 Iteration\n"
     ]
    },
    {
     "name": "stderr",
     "output_type": "stream",
     "text": [
      "<ipython-input-47-05c28b79c98c>:3: RuntimeWarning: invalid value encountered in true_divide\n",
      "  Change=np.where(X_old>0,Diff/(X_old/100),0)\n"
     ]
    },
    {
     "name": "stdout",
     "output_type": "stream",
     "text": [
      "Oracle 131114.32\n",
      "stepi 0.010526315789473684\n",
      "95 627023864986843.1\n",
      "95 Iteration\n"
     ]
    },
    {
     "name": "stderr",
     "output_type": "stream",
     "text": [
      "<ipython-input-47-05c28b79c98c>:3: RuntimeWarning: divide by zero encountered in true_divide\n",
      "  Change=np.where(X_old>0,Diff/(X_old/100),0)\n",
      "<ipython-input-47-05c28b79c98c>:3: RuntimeWarning: invalid value encountered in true_divide\n",
      "  Change=np.where(X_old>0,Diff/(X_old/100),0)\n"
     ]
    },
    {
     "name": "stdout",
     "output_type": "stream",
     "text": [
      "Oracle 130497.91000000002\n",
      "stepi 0.010416666666666666\n",
      "96 626814999983100.0\n",
      "96 Iteration\n"
     ]
    },
    {
     "name": "stderr",
     "output_type": "stream",
     "text": [
      "<ipython-input-47-05c28b79c98c>:3: RuntimeWarning: invalid value encountered in true_divide\n",
      "  Change=np.where(X_old>0,Diff/(X_old/100),0)\n"
     ]
    },
    {
     "name": "stdout",
     "output_type": "stream",
     "text": [
      "Oracle 133217.12\n",
      "stepi 0.010309278350515464\n",
      "97 626490940658658.4\n",
      "97 Iteration\n"
     ]
    },
    {
     "name": "stderr",
     "output_type": "stream",
     "text": [
      "<ipython-input-47-05c28b79c98c>:3: RuntimeWarning: invalid value encountered in true_divide\n",
      "  Change=np.where(X_old>0,Diff/(X_old/100),0)\n"
     ]
    },
    {
     "name": "stdout",
     "output_type": "stream",
     "text": [
      "Oracle 131710.65\n",
      "stepi 0.01020408163265306\n",
      "98 626231640582461.8\n",
      "98 Iteration\n"
     ]
    },
    {
     "name": "stderr",
     "output_type": "stream",
     "text": [
      "<ipython-input-47-05c28b79c98c>:3: RuntimeWarning: invalid value encountered in true_divide\n",
      "  Change=np.where(X_old>0,Diff/(X_old/100),0)\n"
     ]
    },
    {
     "name": "stdout",
     "output_type": "stream",
     "text": [
      "Oracle 129688.90999999999\n",
      "stepi 0.010101010101010102\n",
      "99 626078922197676.0\n",
      "99 Iteration\n"
     ]
    },
    {
     "name": "stderr",
     "output_type": "stream",
     "text": [
      "<ipython-input-47-05c28b79c98c>:3: RuntimeWarning: invalid value encountered in true_divide\n",
      "  Change=np.where(X_old>0,Diff/(X_old/100),0)\n"
     ]
    },
    {
     "name": "stdout",
     "output_type": "stream",
     "text": [
      "Oracle 131067.73999999999\n",
      "stepi 0.01\n",
      "100 625842867004085.0\n"
     ]
    },
    {
     "name": "stderr",
     "output_type": "stream",
     "text": [
      "<ipython-input-47-05c28b79c98c>:3: RuntimeWarning: invalid value encountered in true_divide\n",
      "  Change=np.where(X_old>0,Diff/(X_old/100),0)\n"
     ]
    }
   ],
   "source": [
    "percentage=0.5\n",
    "x0=Initial()\n",
    "Result=Frank_Wolfe_percentage(x0,100,percentage)\n",
    "x0=Initial()\n",
    "Result1=Frank_Wolfe_NEP_percentage(x0,100,beta1,percentage)"
   ]
  },
  {
   "cell_type": "code",
   "execution_count": 51,
   "metadata": {},
   "outputs": [
    {
     "data": {
      "image/png": "[encoded data removed]",
      "text/plain": [
       "<Figure size 432x288 with 1 Axes>"
      ]
     },
     "metadata": {
      "needs_background": "light"
     },
     "output_type": "display_data"
    }
   ],
   "source": [
    "T=np.arange(100)\n",
    "#plt.ylim(0,10)\n",
    "\n",
    "plt.plot(T[1:],Result[1][1:],label='Standard')\n",
    "plt.plot(T[1:],Result1[1][1:],label='NEP')\n",
    "plt.legend()\n",
    "plt.ylim(0,500)\n",
    "plt.title('Berlin-Tiergarten max percentage change')\n",
    "plt.ylabel('max-percentage change')\n",
    "plt.xlabel('iterations')\n",
    "plt.savefig(\"Plot_percentage_Berlin.jpg\", dpi=1000)"
   ]
  },
  {
   "cell_type": "code",
   "execution_count": null,
   "metadata": {},
   "outputs": [],
   "source": []
  }
 ],
 "metadata": {
  "kernelspec": {
   "display_name": "Python 3 (ipykernel)",
   "language": "python",
   "name": "python3"
  },
  "language_info": {
   "codemirror_mode": {
    "name": "ipython",
    "version": 3
   },
   "file_extension": ".py",
   "mimetype": "text/x-python",
   "name": "python",
   "nbconvert_exporter": "python",
   "pygments_lexer": "ipython3",
   "version": "3.7.16"
  }
 },
 "nbformat": 4,
 "nbformat_minor": 4
}
